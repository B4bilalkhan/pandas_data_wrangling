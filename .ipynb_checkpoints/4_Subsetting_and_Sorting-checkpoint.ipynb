{
 "cells": [
  {
   "cell_type": "markdown",
   "metadata": {
    "colab_type": "text",
    "id": "scMKa-1MgEWn"
   },
   "source": [
    "# Subsetting and Sorting\n",
    "\n",
    "---\n",
    "\n",
    "When exploring our data we will often want to focus our attention to specific rows, columns, and entries that satisfy certian conditions, i.e. we want to work with a subset of the orignal data. This situation may occur because the source of your data was probably not using the information for the exact same purpose. \n",
    "\n",
    "Furthermore, it is often helpful to sort our data set using a particular relation to identify patterns and to understand the data's structure. For example, suppose the original data set we aquire and want to analyze describes a sport team's performance for each game during a season and it is original ordered in chronological order. It may be interesting to sort the game play statistics using a different relation such as number of points scored to easily identify high and low scoring games.\n",
    " \n",
    "For organizational purposes, we will begin, as always, with preparing our environment. Next, we move onto a review of the data set that we will be working with. Then we will cover subsetting techniques using  boolean (True and False) `DataFrames` and `Series`. Then we will move on to sorting methods. Finally, we will close this chapter with some basics of data visualization using `matplotlib.pyplot`."
   ]
  },
  {
   "cell_type": "markdown",
   "metadata": {
    "colab_type": "text",
    "id": "_u2Qpd3q9jIq"
   },
   "source": [
    "# Preparing our Environment\n",
    "\n",
    "---\n",
    "\n",
    "\n",
    "Per usual, we begin with preparing our environement by loading the necessary libraries. In this chapter we will again be using the pandas toolkit with the standard alias `pd`, `pandas` has a variety of very useful built in functionality that will help us explore our datasets including basic plottting.\n",
    "\n",
    "```python\n",
    "import pandas as pd\n",
    "```\n",
    "\n",
    "`pandas` creates plots using the very popular `Matplotlib` data visualization package. `Matplotlib` was designed over 15 years ago to resemble `MATLAB` but still is the most powerful framework. `Matplotlib` has spawned many add-on toolkits for data visualization that build on top of `Matplotlib` and make it easier to generate publication ready plots, including `pyplot`,  `seaborn`, `holoviews`,  and `ggplot`; `pandas` uses `pyplot`. The data visualization package `matplotlib.pyplot` is commonly imported with the alias `plt`, a norm we will follow.\n",
    "\n",
    "```python\n",
    "import matplotlib.pyplot as plt\n",
    "```\n",
    "\n",
    "To be able see plots directly in `Jupyter`, we need to instruct `matplotlib` to show plots `inline`; i.e., below the code used to create them. This is done using the following command.\n",
    "\n",
    "```python\n",
    "%matplotlib inline \n",
    "```"
   ]
  },
  {
   "cell_type": "code",
   "execution_count": 3,
   "metadata": {
    "colab": {},
    "colab_type": "code",
    "id": "8qLC2OZbAfhe"
   },
   "outputs": [],
   "source": [
    "import pandas as pd\n",
    "import matplotlib.pyplot as plt\n",
    "\n",
    "\n",
    "%matplotlib inline"
   ]
  },
  {
   "cell_type": "markdown",
   "metadata": {
    "colab_type": "text",
    "id": "_Wc-H5aBEZY0"
   },
   "source": [
    "# About the Data\n",
    "\n",
    "---\n",
    "\n",
    "Before we begin, here is a brief review of the data set we have been working with in our example:\n",
    "\n",
    "| Column |Description|\n",
    "|:----------|-----------|\n",
    "| `unique_id`| A unique identifier for a Medicare claim to CMS |\n",
    "| `doctor_id` | The Unique Identifier of the doctor who <br/> prescribed the medicine  |\n",
    "| `specialty` | The specialty of the doctor who prescribed the medicine |\n",
    "| `medication` | The medication prescribed |\n",
    "| `nb_beneficiaries` | The number of beneficiaries the <br/> medicine was prescribed to  |\n",
    "| `spending` | The total cost of the medicine prescribed <br/>for the CMS |\n",
    "\n",
    "The data stored in the file `'Data/spending_10k.csv'` is a subset of the complete dataset that is publicly available on the Centers for Medicare & Medicaid Services website ([`CMS` website](https://www.cms.gov/OpenPayments/Explore-the-Data/Dataset-Downloads.html)). This file has a header containing the labels of the column names so we will leave the `read_csv` `header` parameter to its default setting when we read the file using `pd.read_csv()`. We also would like to use the `unique_id` column as the index rather than a range of integers, so we will pass the name of the column, `unique_id`, to the `index_col` parameter of the `pd.read_csv()` function."
   ]
  },
  {
   "cell_type": "code",
   "execution_count": 23,
   "metadata": {
    "colab": {},
    "colab_type": "code",
    "id": "7M6A85qTIW1M"
   },
   "outputs": [],
   "source": [
    "spending_df = pd.read_csv('Data/spending_10k.csv', index_col='unique_id')"
   ]
  },
  {
   "cell_type": "markdown",
   "metadata": {},
   "source": [
    "# Exercise 4.0: Importing the Honolulu Flights Data Set\n",
    "\n",
    "For some of the exercises in this chapter we will again be working with the data set contained in the 'honolulu_flights.csv' file. Please recall that this data set contains information about all the arriving and departing flights in and out of the Honolulu aiport, HNL, on the Island of Oahu during the month of December 2015. The data set contains the following columns:\n",
    "\n",
    "| Column |Description|\n",
    "|:----------|-----------|\n",
    "| `YEAR` | The year of the flight  |\n",
    "| `MONTH` |  The month of the flight |\n",
    "| `DAY` |  The day of the flight |\n",
    "| `DAY_OF_WEEK` |  The day of the week of the flight |\n",
    "| `FLIGHT_NUMBER` |  The flight number of the flight |\n",
    "| `ORIGIN_AIRPORT` |  The origin airport of the flight  |\n",
    "| `DESTINATION_AIRPORT` |  The destination airport of the flight |\n",
    "| `DEPARTURE_DELAY` |  The departure delay of the flight  |\n",
    "| `DISTANCE` |  The distance of the flight in miles |\n",
    "| `AIR_TIME` |  The flight time without taxiing in minutes |\n",
    "| `ARRIVAL_DELAY` |  The arrival delay of the flight  |\n",
    "\n",
    "Be sure to build the `HNL_flights_df DataFrame` before trying the exercises in this chapter related to the Honolulu flights data set. To do this run the code in the following cell."
   ]
  },
  {
   "cell_type": "code",
   "execution_count": 5,
   "metadata": {},
   "outputs": [],
   "source": [
    "HNL_flights_df = pd.read_csv('Data/honolulu_flights.csv')"
   ]
  },
  {
   "cell_type": "markdown",
   "metadata": {},
   "source": [
    "# Subsetting \n",
    "\n",
    "We briefly mentioned subsetting in the $1^{st}$ chapter: *Introduction to pandas Data Structures*. There we were indexing rows and columns and we saw that we could retrieve multiple Rows and Columns at once by passing a list of *labels* or *Integer-locations*. We also saw that, as with Python `lists`, subsetting for both `DataFrames` and `Series` can be carried out with the **range** operator \":\". In this chapter we will see how we could subset our `Data` using **Comparison** and **Boolean** operations to create boolean (True and False) `DataFrames` and `Series`."
   ]
  },
  {
   "cell_type": "markdown",
   "metadata": {
    "colab_type": "text",
    "id": "dCjOGvOmh7OG"
   },
   "source": [
    "## Comparison Operations\n",
    "\n",
    "Comparison Operations (\"<\" , \">\" , \"==\" , \">=\" , \"<=\" , \"<>\" , \"!=\") are applied to pandas `Series` and `DataFrames` in the same vectorized fashion as arithmetic operations except the returned object is a `Series` or `DataFrame` of Booleans (either True or False).\n",
    "\n",
    "To demonstrate the concepts needed to subset `DataFrames` let us create three new `DataFrame`s `df_1`,  `df_2`, and `df_3`. \n",
    "\n",
    "```python\n",
    ">>> df_1 = pd.DataFrame({'AA':{'A':79, 'C':2, 'T':12, 'X':21},\n",
    "                         'BB':{'A':11, 'C':2, 'T':2, 'X':9}})\n",
    ">>> df_2 = pd.DataFrame({'AA':{'A':21,'D':14,'T':5},\n",
    "                         'CC':{'A':12,'D':28,'T':121}})\n",
    ">>> df_3 = pd.DataFrame({'AA':{'A':64, 'C':2, 'T':6, 'X':22}, \n",
    "                         'BB':{'A':3, 'C':2, 'T':7, 'X':12}})\n",
    "```\n",
    "\n",
    "Now let us examine what happens when we use the \">\" operator between `df_1.loc[:, 'AA']` and `df_3.loc[:, 'AA']`.\n",
    "\n",
    "```python\n",
    ">>> df_1.loc[:, \"AA\"] > df_3.loc[:, \"AA\"]\n",
    "A     True\n",
    "C    False\n",
    "T     True\n",
    "X    False\n",
    "Name: AA, dtype: bool\n",
    "```\n",
    "\n",
    "The result of this operation is a new `Series` with the same indices as both `df_1` and `df_2` and with all entries of type `bool`.  The entries at a given index tell us whether the value at the an index in `df_1[\"AA\"]` is greater than the value at the same index in `df_3[\"AA\"]`. For instance, we can see that the entry at index 'A' in the `Series` `df_1[AA]` is indeed greater than the entry at label 'A' in `df_3['AA']`.\n",
    "\n",
    "Now for an important note: comparisons between 2 `Series` or `DataFrames` can only be done if both objects are identically labeled or we will get the following error:\n",
    "\n",
    "```python\n",
    ">>> df_1.loc[:, \"AA\"] > df_2.loc[:, \"AA\"]\n",
    "...\n",
    "ValueError: Can only compare identically-labeled Series objects\n",
    "```\n",
    "\n",
    "This is why we created the new `df_3` data frame as we did, so that its indices matched that of `df_1`. "
   ]
  },
  {
   "cell_type": "code",
   "execution_count": 11,
   "metadata": {
    "colab": {},
    "colab_type": "code",
    "id": "EDN5mfqQn19O"
   },
   "outputs": [
    {
     "data": {
      "text/plain": [
       "A     True\n",
       "C    False\n",
       "T     True\n",
       "X    False\n",
       "Name: AA, dtype: bool"
      ]
     },
     "execution_count": 11,
     "metadata": {},
     "output_type": "execute_result"
    }
   ],
   "source": [
    "df_1 = pd.DataFrame({'AA':{'A':79, 'C':2, 'T':12, 'X':21},\n",
    "                     'BB':{'A':11, 'C':2, 'T':2, 'X':9}})\n",
    "\n",
    "df_2 = pd.DataFrame({'AA':{'A':21,'D':14,'T':5},\n",
    "                     'CC':{'A':12,'D':28,'T':121}})\n",
    "\n",
    "df_3 = pd.DataFrame({'AA':{'A':64, 'C':2, 'T':6, 'X':22},\n",
    "                     'BB':{'A':3, 'C':2, 'T':7, 'X':12}})\n",
    "\n",
    "df_1[\"AA\"] > df_3[\"AA\"]"
   ]
  },
  {
   "cell_type": "markdown",
   "metadata": {
    "colab_type": "text",
    "id": "E-MJyvA0V_kc"
   },
   "source": [
    "### Comparison Operations  and Indexing\n",
    "\n",
    "Comparison operators are ideal for querying and subsetting . We can subset a `Series` using another equally sized list or `Series` of `Boolean`s.\n",
    "\n",
    "Let us take a look at the following example. We will subset the `Series` `df_1['AA']`, i.e. the `AA` column of `df_1`, using a manually constructed list of `Booleans`. The list of `Booleans` is carefully made so that it is the exact same size as the `Series`. They **must** be the same number of entries, otherwise this will not work.  \n",
    "\n",
    "```python\n",
    ">>> df_1.loc[:, 'AA'][[True, True, False, False]]\n",
    "A    79\n",
    "C     2\n",
    "Name: AA, dtype: int64\n",
    "```\n",
    "\n",
    "We see in the above example that a new `Series` is returned with only the entries positionally aligned with the True values in the list that we passed.\n",
    "\n",
    "We can also subset `DataFrames` using other equally shaped `DataFrame` of `Boolean`s. To show this we will subset the `DataFrame` `df_1` by creating a new `Boolean` `DataFrame` of the same size that was created using a comparison operation, specifically `df_1 > df_3`.\n",
    "\n",
    "```python\n",
    ">>> df_1[df_1 > df_3]\n",
    "       AA    BB\n",
    "A  79.0  11.0\n",
    "C   NaN   NaN\n",
    "T  12.0   NaN\n",
    "X   NaN   NaN\n",
    "```\n",
    "\n",
    "We see that a `DataFrame` is returned where the entries aligned with the `False` values are replaced with `NaN`s. The only values not missing are those that were larger than their corresponding entries in `df_3`. \n",
    "\n",
    "Lastly, let us observe the fact that a `DataFrame`  can also be subsetted with a `Boolean` `Series` or `list`, and we will see a slightly different result than when we subsetted using a `DataFrame`. Suppose we want a subset of the `DataFrame` `df_1` with only the rows where the `AA` column entry of the row is greater than the entry in the same position of the `DataFrame` `df_2`. We could do this using the following command:\n",
    "\n",
    "```python\n",
    ">>>> df_1.loc[df_1.loc[:, 'AA'] > df_3.loc[:, 'AA'], :]\n",
    "     AA  BB\n",
    "A  79  11\n",
    "T  12   2\n",
    "```\n",
    "\n",
    "In the example above we can first look at what is inside the square brackets, `[df_1['AA'] > df_3['AA']]`. This comparison operator will result in a `Boolean` `Series` where the entries tell us whether or not the entry in `df_1['AA']` was greater than in `df_3['AA']`, this example was shown in the section above on comparison operations. The new `Series` is then used to subset the `DataFrame` `df_1` by rows, i.e. the row in position $i$ will exist in the new subsetted `DataFrame` if the `Series` entry at $i$ is `True`.\n",
    "\n",
    "The same can be done on the `row` dimension as shown in the example below:\n",
    "```python\n",
    ">>> df_1.loc[:, df_1.loc[:, 'T'] > df_3.loc[:, 'T']]\n",
    "     BB\n",
    "A    11\n",
    "C    2\n",
    "T    2\n",
    "X    9 \n",
    "```\n",
    "\n",
    "Let us take an extra moment to look at an illustrated example breaking down subsetting a `DataFrame` with a boolean list, as it is an important concept that will be used often.\n",
    "\n",
    "\n",
    "![](images/filter_dataframe.png )\n",
    "\n",
    "The image above shows the procedure of subsetting a `DataFrame` with a `Boolean` list or `Series`. The `Boolean` list is first aligned by position with the `DataFrame` rows. Every row that aligns with a True value is kept and every row that aligns with a False value is removed, leaving a subset of the original `DataFrame`."
   ]
  },
  {
   "cell_type": "code",
   "execution_count": 0,
   "metadata": {
    "colab": {},
    "colab_type": "code",
    "id": "X71kcE8ZpMWx"
   },
   "outputs": [],
   "source": [
    "df_1.loc[:, 'AA'][[True, True, False, False]]"
   ]
  },
  {
   "cell_type": "code",
   "execution_count": 0,
   "metadata": {
    "colab": {},
    "colab_type": "code",
    "id": "fLRtQ9WTp1Cw"
   },
   "outputs": [],
   "source": [
    "df_1[df_1 > df_3]"
   ]
  },
  {
   "cell_type": "code",
   "execution_count": 0,
   "metadata": {
    "colab": {},
    "colab_type": "code",
    "id": "2xkdYowmqowg"
   },
   "outputs": [],
   "source": [
    "df_1.loc[df_1.loc[:, 'AA'] > df_3.loc[:, 'AA'], :]"
   ]
  },
  {
   "cell_type": "code",
   "execution_count": 0,
   "metadata": {
    "colab": {},
    "colab_type": "code",
    "id": "Jvm0Oazenvco"
   },
   "outputs": [],
   "source": [
    "df_1.loc[:,df_1.loc['T'] > df_3.loc['T']]"
   ]
  },
  {
   "cell_type": "markdown",
   "metadata": {
    "colab_type": "text",
    "id": "sFHCbFRCMGa1"
   },
   "source": [
    "# Exercise 4.1: Subsetting with Comparison Operations\n",
    "\n",
    "\n",
    "Consider the honolulu flights data set. Suppose we want to focus our attention to flights that had arrival delays. Which line of code will correctly return a subset of `HNL_flights_df` containg only flights that had a positive arrival delay?\n",
    "\n",
    "\n",
    "A:\n",
    "```python\n",
    "HNL_flights_df.loc[:, 'ARRIVAL_DELAY'] > 0\n",
    "```\n",
    "\n",
    "B:\n",
    "```python\n",
    "HNL_flights_df[HNL_flights_df.loc[:, 'ARRIVAL_DELAY'] > 0]\n",
    "```\n",
    "\n",
    "C:\n",
    "```python\n",
    "HNL_flights_df.loc[:, 'ARRIVAL_DELAY' > 0]\n",
    "```\n",
    "\n",
    "D:\n",
    "```python\n",
    "HNL_flights_df[HNL_flights_df > 0]\n",
    "```\n",
    "\n",
    "Hint: Feel free to use the code cell below to try these commands out. For the incorrect options, make note of what is going wrong and or what errors are being thrown."
   ]
  },
  {
   "cell_type": "code",
   "execution_count": 0,
   "metadata": {
    "colab": {},
    "colab_type": "code",
    "id": "54yK892IMQHA"
   },
   "outputs": [],
   "source": [
    "# Exercise 4.1 Scratch Code Cell"
   ]
  },
  {
   "cell_type": "markdown",
   "metadata": {
    "colab_type": "text",
    "id": "3YRBdeK5h--o"
   },
   "source": [
    "## Boolean Operations\n",
    "\n",
    "We can compose conditional expressions to create more sophisticated queries for our dataset. To do this we use `Boolean` operations. The `Boolean` operations that native Python uses are slightly different than what pandas will recognize. Python's \"`and`\" is replaced with \"`&`\", \" `or` \" is replaced with \"`|`\" , and \"`not`\"  is replaced with \"`~`\"\n",
    "\n",
    "Let us find the rows of the toy `DataFrame` `df_1`, where both the entries in the `AA` and `BB` columns are greater than those in `df_3`\n",
    "\n",
    "```python\n",
    ">>> true_false_series = (df_1['AA'] > df_3['AA']) & (df_1['BB'] > df_3['BB']) \n",
    ">>> df_1[true_false_series]\n",
    "   AA  BB\n",
    "A  79  11\n",
    "```\n",
    "\n",
    "In the example above we first created two `Boolean` `Series`, one that identifies where `df_1['AA']` is greater than `df_3['AA']`, and the other identifies where `df_1['BB']` is greater than `df_3['BB']`. These two `Series` are then \"anded\" together to make a new `Boolean` `Series` using the logical `&` operator. This `&` operator will check whether the entries in the same positions of the two `Series` `(df_1['AA'] > df_3['AA'])` and `(df_1['BB'] > df_3['BB'])` are both `True`, and if so the entry in the new `Series` will also be `True`, otherwise it will be `False`.  This new `Boolean` `Series` identifies where both the entries in the `AA` and `BB` columns in `df_1`are greater than those in `df_3`. Lastly we use the new `Series` to subset the `DataFrame` `df_1`. The resulting subset of `df_1` is the `DataFrame` with rows where both the entries in the `AA` and `BB` columns of `df_1` are greater than those in `df_3`."
   ]
  },
  {
   "cell_type": "code",
   "execution_count": 12,
   "metadata": {
    "colab": {},
    "colab_type": "code",
    "id": "pjLeIIdgvX3e"
   },
   "outputs": [
    {
     "data": {
      "text/html": [
       "<div>\n",
       "<style scoped>\n",
       "    .dataframe tbody tr th:only-of-type {\n",
       "        vertical-align: middle;\n",
       "    }\n",
       "\n",
       "    .dataframe tbody tr th {\n",
       "        vertical-align: top;\n",
       "    }\n",
       "\n",
       "    .dataframe thead th {\n",
       "        text-align: right;\n",
       "    }\n",
       "</style>\n",
       "<table border=\"1\" class=\"dataframe\">\n",
       "  <thead>\n",
       "    <tr style=\"text-align: right;\">\n",
       "      <th></th>\n",
       "      <th>AA</th>\n",
       "      <th>BB</th>\n",
       "    </tr>\n",
       "  </thead>\n",
       "  <tbody>\n",
       "    <tr>\n",
       "      <th>A</th>\n",
       "      <td>79</td>\n",
       "      <td>11</td>\n",
       "    </tr>\n",
       "  </tbody>\n",
       "</table>\n",
       "</div>"
      ],
      "text/plain": [
       "   AA  BB\n",
       "A  79  11"
      ]
     },
     "execution_count": 12,
     "metadata": {},
     "output_type": "execute_result"
    }
   ],
   "source": [
    "true_false_series = (df_1['AA'] > df_3['AA']) & (df_1['BB'] > df_3['BB']) \n",
    "df_1[true_false_series]"
   ]
  },
  {
   "cell_type": "markdown",
   "metadata": {
    "colab_type": "text",
    "id": "3HzjmNVfuWXi"
   },
   "source": [
    "### Boolean Operations Examples with the Medical Spending Data Set\n",
    "\n",
    "We saw subsetting with basic `DataFrames`, now lets look at our `spending_df` `DataFrame`, something more similar to what you might see in practice.\n",
    "\n",
    "Suppose we wanted to find the rows where the `specialty` was 'Dentist' and the spending was below \\$100 and save the results to a new `DataFrame`. To do this we could first make a `boolean` `Series` that will index our `DataFrame` as desired by composing the conditional statements: `(spending_df['specialty'] == 'DENTIST')` and ` (spending_df['spending'] < 100)` with the `&` operator. Then we could subset the original `DataFrame` using our `boolean` `Series` and save the result into a new `DataFrame`, call it `small_spending_dentist_df`. \n",
    "\n",
    "```python\n",
    ">>> dentist_and_small_spender = (spending_df.loc[:, 'specialty'] == 'DENTIST') & (spending_df.loc[:, 'spending'] < 100)\n",
    ">>> small_spending_dentist_df = spending_df.loc[dentist_and_small_spender,  :]\n",
    ">>> small_spending_dentist_df.head(n=2)\n",
    "              doctor_id specialty medication  nb_beneficiaries  spending\n",
    "unique_id                                                             \n",
    "XY759578   1114930567   DENTIST  IBUPROFEN                23     67.19\n",
    "NR408938   1407936230   DENTIST  IBUPROFEN                20     64.20\n",
    "```"
   ]
  },
  {
   "cell_type": "code",
   "execution_count": 21,
   "metadata": {
    "colab": {},
    "colab_type": "code",
    "id": "Ucfq9wi9UbVs"
   },
   "outputs": [
    {
     "data": {
      "text/html": [
       "<div>\n",
       "<style scoped>\n",
       "    .dataframe tbody tr th:only-of-type {\n",
       "        vertical-align: middle;\n",
       "    }\n",
       "\n",
       "    .dataframe tbody tr th {\n",
       "        vertical-align: top;\n",
       "    }\n",
       "\n",
       "    .dataframe thead th {\n",
       "        text-align: right;\n",
       "    }\n",
       "</style>\n",
       "<table border=\"1\" class=\"dataframe\">\n",
       "  <thead>\n",
       "    <tr style=\"text-align: right;\">\n",
       "      <th></th>\n",
       "      <th>doctor_id</th>\n",
       "      <th>specialty</th>\n",
       "      <th>medication</th>\n",
       "      <th>nb_beneficiaries</th>\n",
       "      <th>spending</th>\n",
       "    </tr>\n",
       "    <tr>\n",
       "      <th>unique_id</th>\n",
       "      <th></th>\n",
       "      <th></th>\n",
       "      <th></th>\n",
       "      <th></th>\n",
       "      <th></th>\n",
       "    </tr>\n",
       "  </thead>\n",
       "  <tbody>\n",
       "    <tr>\n",
       "      <th>XY759578</th>\n",
       "      <td>1114930567</td>\n",
       "      <td>DENTIST</td>\n",
       "      <td>IBUPROFEN</td>\n",
       "      <td>23</td>\n",
       "      <td>67.19</td>\n",
       "    </tr>\n",
       "    <tr>\n",
       "      <th>NR408938</th>\n",
       "      <td>1407936230</td>\n",
       "      <td>DENTIST</td>\n",
       "      <td>IBUPROFEN</td>\n",
       "      <td>20</td>\n",
       "      <td>64.20</td>\n",
       "    </tr>\n",
       "  </tbody>\n",
       "</table>\n",
       "</div>"
      ],
      "text/plain": [
       "            doctor_id specialty medication  nb_beneficiaries  spending\n",
       "unique_id                                                             \n",
       "XY759578   1114930567   DENTIST  IBUPROFEN                23     67.19\n",
       "NR408938   1407936230   DENTIST  IBUPROFEN                20     64.20"
      ]
     },
     "execution_count": 21,
     "metadata": {},
     "output_type": "execute_result"
    }
   ],
   "source": [
    "dentist_and_small_spender = (spending_df.specialty == 'DENTIST') & (spending_df.spending < 100)\n",
    "small_spending_dentist_df = spending_df.loc[dentist_and_small_spender, :]\n",
    "small_spending_dentist_df.head(n=2)"
   ]
  },
  {
   "cell_type": "markdown",
   "metadata": {
    "colab_type": "text",
    "id": "yKdbLqM3P-6p"
   },
   "source": [
    "# Exercise 4.2: Subsetting with Boolean Operations\n",
    "\n",
    "Suppose we wanted to now focus on flights that had *both* departure and arrival delays. Which line of code will correctly return a subset of `HNL_flights_df` containing only flights that had both departure and arrival delays?\n",
    "\n",
    "A:\n",
    "```python\n",
    "HNL_flights_df[(HNL_flights_df.loc[:, 'ARRIVAL_DELAY'] > 0) | (HNL_flights_df.loc[:, 'DEPARTURE_DELAY'] > 0)]\n",
    "```\n",
    "\n",
    "B:\n",
    "```python\n",
    "HNL_flights_df[(HNL_flights_df.loc[:, 'ARRIVAL_DELAY'] > 0) & (HNL_flights_df.loc[:, 'DEPARTURE_DELAY'] > 0)]\n",
    "```\n",
    "\n",
    "C:\n",
    "```python\n",
    "HNL_flights_df[(HNL_flights_df.loc[:, 'ARRIVAL_DELAY'] > 0) && (HNL_flights_df.loc[:, 'DEPARTURE_DELAY'] > 0)]\n",
    "```\n",
    "\n",
    "D:\n",
    "```python\n",
    "HNL_flights_df[(HNL_flights_df.loc[:, 'ARRIVAL_DELAY'] > 0) & (HNL_flights_df.loc[:, 'DEPARTURE_DELAY'] > 0)]\n",
    "```\n",
    "\n",
    "Hint: Feel free to use the code cell below to try these commands out. For the incorrect options, make note of what is going wrong and or what errors are being thrown."
   ]
  },
  {
   "cell_type": "code",
   "execution_count": 6,
   "metadata": {
    "colab": {},
    "colab_type": "code",
    "id": "WxlJzRRFQEOW"
   },
   "outputs": [],
   "source": [
    "# Exercise 4.2 Scratch Code Cell"
   ]
  },
  {
   "cell_type": "markdown",
   "metadata": {
    "colab_type": "text",
    "id": "45tZYcTLidqs"
   },
   "source": [
    "# Sorting\n",
    "\n",
    "---\n",
    "\n",
    "We may want to see the data sorted by some criterion to explore potential patterns and order statistics of the entries based on a relation. Consider `spending_df`,  we could order this `DataFrame` by spending amount from high to low, or from low to high. In the following sections we will learn how to do just that."
   ]
  },
  {
   "cell_type": "markdown",
   "metadata": {
    "colab_type": "text",
    "id": "VE6tdG5xjgf5"
   },
   "source": [
    "## Sorting by Index\n",
    "\n",
    "We can easily sort a `DataFrame` lexicographically, i.e. alphbetically, by either its row or column index using the built-in pandas `DataFrame` `sort_index()` method. We may specify whether we want to sort using the row or column index using the familiar `axis` parameter. Additionally, we may specify whether we want to sort in descending order by setting the `ascending` parameter to `False`.  \n",
    "\n",
    "For example let us sort the `index` of the `spending_df` `DataFrame`.\n",
    "\n",
    "```python\n",
    ">>> spending_df.sort_index().head(n=2)\n",
    "            doctor_id          specialty                    medication  ...\n",
    "unique_id                                                                \n",
    "AA137628   1619994506  INTERNAL MEDICINE            PRAVASTATIN SODIUM   \n",
    "AA150698   1124243563         CARDIOLOGY  FENOFIBRATE NANOCRYSTALLIZED \n",
    "```\n",
    "In this example we see that a `DataFrame` is returned so that the original is not altered, i.e. a copy was made. We also chained methods when we called the `head()` method on the returned `DataFrame`, this is so that we do not attempt to print all 10k entries in the data set. We see that the first two indices are AA137628 and AA150698, which tells us the sort was successful since those two entries are in lexicographical order and they seem to be two entries that would be high on the order since they start with AA.\n",
    "\n",
    "More information about the `sort_index` method may be found at the [pandas Documentation](https://pandas.pydata.org/pandas-docs/stable/generated/pandas.DataFrame.sort_index.html)."
   ]
  },
  {
   "cell_type": "code",
   "execution_count": 24,
   "metadata": {
    "colab": {},
    "colab_type": "code",
    "id": "oKFniAdQUS7P"
   },
   "outputs": [
    {
     "data": {
      "text/html": [
       "<div>\n",
       "<style scoped>\n",
       "    .dataframe tbody tr th:only-of-type {\n",
       "        vertical-align: middle;\n",
       "    }\n",
       "\n",
       "    .dataframe tbody tr th {\n",
       "        vertical-align: top;\n",
       "    }\n",
       "\n",
       "    .dataframe thead th {\n",
       "        text-align: right;\n",
       "    }\n",
       "</style>\n",
       "<table border=\"1\" class=\"dataframe\">\n",
       "  <thead>\n",
       "    <tr style=\"text-align: right;\">\n",
       "      <th></th>\n",
       "      <th>doctor_id</th>\n",
       "      <th>specialty</th>\n",
       "      <th>medication</th>\n",
       "      <th>nb_beneficiaries</th>\n",
       "      <th>spending</th>\n",
       "    </tr>\n",
       "    <tr>\n",
       "      <th>unique_id</th>\n",
       "      <th></th>\n",
       "      <th></th>\n",
       "      <th></th>\n",
       "      <th></th>\n",
       "      <th></th>\n",
       "    </tr>\n",
       "  </thead>\n",
       "  <tbody>\n",
       "    <tr>\n",
       "      <th>AA137628</th>\n",
       "      <td>1619994506</td>\n",
       "      <td>INTERNAL MEDICINE</td>\n",
       "      <td>PRAVASTATIN SODIUM</td>\n",
       "      <td>17</td>\n",
       "      <td>722.11</td>\n",
       "    </tr>\n",
       "    <tr>\n",
       "      <th>AA150698</th>\n",
       "      <td>1124243563</td>\n",
       "      <td>CARDIOLOGY</td>\n",
       "      <td>FENOFIBRATE NANOCRYSTALLIZED</td>\n",
       "      <td>29</td>\n",
       "      <td>1327.06</td>\n",
       "    </tr>\n",
       "  </tbody>\n",
       "</table>\n",
       "</div>"
      ],
      "text/plain": [
       "            doctor_id          specialty                    medication  \\\n",
       "unique_id                                                                \n",
       "AA137628   1619994506  INTERNAL MEDICINE            PRAVASTATIN SODIUM   \n",
       "AA150698   1124243563         CARDIOLOGY  FENOFIBRATE NANOCRYSTALLIZED   \n",
       "\n",
       "           nb_beneficiaries  spending  \n",
       "unique_id                              \n",
       "AA137628                 17    722.11  \n",
       "AA150698                 29   1327.06  "
      ]
     },
     "execution_count": 24,
     "metadata": {},
     "output_type": "execute_result"
    }
   ],
   "source": [
    "spending_df.sort_index().head(n=2)"
   ]
  },
  {
   "cell_type": "markdown",
   "metadata": {
    "colab_type": "text",
    "id": "Vra9sOJpjpX-"
   },
   "source": [
    "## Sorting by Value\n",
    "\n",
    "We may also wish to sort a `DataFrame` by the values in one of its columns. To do this we use the pandas `DataFrame` `sort_values()` method. The `sort_values()` method has a required parameter, `by`, that needs to be provided the name(s) of the column(s) we wish to sort the `DataFrame` by.\n",
    "\n",
    "For example suppose we wanted to create a new `DataFrame` that is sorted in descending order by the values in the column 'sorting'. To do this we would type:\n",
    "\n",
    "```python\n",
    ">>> spending_df.sort_values(by='spending', ascending=False).head(n=2).loc[:, ['specialty', 'medication', 'spending']]\n",
    "                     specialty             medication   spending\n",
    "unique_id                                                     \n",
    "RU995312   PULMONARY DISEASE            AMBRISENTAN  892027.00\n",
    "SJ341179    GASTROENTEROLOGY  LEDIPASVIR/SOFOSBUVIR  855440.65\n",
    "```\n",
    "\n",
    "We first sorted the `DataFrame` by the values in the `spending` column to create a new `DataFrame` using the `sort_values()` `DataFrame` method with `by='spending'` and `ascending=False`. Then we called the `head()` method on the new `DataFrame` to retrieve the first 2 rows. Lastly, we indexed the `DataFrame` so that only the index and the 3 columns: `specialty`, `medication`, and `spending` are displayed. The result is as desired, a new `DataFrame` sorted in descending order by the values in the `spending` column, i.e. the top 'spending' rows are first in the `DataFrame`. "
   ]
  },
  {
   "cell_type": "code",
   "execution_count": 0,
   "metadata": {
    "colab": {},
    "colab_type": "code",
    "id": "S3mOciAtcwPh"
   },
   "outputs": [],
   "source": [
    "spending_df.sort_values('spending', ascending=False).head(n=2).loc[:,\n",
    "    ['specialty', 'medication', 'spending']]"
   ]
  },
  {
   "cell_type": "markdown",
   "metadata": {
    "colab_type": "text",
    "id": "HqoDAgUuNBfp"
   },
   "source": [
    "# Exercise 4.3: Sorting\n",
    "\n",
    "Which line of code will correctly sort `HNL_flights_df` by the arrival delay in order of greates to least, i.e. in descending order?\n",
    "\n",
    "A:\n",
    "```python\n",
    "HNL_flights_df.sort_values(by='ARRIVAL_DELAY', ascending = False)\n",
    "```\n",
    "\n",
    "B:\n",
    "```python\n",
    "HNL_flights_df.sort_values(by='ARRIVAL_DELAY', ascending = True))\n",
    "```\n",
    "\n",
    "C:\n",
    "```python\n",
    "HNL_flights_df.sort_index(by='ARRIVAL_DELAY')\n",
    "```\n",
    "\n",
    "D:\n",
    "```python\n",
    "HNL_flights_df.sort(by='ARRIVAL_DELAY', ascending = False)\n",
    "```\n",
    "\n",
    "Hint: Feel free to use the code cell below to try these commands out. For the incorrect options, make note of what is going wrong and or what errors are being thrown."
   ]
  },
  {
   "cell_type": "code",
   "execution_count": 7,
   "metadata": {
    "colab": {},
    "colab_type": "code",
    "id": "A9ubD0iKPL76"
   },
   "outputs": [],
   "source": [
    "# Exercise 4.3 Scratch Code Cell"
   ]
  },
  {
   "cell_type": "markdown",
   "metadata": {
    "colab_type": "text",
    "id": "BGmnjkgEgYy6"
   },
   "source": [
    "# (Some) Data Visualization \n",
    "\n",
    "---\n",
    "\n",
    "Data Visualization is a very broad topic and we will not go into much depth; there is more than enough content to justify semester long courses on the topic. \n",
    "\n",
    "However, `pandas` does provide some very easy to use functionality to produce basic plots and it is a great tool for exploring your data. Visualizing your data can help you spot trends and errors very quickly, which is why it is a useful tool for data wrangling.\n",
    "\n",
    "An example of an error you may find from plotting is extreme outliers in the data set. Although additional research would be needed to confirm these errors, plotting your data is a great place to start looking"
   ]
  },
  {
   "cell_type": "markdown",
   "metadata": {
    "colab_type": "text",
    "id": "gym4DIsiiZ3U"
   },
   "source": [
    "## The `DataFrame` `plot` method\n",
    "\n",
    "The `plot` method that can be called by any `pandas` `DataFrame` is quite versatile and can make the following kinds of plots:\n",
    "\n",
    "| Kind |Description|\n",
    "|:----------|-----------|\n",
    "| `line`| line plot (default) |\n",
    "| `bar` | vertical bar plot  |\n",
    "| `barh` | horizontal bar plot |\n",
    "| `hist` | histogram |\n",
    "| `box` | boxplot  |\n",
    "| `kde` | Kernel Density Estimation plot |\n",
    "| `area` | area plot |\n",
    "| `pie` | pie plot |\n",
    "| `scatter` | scatter plot |\n",
    "| `hexbin` | hexbin plot |\n",
    "\n",
    " Each kind of plot will require different preparations based on what you would like to show, but we will walk through a basic example of plotting a bar chart of the total spending by doctor specialties. \n",
    " \n",
    " To do this we will load a new data set from the file: 'spending_by_specialty.csv' with the following 2 columns\n",
    "\n",
    "| Column |Description|\n",
    "|:----------|-----------|\n",
    "| `Specialty`| The specialty of the doctors who prescribed the medicine (index). |\n",
    "| `total_spending` | The total spending of all the doctors with the specialty. |\n",
    "\n",
    "This data set was built from the data set we have been working with, and we will cover how it was done in the coming Chapter 4: *Data Preparation and Cleaning*\n",
    "\n",
    "If interested, you can learn more about the `plot()` method at the [pandas Documentation website](https://pandas.pydata.org/pandas-docs/stable/generated/pandas.DataFrame.plot.html#pandas.DataFrame.plot)\n"
   ]
  },
  {
   "cell_type": "code",
   "execution_count": 25,
   "metadata": {
    "colab": {},
    "colab_type": "code",
    "id": "Q0epVuIRobM-"
   },
   "outputs": [],
   "source": [
    "spending_by_specialty_df = pd.read_csv('data/spending_by_specialty.csv', \n",
    "                                   index_col='specialty')"
   ]
  },
  {
   "cell_type": "markdown",
   "metadata": {
    "colab_type": "text",
    "id": "QxUIBo2nrLS4"
   },
   "source": [
    "## The `DataFrame` `plot` method Bar Graph Example\n",
    "\n",
    "Now that we have the `DataFrame` with the total spending by each specialty we can start building our bar chart. To begin we must let `pyplot` know we are starting a new figure, to do this we use the following syntax:\n",
    "\n",
    "```\n",
    "plt.figure()\n",
    "```\n",
    "\n",
    "Since there are 75 specialties in total we should focus our attention on the top 20 spenders so that the plot is not too crowded. To do this we can sort the `DataFrame` by the `Spending` column in descending order and  chain the `head`method on the returned `DataFrame` with `n=20`. Finally, we can call the `plot()` method with the `kind` parameter set to 'bar'\n",
    "\n",
    "```python\n",
    "spending_by_specialty_df.sort_values('spending').head(n=20).plot(kind='bar')\n",
    "```\n",
    "\n",
    "In Jupyter our plot will automatically show, but if you are working in a Python console then you need to tell `pyplot` to show the figure you have built using the `show()` method of `plt`.\n",
    "\n",
    "```python\n",
    "plt.show()\n",
    "```"
   ]
  },
  {
   "cell_type": "code",
   "execution_count": 9,
   "metadata": {
    "colab": {},
    "colab_type": "code",
    "id": "eW2-n5kP0Kzp"
   },
   "outputs": [
    {
     "data": {
      "text/plain": [
       "<matplotlib.axes._subplots.AxesSubplot at 0x10c9b7da0>"
      ]
     },
     "execution_count": 9,
     "metadata": {},
     "output_type": "execute_result"
    },
    {
     "data": {
      "text/plain": [
       "<Figure size 432x288 with 0 Axes>"
      ]
     },
     "metadata": {},
     "output_type": "display_data"
    },
    {
     "data": {
      "image/png": "[encoded data removed]",
      "text/plain": [
       "<Figure size 432x288 with 1 Axes>"
      ]
     },
     "metadata": {},
     "output_type": "display_data"
    }
   ],
   "source": [
    "plt.figure()\n",
    "spending_by_specialty_df.sort_values('spending', ascending=False).head(n=20).plot(kind='bar')"
   ]
  },
  {
   "cell_type": "markdown",
   "metadata": {
    "colab_type": "text",
    "id": "0LJYevev1Ppg"
   },
   "source": [
    "### Plot Examples\n",
    "\n",
    "You can make some really neat plots using `pandas` along with `matplotlib`\n",
    "![](images/matplotlib.png)"
   ]
  },
  {
   "cell_type": "markdown",
   "metadata": {
    "colab_type": "text",
    "id": "rDqp54zSkBIM"
   },
   "source": [
    "# Summary\n",
    "\n",
    "---\n",
    "\n",
    "**Subsetting**\n",
    "\n",
    "* Comparison operators are ideal for querying and subsetting the `DataFrame` \n",
    "* We can subset a `Series` using another equally sized list (or a `Series`) of `Boolean`s\n",
    "* Comparison Operations (\"<\" , \">\" , \"==\" , \">=\" , \"<=\" , \"<>\" , \"!=\") are applied to pandas `Series` and `DataFrames` in the same vectorized fashion as arithmetic operations except the returned object is a `Series` or `DataFrame` of Booleans (either True or False).\n",
    "\n",
    "![](images.filter_dataframe.png)\n",
    "\n",
    "**Sorting**\n",
    "\n",
    "* To sort a `DataFrame` by the values in one of its columns we use the [`pandas` `DataFrame` `sort_values()` method](https://pandas.pydata.org/pandas-docs/stable/generated/pandas.DataFrame.sort_values.html)\n",
    "\n",
    "**Data Visualization**\n",
    "\n",
    "* The `plot` method that may be called by any `pandas` `DataFrame` is quite versatile and can make the following kinds of plots:\n",
    "\n",
    "| Kind |Description|\n",
    "|:----------|-----------|\n",
    "| `line`| line plot (default) |\n",
    "| `bar` | vertical bar plot  |\n",
    "| `barh` | horizontal bar plot |\n",
    "| `hist` | histogram |\n",
    "| `box` | boxplot  |\n",
    "| `kde` | Kernel Density Estimation plot |\n",
    "| `area` | area plot |\n",
    "| `pie` | pie plot |\n",
    "| `scatter` | scatter plot |\n",
    "| `hexbin` | hexbin plot |\n",
    "\n",
    "  * To learn more about the `plot` method please see the [pandas Documentation](https://pandas.pydata.org/pandas-docs/stable/generated/pandas.DataFrame.plot.html#pandas.DataFrame.plot)\n",
    "\n"
   ]
  },
  {
   "cell_type": "code",
   "execution_count": null,
   "metadata": {},
   "outputs": [],
   "source": []
  }
 ],
 "metadata": {
  "colab": {
   "collapsed_sections": [
    "0LJYevev1Ppg"
   ],
   "name": "3_Exploring_Data.ipynb",
   "provenance": [],
   "toc_visible": true,
   "version": "0.3.2"
  },
  "kernelspec": {
   "display_name": "Python 3",
   "language": "python",
   "name": "python3"
  },
  "language_info": {
   "codemirror_mode": {
    "name": "ipython",
    "version": 3
   },
   "file_extension": ".py",
   "mimetype": "text/x-python",
   "name": "python",
   "nbconvert_exporter": "python",
   "pygments_lexer": "ipython3",
   "version": "3.7.1"
  },
  "toc": {
   "base_numbering": 1,
   "nav_menu": {},
   "number_sections": true,
   "sideBar": true,
   "skip_h1_title": false,
   "title_cell": "Table of Contents",
   "title_sidebar": "Contents",
   "toc_cell": false,
   "toc_position": {},
   "toc_section_display": true,
   "toc_window_display": true
  }
 },
 "nbformat": 4,
 "nbformat_minor": 1
}
