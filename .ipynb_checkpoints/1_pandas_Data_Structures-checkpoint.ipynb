{
 "cells": [
  {
   "cell_type": "markdown",
   "metadata": {
    "colab_type": "text",
    "id": "zY9sFJicKJA7"
   },
   "source": [
    "# Introduction to pandas Data Structures\n",
    "\n",
    "\n",
    "---\n",
    "\n",
    "In this chapter, you will become familiar with the 2 primary data structures of `pandas`: `Series` and `DataFrames`.  The reason we use `Series` and `DataFrames` rather than native `python` data structures to hold our data is because there are additional attributes and methods associated with `Series` and `DataFrames` that will be useful for wrangling and analytics. We will see that one of the primary benefits of `Series` and `DataFrames` over native python data structures is that it is a very natural way to describe a data set in an excel-like manner by referencing the rows and columns of our data with labels of our choosing.\n"
   ]
  },
  {
   "cell_type": "markdown",
   "metadata": {
    "colab_type": "text",
    "id": "hJbjvbP71gGc"
   },
   "source": [
    "## Preparing our Environment\n",
    "\n",
    "---\n",
    "\n",
    "\n",
    "At the start of every chapter we will be importing any additional modules necessary for our execution environment. In this chapter all we will be needing is the `pandas` `Python` package, commonly aliased as `pd`.\n"
   ]
  },
  {
   "cell_type": "code",
   "execution_count": 0,
   "metadata": {
    "colab": {},
    "colab_type": "code",
    "id": "QeabwALH3BV6"
   },
   "outputs": [],
   "source": [
    "import pandas as pd"
   ]
  },
  {
   "cell_type": "markdown",
   "metadata": {
    "colab_type": "text",
    "id": "RtQ-O4b3uDZU"
   },
   "source": [
    "## About the Data\n",
    "\n",
    "---\n",
    "\n",
    "We will be manually constructing `Series` and `DataFrames` to gain a deeper understanding of these data structures, specifically how they are organized and how we can interact with them. To illustrate points in this chapter we will be using a framework for a data set that describes prescription orders made by doctors. The data structures we will be building will contain one or more of the following features:\n",
    "\n",
    "| Feature |Description|\n",
    "|:----------|-----------|\n",
    "| `unique_id`| A unique identifier for a Medicare claim to the Center for Medicare and Medicaid Services (CMS) |\n",
    "| `doctor_id` | The Unique Identifier of the doctor who <br/> prescribed the medicine  |\n",
    "| `specialty` | The specialty of the doctor prescribed the medicine |\n",
    "| `medication` | The medication prescribed |\n",
    "| `nb_beneficiaries` | The number of beneficiaries the <br/> medicine was prescribed to  |\n",
    "| `spending` | The total cost of the medicine prescribed <br/>for the CMS |"
   ]
  },
  {
   "cell_type": "markdown",
   "metadata": {
    "colab_type": "text",
    "id": "I8WFILLN1De1"
   },
   "source": [
    "## Pandas `Series` Vs. `DataFrames`\n",
    "\n",
    "---\n",
    "\n",
    "Pandas has two principal data structures, `Series` and `DataFrames`. If you are familiar with Microsoft's Excel application then you can liken `Series` to single columns (or rows) in an Excel sheet and `DataFrames` to entire tables (or spreadsheets).\n",
    "\n",
    "![](images/ExcelToPandas.png)\n",
    "\n",
    "We see in the image above that a `Series` in the context of Excel could be the first row of the spreadsheet, while a `DataFrame` would be the entire spreadsheet. In other words, a `DataFrame` is simply a collection of labeled `Series`.\n",
    "\n"
   ]
  },
  {
   "cell_type": "markdown",
   "metadata": {
    "colab_type": "text",
    "id": "20eRKyIzPpGz"
   },
   "source": [
    "## `Series`\n",
    "\n",
    "---\n",
    "\n",
    "Relating to native `python` data structures, `Series` are most like `python` `lists` in that both are ordered collections of items. However, two important differences between `python` `lists` and `pandas` `Series` is that all the items stored in a `Series` are of the same datatype and `Series` contain  a user-defined array of labels for each data entry called the `Index`.\n",
    "\n",
    "![](images/series.png)\n",
    "\n",
    "In the image above each data entry in the right hand column has a corresponding label stored in the left hand column. These labels, as we will see, are in fact flexible and may be whatever we wish. \n",
    "\n",
    "Also note that the data entries looked mixed in the image, some entries are strings like 'DIAZEPAM' while other entries look like integers for example '3', but we said earlier that `Series` are  made up of data of the same type. This is still true, the way `pandas` handles storing data that would be mixed in native `python` is by casting all the data to what it calls 'objects'. "
   ]
  },
  {
   "cell_type": "markdown",
   "metadata": {
    "colab_type": "text",
    "id": "Sak42l9izCZN"
   },
   "source": [
    "### `pandas` Data Types\n",
    "\n",
    "When creating a `Series` `pandas` will store all the data as the same type. The mapping from the native `python` types to what they would be in `pandas` is summarized below. \n",
    "\n",
    "| Python Type | Equivalent `pandas` Type | Description | \n",
    "|:-------------|:------------------------|:-------------|\n",
    "| `string or mixed` | `object` |  Columns contain partially or completely made up from strings|\n",
    "| `int`   | `int64` | Columns with numeric (inetger) values. The 64 here referes <br/>to size of the memory space allocated to this type| \n",
    "| `float` | `float64` | Columns with floating points numbers (numbers with decimal points) | \n",
    "|`bool`| `bool` | True/False values |\n",
    "\n",
    "* The `datetime64` type will not be discussed here."
   ]
  },
  {
   "cell_type": "markdown",
   "metadata": {
    "colab_type": "text",
    "id": "J0MktkLmVtgZ"
   },
   "source": [
    "# Exercise 1.1 `pandas` Data Types\n",
    "\n",
    "What will the `pandas` data type of the following `Series` be?\n",
    "\n",
    "|  | \n",
    "|:-------------|:------------------------|\n",
    "| `food` | 'poke' |\n",
    "| `drink`   | 'tea' |\n",
    "| `price` | `10.00` | \n",
    "\n",
    "A: object\n",
    "\n",
    "B: int64\n",
    "\n",
    "C: float64\n",
    "\n",
    "D: bool"
   ]
  },
  {
   "cell_type": "markdown",
   "metadata": {
    "colab_type": "text",
    "id": "PgkH8jgcRsnD"
   },
   "source": [
    "### Creating Series From Python Data Structures\n",
    "\n",
    "Two ways we can create a pandas `Series` from native `Python` Data Structures is from `lists` and `dicts`. To construct a `Series` we will be using the `pandas` `Series()` function. The `Series` we build in these examples can be thought of as single row entries of the running example dataset discussed earlier in the *About the Data* section of this chapter. \n",
    "\n",
    " 1. To create a pandas `Series` from a Python `list` we can use the following syntax:\n",
    " \n",
    "```python\n",
    ">>> s1 = pd.Series([1234, 'DIAZEPAM', 3, '$32'])\n",
    ">>> s1\n",
    "0        1234\n",
    "1    DIAZEPAM\n",
    "2           3\n",
    "3         $32\n",
    "dtype: object\n",
    "```\n",
    "\n",
    "Note that the values in the left hand column are the indices labeling the data in the right hand column, and since we only passed a list of data entries to the `pandas` `Series()` function, `pandas` had to infer an index. By default `pandas` will index the data using a range of integers starting from 0. Also notice that the `pandas` data type of each entry is printed. In this example each data entry is stored as a pandas object, this is because the provided list was a list of mixed native `python` types, strings and integers. \n",
    "\n",
    "2. To create a pandas `Series` from a Python `dict` we can use the following syntax: \n",
    "\n",
    "```python\n",
    ">>> s2 = pd.Series({'doctor_id': 1234, 'medication': 'DIAZEPAM', 'nb_beneficiaries': 3, 'spending': '$32'})\n",
    ">>> s2\n",
    "doctor_id               1234\n",
    "medication          DIAZEPAM\n",
    "nb_beneficiaries           3\n",
    "spending                 $32\n",
    "dtype: object\n",
    " ```\n",
    " \n",
    "Notice this time the keys of the `Python` `dict` are used to build the `Index` and the values of the `Python` `dict` are the `Series'` data entries. \n"
   ]
  },
  {
   "cell_type": "code",
   "execution_count": 0,
   "metadata": {
    "colab": {
     "base_uri": "https://localhost:8080/",
     "height": 104
    },
    "colab_type": "code",
    "executionInfo": {
     "elapsed": 3277,
     "status": "ok",
     "timestamp": 1545258029935,
     "user": {
      "displayName": "Charles Dickens",
      "photoUrl": "https://lh6.googleusercontent.com/-LyFY-SmW2Wk/AAAAAAAAAAI/AAAAAAAAAJc/aBlebAB4Y_M/s64/photo.jpg",
      "userId": "12322745199515603574"
     },
     "user_tz": 600
    },
    "id": "hEEtupWzq7hl",
    "outputId": "561910b9-12da-497a-b99f-39614674bf1c"
   },
   "outputs": [
    {
     "data": {
      "text/plain": [
       "0        1234\n",
       "1    DIAZEPAM\n",
       "2           3\n",
       "3         $32\n",
       "dtype: object"
      ]
     },
     "execution_count": 2,
     "metadata": {
      "tags": []
     },
     "output_type": "execute_result"
    }
   ],
   "source": [
    "s1 = pd.Series([1234, 'DIAZEPAM', 3, '$32'])\n",
    "s1"
   ]
  },
  {
   "cell_type": "code",
   "execution_count": 0,
   "metadata": {
    "colab": {
     "base_uri": "https://localhost:8080/",
     "height": 104
    },
    "colab_type": "code",
    "executionInfo": {
     "elapsed": 2141,
     "status": "ok",
     "timestamp": 1545258029938,
     "user": {
      "displayName": "Charles Dickens",
      "photoUrl": "https://lh6.googleusercontent.com/-LyFY-SmW2Wk/AAAAAAAAAAI/AAAAAAAAAJc/aBlebAB4Y_M/s64/photo.jpg",
      "userId": "12322745199515603574"
     },
     "user_tz": 600
    },
    "id": "f5CTgWysrVwC",
    "outputId": "fd15576c-c196-47e6-ef02-7f96879293ef"
   },
   "outputs": [
    {
     "data": {
      "text/plain": [
       "doctor_id               1234\n",
       "medication          DIAZEPAM\n",
       "nb_beneficiaries           3\n",
       "spending                 $32\n",
       "dtype: object"
      ]
     },
     "execution_count": 3,
     "metadata": {
      "tags": []
     },
     "output_type": "execute_result"
    }
   ],
   "source": [
    "s2 = pd.Series({'doctor_id': 1234, 'medication': 'DIAZEPAM', \n",
    "                'nb_beneficiaries': 3, 'spending': '$32'})\n",
    "s2"
   ]
  },
  {
   "cell_type": "markdown",
   "metadata": {
    "colab_type": "text",
    "id": "DzavGGjCR2eC"
   },
   "source": [
    "### The pandas `Index` Object\n",
    "\n",
    "As mentioned, `pandas` `Series` have an associated `Index` object which labels each entry of the `Series`. We saw in the example of creating `Series` from Python lists that the default `Index` object of the `Series`, if not specified when created, is the range of integers $0$ through $N-1$ where $N$ is the number of data entries in the `Series`. To access a `Series'` associated `Index` object, we use the `index` attribute of the `Series`. Thus, printing the `Index` object of the `Series` `s1` and `s2` yields the following: \n",
    "\n",
    "```python\n",
    ">>> s1.index\n",
    "RangeIndex(start=0, stop=4, step=1)\n",
    ">>> s2.index\n",
    "Index([u'doctor_id', u'medication', u'nb_beneficiaries', u'spending'], dtype='object')\n",
    "```\n",
    "\n",
    "The index of the first `Series`, `s1`, is the range of integers starting from 0, stopping before 4, with a step of 1(in other words, the list \\[0,1,2,3\\]). The index of the second `Series`, `s2`, is a list of strings: \\['doctor_id', 'medication', 'nb_beneficiaries', 'spending'\\]. \n",
    "\n"
   ]
  },
  {
   "cell_type": "code",
   "execution_count": 0,
   "metadata": {
    "colab": {
     "base_uri": "https://localhost:8080/",
     "height": 34
    },
    "colab_type": "code",
    "executionInfo": {
     "elapsed": 2775,
     "status": "ok",
     "timestamp": 1545258034077,
     "user": {
      "displayName": "Charles Dickens",
      "photoUrl": "https://lh6.googleusercontent.com/-LyFY-SmW2Wk/AAAAAAAAAAI/AAAAAAAAAJc/aBlebAB4Y_M/s64/photo.jpg",
      "userId": "12322745199515603574"
     },
     "user_tz": 600
    },
    "id": "tzBEIN0dsaSI",
    "outputId": "cb4d2b73-cce9-48e6-cb95-210a6ee85be6"
   },
   "outputs": [
    {
     "data": {
      "text/plain": [
       "RangeIndex(start=0, stop=4, step=1)"
      ]
     },
     "execution_count": 4,
     "metadata": {
      "tags": []
     },
     "output_type": "execute_result"
    }
   ],
   "source": [
    "s1.index"
   ]
  },
  {
   "cell_type": "code",
   "execution_count": 0,
   "metadata": {
    "colab": {
     "base_uri": "https://localhost:8080/",
     "height": 34
    },
    "colab_type": "code",
    "executionInfo": {
     "elapsed": 2227,
     "status": "ok",
     "timestamp": 1545258034079,
     "user": {
      "displayName": "Charles Dickens",
      "photoUrl": "https://lh6.googleusercontent.com/-LyFY-SmW2Wk/AAAAAAAAAAI/AAAAAAAAAJc/aBlebAB4Y_M/s64/photo.jpg",
      "userId": "12322745199515603574"
     },
     "user_tz": 600
    },
    "id": "__6ve6pnsnPj",
    "outputId": "c4c81a74-3afb-4876-f3b6-1509fe3604d1"
   },
   "outputs": [
    {
     "data": {
      "text/plain": [
       "Index(['doctor_id', 'medication', 'nb_beneficiaries', 'spending'], dtype='object')"
      ]
     },
     "execution_count": 5,
     "metadata": {
      "tags": []
     },
     "output_type": "execute_result"
    }
   ],
   "source": [
    "s2.index"
   ]
  },
  {
   "cell_type": "markdown",
   "metadata": {
    "colab_type": "text",
    "id": "mzdGXyazaYyD"
   },
   "source": [
    "# Exercise 1.2: Creating Series\n",
    "\n",
    "Using the code cell below, create and print a `Series` from a `Python dict` that has two entries: '2' labeled by the index 'spam musubi' and '1' labeled with the index 'surf wax' . Save the `Series` using the variable name 'shopping_list'.\n",
    "\n",
    "Hint: Remember that with Jupyter Notebooks all we need to do to print the `Series` saved by the variable 'shopping_list' is type the name of the variable on the last line of the code cell and then run the code cell."
   ]
  },
  {
   "cell_type": "code",
   "execution_count": 0,
   "metadata": {
    "colab": {},
    "colab_type": "code",
    "id": "WzriGBfdgtBD"
   },
   "outputs": [],
   "source": [
    "# Type your answer to exercise 1.2 here\n"
   ]
  },
  {
   "cell_type": "markdown",
   "metadata": {
    "colab_type": "text",
    "id": "6Woh-MspTA1H"
   },
   "source": [
    "### Indexing `Series`\n",
    "The `Index` object of a `Series` is flexible and we can make it whatever set of labels we would want. There are three ways to customize the `Index` object of a pandas `Series`.\n",
    "\n",
    "1. Instantiating the `Series` using a dictionary (as we saw in the earlier section: *Creating `Series` From Python Data Structures*):\n",
    "\n",
    "```python\n",
    ">>> s1 = pd.Series({'doctor_id': 1234, 'medication': 'DIAZEPAM', 'nb_beneficiaries': 3, 'spending': '$32'})\n",
    "```\n",
    "\n",
    "2. Passing a list to the \"index\" argument of the `pandas` `Series` function:\n",
    "\n",
    "```python\n",
    ">>>s1 =  pd.Series( [1234, 'DIAZEPAM', 3, '$32'], index=['doctor_id', 'medication', 'nb_beneficiaries', 'spending'])\n",
    "```\n",
    "\n",
    "3. By changing the index after instantiation. Please note that the new index must be a list of the same length as the object it modifies:\n",
    "\n",
    "```python\n",
    ">>> s1 = pd.Series([1234, 'DIAZEPAM', 3, '$32'])\n",
    ">>> s1.index = ['doctor_id', 'medication', 'nb_beneficiaries', 'spending']\n",
    "```"
   ]
  },
  {
   "cell_type": "code",
   "execution_count": 0,
   "metadata": {
    "colab": {
     "base_uri": "https://localhost:8080/",
     "height": 312
    },
    "colab_type": "code",
    "executionInfo": {
     "elapsed": 2275,
     "status": "ok",
     "timestamp": 1545258041077,
     "user": {
      "displayName": "Charles Dickens",
      "photoUrl": "https://lh6.googleusercontent.com/-LyFY-SmW2Wk/AAAAAAAAAAI/AAAAAAAAAJc/aBlebAB4Y_M/s64/photo.jpg",
      "userId": "12322745199515603574"
     },
     "user_tz": 600
    },
    "id": "JNwFH4KC4Sq9",
    "outputId": "39c2e43f-9a60-45b2-f365-801bbf95b33e"
   },
   "outputs": [
    {
     "name": "stdout",
     "output_type": "stream",
     "text": [
      "doctor_id               1234\n",
      "medication          DIAZEPAM\n",
      "nb_beneficiaries           3\n",
      "spending                 $32\n",
      "dtype: object\n",
      "----------------------------\n",
      "doctor_id               1234\n",
      "medication          DIAZEPAM\n",
      "nb_beneficiaries           3\n",
      "spending                 $32\n",
      "dtype: object\n",
      "----------------------------\n",
      "doctor_id               1234\n",
      "medication          DIAZEPAM\n",
      "nb_beneficiaries           3\n",
      "spending                 $32\n",
      "dtype: object\n"
     ]
    }
   ],
   "source": [
    "s1 = pd.Series({'doctor_id': 1234, 'medication': 'DIAZEPAM', \n",
    "                'nb_beneficiaries': 3, 'spending': '$32'})\n",
    "print(s1)\n",
    "print('----------------------------')\n",
    "s1 =  pd.Series( [1234, 'DIAZEPAM', 3, '$32'], \n",
    "                index= ['doctor_id', 'medication', 'nb_beneficiaries', \n",
    "                        'spending'])\n",
    "print(s1)\n",
    "print('----------------------------')\n",
    "s1 = pd.Series([1234, 'DIAZEPAM', 3, '$32'])\n",
    "s1.index = ['doctor_id', 'medication', 'nb_beneficiaries', 'spending']\n",
    "print(s1)"
   ]
  },
  {
   "cell_type": "markdown",
   "metadata": {
    "colab_type": "text",
    "id": "fOqOjgVbT0RC"
   },
   "source": [
    "### Accessing `Series` Data\n",
    "\n",
    "Data in a `Series` may be accessed by *integer location* or by *label location*. \n",
    "\n",
    "1. To access the data in a `pandas` `Series` by its integer location we use the same approach seen in python list indexing, we specify the integer location, $i$, of the data we want to retrieve from the `Series`, s, within square brackets: s\\[$i$\\] , (similar to lists, `Series` indexes start with 0). For instance, to access the $1^{st}$ entry of the `Series` `s1` we would type:\n",
    "\n",
    "```python\n",
    ">>> s1[1]\n",
    "'DIAZEPAM'\n",
    "```\n",
    "\n",
    "Some of the conviences seen in native `python` list indexing are also available with `Series`. For example, to access the last element of the `Series` we would type:\n",
    "\n",
    "```python\n",
    ">>> s1[-1]\n",
    "'$32'\n",
    "```\n",
    "\n",
    "2. To access the data in a `pandas` `Series` by label we can use the same approach seen in python `dicts`, we specify the label (key for dicts) , $l$, of the data we want to retrieve from the `Series`, s, within square brackets: `s[l]`, or using *dot* notation: `s.l`.  For instance, if we want the data labeled \"medication\" from the `Series` `s1` we would type:\n",
    "\n",
    "```python\n",
    ">>> s1[\"medication\"]\n",
    "'DIAZEPAM'\n",
    "```\n",
    "\n",
    "OR\n",
    "\n",
    "```python\n",
    ">>> s1.medication\n",
    "'DIAZEPAM'\n",
    "```\n",
    "\n",
    "Based on that explanation, it is fair to think of a `Series` as a hybrid between lists and dictionaries"
   ]
  },
  {
   "cell_type": "code",
   "execution_count": 0,
   "metadata": {
    "colab": {},
    "colab_type": "code",
    "id": "wdaOJIlU9vJX"
   },
   "outputs": [],
   "source": [
    "print(s1[1])\n",
    "print(s1[\"medication\"])\n",
    "print(s1.medication)"
   ]
  },
  {
   "cell_type": "markdown",
   "metadata": {
    "colab_type": "text",
    "id": "8dDTQ9hdkHf1"
   },
   "source": [
    "# Exercise 1.3: Indexing Series and Acessing Series Data\n",
    "\n",
    "Which lines of code will create the `Series`, `shopping_list`, that has two entries: '2' labeled by 'musubi' and '1' labeled by 'wax' , and then print the value labeled by 'wax'?\n",
    "\n",
    "The `Series` should have the following form:\n",
    "\n",
    "|  | |\n",
    "|:----------|-----------|\n",
    "| `musubi` | 2 |\n",
    "| `wax` | 1  |\n",
    "\n",
    "\n",
    "A:\n",
    "```python\n",
    "shopping_list = pd.Series({'musubi': 2, 'wax': 1}) \n",
    "shopping_list[0]\n",
    "```\n",
    "\n",
    "B:\n",
    "```python\n",
    "shopping_list = pd.Series( ['musubi', 'wax'], index=[2,1]) \n",
    "shopping_list[0]\n",
    "```\n",
    "\n",
    "C:\n",
    "```python\n",
    "shopping_list = pd.Series( [2,1], index=['musubi', 'wax']) \n",
    "shopping_list['wax']\n",
    "```\n",
    "\n",
    "D:\n",
    "```python\n",
    "shopping_list = pd.Series({2:1, 'index':['musubi', 'wax']}) \n",
    "shopping_list.wax\n",
    "```\n",
    "\n",
    "*Hint: Feel free to use the code cell below to try these commands out. For the incorrect options, make note of what is going wrong and or what errors are being thrown.*"
   ]
  },
  {
   "cell_type": "code",
   "execution_count": 0,
   "metadata": {
    "colab": {},
    "colab_type": "code",
    "id": "ybbUbiHpn88u"
   },
   "outputs": [],
   "source": [
    "# Exercise 1.3 scratch code cell"
   ]
  },
  {
   "cell_type": "markdown",
   "metadata": {
    "colab_type": "text",
    "id": "tmO4ZCEj1vz9"
   },
   "source": [
    "### `Series` Attributes and Methods\n",
    "\n",
    "`Series` objects have many useful Attributes and Methods, some you may find most helpful are listed below.\n",
    "\n",
    "| Attribute |Description|\n",
    "|:----------|-----------|\n",
    "| `dtype`| return the dtype object of the underlying data |\n",
    "| `name`| return the name of the Series |\n",
    "| `size`| return the number of elements in the underlying data |\n",
    "| `values`| Return Series as ndarray or ndarray-like|\n",
    "\n",
    "\n",
    "| Method |Description|\n",
    "|:----------|-----------|\n",
    "| `add(other[, level, fill_value, axis])` | \tAddition of series and other, element-wise (binary operator add) |\n",
    "| `nlargest([n, keep])`| Return the largest n elements. |\n",
    "| `sort_values([axis, ascending, inplace, ...])`| Sort by the values along either axis |\n",
    "| `sum([axis, skipna, level, numeric_only, ...])`| \tReturn the sum of the values for the requested axis |\n",
    "| `unique()`| Return unique values in the object |\n",
    "\n",
    "To call a Method or access an Attribute of the `Series` object, we use *dot* notation:\n",
    "\n",
    "```python\n",
    ">>> s1.size\n",
    "4\n",
    ">>> s1.unique()\n",
    "[1234 'DIAZEPAM' 3 '$32']\n",
    "```\n",
    "\n",
    "More Attributes and Methods be found at the <a href=\"https://pandas.pydata.org/pandas-docs/version/0.22/generated/pandas.Series.html\">pandas documentation</a> webpage."
   ]
  },
  {
   "cell_type": "code",
   "execution_count": 0,
   "metadata": {
    "colab": {},
    "colab_type": "code",
    "id": "IT8BRad_4bJ0"
   },
   "outputs": [],
   "source": [
    "print(s1.size)\n",
    "print(s1.unique())"
   ]
  },
  {
   "cell_type": "markdown",
   "metadata": {
    "colab_type": "text",
    "id": "YAV0CbPBReJJ"
   },
   "source": [
    "## `DataFrames`\n",
    "\n",
    "---\n",
    "\n",
    "`DataFrames` are essentially ordered collections of `Series` with two associated `Index` objects, one to label rows and another to label columns. Reiterating the example mentioned earlier, it helps to think of `DataFrames` as MS. Excel spreadsheets where each row (or column) as an individual `Series`.\n",
    "\n",
    "![](df_index_cols.png)\n"
   ]
  },
  {
   "cell_type": "markdown",
   "metadata": {
    "colab_type": "text",
    "id": "xAIs-uwPRmVf"
   },
   "source": [
    "### Creating `DataFrames` From Python Data Structures\n",
    "\n",
    "There are many ways to create a `DataFrame` from native `Python` data structures including, but not limited to, a `list` of `dicts`, a `list` of `lists`, and a `list` of `tuples`. However, possibly the most common way to build a `DataFrame` from native `Python` data structures, is using a `dict` of equal-length `lists`. To do this we will be using the `pandas` `DataFrame()` function :\n",
    "\n",
    "```python\n",
    ">>> data = {'doctor_id': [1234, 3210, 6789, 5678], \n",
    "            'medication': ['DIAZEPAM', 'CLONAZEPAM', 'NADOLOL', 'OXYCODONE HCL'], \n",
    "            'nb_beneficiaries': [3, 50, 113, 95], \n",
    "            'spending': [ '$32', '$102', '$54', '$43']}\n",
    ">>> df1 = pd.DataFrame(data)\n",
    "   doctor_id     medication  nb_beneficiaries spending\n",
    "0       1234       DIAZEPAM                 3     \\$32\n",
    "1       3210     CLONAZEPAM                50    \\$102\n",
    "2       6789        NADOLOL               113     \\$54\n",
    "3       5678  OXYCODONE HCL                95     \\$43\n",
    "```\n",
    "\n",
    "In the example above we first constructed a dictionary, called data, of key value pairs where each key is a label for its corresponding value, a list of data entries. Notice that by default the `dict's` keys are used as the column labels and the values are aligned by index, that is its location in the list, to fill the rows.  The rows of the `DataFrame`, similar to `Series`, are automatically indexed with a range of integers starting from 0. \n"
   ]
  },
  {
   "cell_type": "code",
   "execution_count": 0,
   "metadata": {
    "colab": {
     "base_uri": "https://localhost:8080/",
     "height": 172
    },
    "colab_type": "code",
    "executionInfo": {
     "elapsed": 3187,
     "status": "ok",
     "timestamp": 1545438538674,
     "user": {
      "displayName": "Charles Dickens",
      "photoUrl": "https://lh6.googleusercontent.com/-LyFY-SmW2Wk/AAAAAAAAAAI/AAAAAAAAAJc/aBlebAB4Y_M/s64/photo.jpg",
      "userId": "12322745199515603574"
     },
     "user_tz": 600
    },
    "id": "yGQ_55wDRwoB",
    "outputId": "5d5fce15-6dbe-4ccf-ceef-4a6ac55c624a"
   },
   "outputs": [
    {
     "data": {
      "text/html": [
       "<div>\n",
       "<style scoped>\n",
       "    .dataframe tbody tr th:only-of-type {\n",
       "        vertical-align: middle;\n",
       "    }\n",
       "\n",
       "    .dataframe tbody tr th {\n",
       "        vertical-align: top;\n",
       "    }\n",
       "\n",
       "    .dataframe thead th {\n",
       "        text-align: right;\n",
       "    }\n",
       "</style>\n",
       "<table border=\"1\" class=\"dataframe\">\n",
       "  <thead>\n",
       "    <tr style=\"text-align: right;\">\n",
       "      <th></th>\n",
       "      <th>doctor_id</th>\n",
       "      <th>medication</th>\n",
       "      <th>nb_beneficiaries</th>\n",
       "      <th>spending</th>\n",
       "    </tr>\n",
       "  </thead>\n",
       "  <tbody>\n",
       "    <tr>\n",
       "      <th>0</th>\n",
       "      <td>1234</td>\n",
       "      <td>DIAZEPAM</td>\n",
       "      <td>3</td>\n",
       "      <td>$32</td>\n",
       "    </tr>\n",
       "    <tr>\n",
       "      <th>1</th>\n",
       "      <td>3210</td>\n",
       "      <td>CLONAZEPAM</td>\n",
       "      <td>50</td>\n",
       "      <td>$102</td>\n",
       "    </tr>\n",
       "    <tr>\n",
       "      <th>2</th>\n",
       "      <td>6789</td>\n",
       "      <td>NADOLOL</td>\n",
       "      <td>113</td>\n",
       "      <td>$54</td>\n",
       "    </tr>\n",
       "    <tr>\n",
       "      <th>3</th>\n",
       "      <td>5678</td>\n",
       "      <td>OXYCODONE HCL</td>\n",
       "      <td>95</td>\n",
       "      <td>$43</td>\n",
       "    </tr>\n",
       "  </tbody>\n",
       "</table>\n",
       "</div>"
      ],
      "text/plain": [
       "   doctor_id     medication  nb_beneficiaries spending\n",
       "0       1234       DIAZEPAM                 3      $32\n",
       "1       3210     CLONAZEPAM                50     $102\n",
       "2       6789        NADOLOL               113      $54\n",
       "3       5678  OXYCODONE HCL                95      $43"
      ]
     },
     "execution_count": 2,
     "metadata": {
      "tags": []
     },
     "output_type": "execute_result"
    }
   ],
   "source": [
    "data = {'doctor_id': [1234, 3210, 6789, 5678], \n",
    "            'medication': ['DIAZEPAM', 'CLONAZEPAM', 'NADOLOL', \n",
    "                           'OXYCODONE HCL'], \n",
    "            'nb_beneficiaries': [3, 50, 113, 95], \n",
    "            'spending': [ '$32', '$102', '$54', '$43']}\n",
    "df1 = pd.DataFrame(data)\n",
    "df1"
   ]
  },
  {
   "cell_type": "markdown",
   "metadata": {
    "colab_type": "text",
    "id": "urPYpVolqv4R"
   },
   "source": [
    "# Exercise 1.4: Creating `DataFrames`\n",
    "\n",
    "Using the code cell bellow, create and print a `DataFrame` from a `Python dict` of equal-length `lists` with two columns and two rows. The first column label should be the string: 'item', and the second column label should be the string: 'quantity'.  The first row should have the entries 'poke bowl' and the integer value 1 in the first and second columns respectively. The second row should have the entries 'pineapple' and the integer value 2 in the first and second columns respectively. Save the `DataFrame` using the variable name 'shopping_list_df'.\n",
    "\n",
    "`shopping_list_df` should have the following form:\n",
    "\n",
    "|  | item | quantity|\n",
    "|:----------|-----------|:----------|\n",
    "|0| 'poke bowl' | 1|\n",
    "|1| 'pineapple' | 2 |\n",
    "\n",
    "\n",
    "Note: Remember that with Jupyter Notebooks all we need to do to print the `Series` saved by the variable 'shopping_list' is type the name of the variable on the last line of the code cell and then run the code cell.\n"
   ]
  },
  {
   "cell_type": "code",
   "execution_count": 0,
   "metadata": {
    "colab": {},
    "colab_type": "code",
    "id": "S57jCCJ1TYQ2"
   },
   "outputs": [],
   "source": [
    "# Type your answer to exercise 1.4 here"
   ]
  },
  {
   "cell_type": "markdown",
   "metadata": {
    "colab_type": "text",
    "id": "tLaLA8-ITp6H"
   },
   "source": [
    "### Indexing `DataFrames`\n",
    "\n",
    "`DataFrames` have two `Index` objects associated with it, one labeling the columns, accesible via the `columns` attribute, and the other labeling the rows, accessible via the `index` attribute. Continuing with the previous example, we access the `columns` and `index` attributes of the `df1` `DataFrame` like so:\n",
    "\n",
    "```python\n",
    ">>> df1.columns\n",
    "Index([u'doctor_id', u'medication', u'nb_beneficiaries', u'spending'], dtype='object')\n",
    ">>> df1.index\n",
    "RangeIndex(start=0, stop=4, step=1)\n",
    "```\n",
    "\n",
    "Notice that, similar to `Series`, the `DataFrame's` default indexing is the range of integers starting from 0. In the example above the row index, `df1.index` is the range of integers starting from 0, stopping before 4, and with a step of size 1, i.e. the list of integers: \\[0,1,2,3\\]. \n",
    "\n",
    "The `columns` and `index` labels may be customized in essentially the same 3 ways one could set the `Series` `Index` object:\n",
    "\n",
    "1. Instantiating the `DataFrame` using a `dict` of `dicts` (similar to what we saw in the previous section):\n",
    "\n",
    "```python\n",
    ">>> data2 = {'doctor_id': {'row_1':1234, \n",
    "                           'row_2':3210, \n",
    "                            }, \n",
    "             'medication': {'row_1':'DIAZEPAM',\n",
    "                           'row_2':'CLONAZEPAM'}\n",
    "               }\n",
    ">>> df2 = pd.DataFrame(data2)\n",
    "```\n",
    "\n",
    "2. Using lists which specify the row names and column names using the \"index\"  and \"columns\" argument of the `pandas DataFrame()` function respectively:\n",
    "\n",
    "```python\n",
    ">>> data3 = [[1234, 'DIAZEPAM'], [3210, 'CLONAZEPAM']]\n",
    ">>> df2 = pd.DataFrame(data3, \n",
    "                       index=['row_1', 'row_2'], \n",
    "                       columns=['doctor_id', 'medication'])\n",
    "```\n",
    "\n",
    "3. By changing the index and columns after instantiation:\n",
    "\n",
    "```python\n",
    ">>> df2 = pd.DataFrame(data3)\n",
    ">>> df2.columns = ['doctor_id', 'medication']\n",
    ">>> df2.index=['row_1', 'row_2']\n",
    "```\n",
    "\n",
    "All three methods result in equivalent `DataFrames`\n",
    " ```python\n",
    ">>> print(df2)\n",
    "          doctor_id  medication\n",
    "row_1       1234    DIAZEPAM\n",
    "row_2       3210  CLONAZEPAM\n",
    "```\n",
    " "
   ]
  },
  {
   "cell_type": "code",
   "execution_count": 0,
   "metadata": {
    "colab": {},
    "colab_type": "code",
    "id": "gCd9fFY6cetp"
   },
   "outputs": [],
   "source": [
    "print(df1.columns)\n",
    "print(df1.index)"
   ]
  },
  {
   "cell_type": "code",
   "execution_count": 0,
   "metadata": {
    "colab": {},
    "colab_type": "code",
    "id": "wuYUuyPOfLKE"
   },
   "outputs": [],
   "source": [
    "data2 = {'doctor_id': {'row_1':1234, 'row_2':3210}, \n",
    "            'medication': {'row_1':'DIAZEPAM', 'row_2':'CLONAZEPAM'}}\n",
    "df2 = pd.DataFrame(data2)\n",
    "print(df2)\n",
    "print('-----------------------------------')\n",
    "data3 = [[1234, 'DIAZEPAM'],\n",
    "         [3210, 'CLONAZEPAM']]\n",
    "df2 = pd.DataFrame(data3, \n",
    "                   index=['row_1', 'row_2'], \n",
    "                   columns=['doctor_id', 'medication'])\n",
    "print(df2)\n",
    "print('-----------------------------------')\n",
    "df2 = pd.DataFrame(data3)\n",
    "df2.columns = ['doctor_id', 'medication']\n",
    "df2.index=['row_1', 'row_2']\n",
    "print(df2)"
   ]
  },
  {
   "cell_type": "markdown",
   "metadata": {
    "colab_type": "text",
    "id": "gzQfJThalqUk"
   },
   "source": [
    "### Acessing Data from the `DataFrame`\n",
    "\n",
    "#### Singular Entries:\n",
    "\n",
    "Similar to `pandas` `Series`, Rows and Columns of `DataFrames` can be accessed using either their *label location* or *integer location*. The Row and Column *labels* are the labels stored in the `DataFrames'` `Index` and `Columns` attributes, respectively. Row and Column *locations* are the integer values of the ordered positions of the Row or Column being referenced. \n",
    "\n",
    "There are two attributes we will be using to access Rows and columns of our `DataFrame`: `iloc` and `loc`. To access rows and columns by their integer location, `iloc` (short for \"**I**nteger **loc**ation\")  is used. To access rows and columns by their labels, `loc`(short for \"**loc**ation\") is used. \n",
    "\n",
    "Once we call one of the two attributes (`iloc` or `loc`), accessing rows and columns of a `DataFrame` is similar to `python` `list` indexing. For instance, if we wanted to access row $i$ column $j$, of a `DataFrame`, `df`, then we would use either `loc` or `iloc`, depending on whether we are using the integer location or labels, and square brackets, i.e., `df.loc[i,j]` or `df.iloc[i,j]`. \n",
    "\n",
    "Let us continue with our example using the `DataFrame` `df2`. Suppose we wanted to access the entry label by row: 'row_1' and by column: 'medication', we could do this in two ways:\n",
    "\n",
    "1. **By Integer Location**\n",
    "\n",
    "```python\n",
    ">>>> df2.iloc[0,1]\n",
    "'DIAZEPAM'\n",
    "```\n",
    "2. **By Label**\n",
    "\n",
    "```python\n",
    ">>>> df2.loc['row_1', 'medication']\n",
    "'DIAZEPAM'\n",
    "```\n"
   ]
  },
  {
   "cell_type": "code",
   "execution_count": 0,
   "metadata": {
    "colab": {},
    "colab_type": "code",
    "id": "1kXKqrPgOsa_"
   },
   "outputs": [],
   "source": [
    "print(df2.iloc[0,1])\n",
    "print(df2.loc['row_1', 'medication'])"
   ]
  },
  {
   "cell_type": "markdown",
   "metadata": {
    "colab_type": "text",
    "id": "wlH7Hji6CEVd"
   },
   "source": [
    "#### Accessing Data from the `DataFrame` - Continued\n",
    "\n",
    "#### Subsets of Rows and Columns\n",
    "\n",
    "Multiple Rows and Columns may be accessed at once by passing a list of *labels* or *Integer-locations* to the `loc` and `iloc` attributes, rather than single labels or integers. What we will have returned to us for each of these commands will be a new `pandas` object with the same column and row labels but with only a subset of entries.  The returned object will either be a `Series` or `DataFrame` depending on the dimensions of the subset we are accessing, if the subset has either only a single column or row then it will be a `Series`, otherwise it will be a `DataFrame`\n",
    "\n",
    "For example, if we wanted to accessing the first 2 rows of the `DataFrame` `df2` but only the column labeled 'medication' we could do this in two ways:\n",
    "\n",
    "1. **By *integer locations*** \n",
    "\n",
    "```python\n",
    ">>> df2.iloc[[0,1], 1]\n",
    "row_1    DIAZEPAM\n",
    "row_2    CLONAZEPAM\n",
    "Name: medication, dtype: object\n",
    "```\n",
    "\n",
    "2. **By *labels*** \n",
    "\n",
    "```python\n",
    ">>> df2.iloc[['row_1', 'row_2'], 'medication']\n",
    "row_1    DIAZEPAM\n",
    "row_2    CLONAZEPAM\n",
    "Name: medication, dtype: object\n",
    "```\n",
    "\n",
    "We see from the above examples that the returned object is indeed a `Series`. Notice that the index labels match the index labels of the original `DataFrame`. Also note that there is a new attirbute associated with the `Series` being displayed, the `name`, which was the label of the single column we are accessing.\n",
    "\n",
    "Furthermore, suppose we wanted to acess the first 2 columns of the `DataFrame` `df2` but only the row at integer location 1. We could do this in the following two ways.\n",
    "\n",
    "1. **By *integer locations*** \n",
    "\n",
    "```python\n",
    ">>> df2.iloc[1,[0,1]]\n",
    "doctor_id           3210\n",
    "medication    CLONAZEPAM\n",
    "Name: row_2, dtype: object\n",
    "```\n",
    "\n",
    "2. **By *labels*** \n",
    "\n",
    "```python\n",
    ">>> df2.loc['row_2', ['doctor_id','medication']]\n",
    "doctor_id           3210\n",
    "medication    CLONAZEPAM\n",
    "Name: row_2, dtype: object\n",
    "```\n",
    "\n",
    "The above example again shows that the returned object is a `Series`, as expected. Notice this time though that the index labels match the column labels of the original `DataFrame`. Also note that the `name` of the `Series` is label of the single row we were accessing.\n",
    "\n",
    "Subsetting rows and columns can infact be done simultaneously, if you desire. For instance, if we want the first two rows and columns of the `DataFrame` `df2` the we could type it in one of two ways:\n",
    "\n",
    "1. **By *integer locations***\n",
    "\n",
    "```python\n",
    ">>> df2.iloc[[0,1], [0,1]]\n",
    "       doctor_id  medication\n",
    "row_1       1234    DIAZEPAM\n",
    "row_2       3210  CLONAZEPAM\n",
    "```\n",
    "\n",
    "2. **By *labels**\n",
    "\n",
    "\n",
    "```python\n",
    ">>> df2.iloc[['row_1', 'row_2'], ['doctor_id','medication']]\n",
    "       doctor_id  medication\n",
    "row_1       1234    DIAZEPAM\n",
    "row_2       3210  CLONAZEPAM\n",
    "```\n",
    "\n",
    "In the example above we access a subset of the `DataFrame` with more than one column and row so we get back a new `DataFrame`. The new `DataFrame` has all the same index and column labels as the original. \n",
    "\n",
    "Note that this is the start of an important Data Wrangling skill called *subsetting* which we will cover more deeply in the upcoming chapter: *Exploring Data*\n"
   ]
  },
  {
   "cell_type": "code",
   "execution_count": 0,
   "metadata": {
    "colab": {},
    "colab_type": "code",
    "id": "kxrp6PjjJ7Jt"
   },
   "outputs": [],
   "source": [
    "print(df2.iloc[[0,1], 1])\n",
    "print('----------------------------')\n",
    "print(df2.loc[['row_1', 'row_2'], 'medication'])"
   ]
  },
  {
   "cell_type": "code",
   "execution_count": 0,
   "metadata": {
    "colab": {},
    "colab_type": "code",
    "id": "R1X-RaQBKyZW"
   },
   "outputs": [],
   "source": [
    "print(df2.iloc[1,[0,1]])\n",
    "print('----------------------------')\n",
    "print(df2.loc['row_2',['doctor_id','medication']])"
   ]
  },
  {
   "cell_type": "code",
   "execution_count": 0,
   "metadata": {
    "colab": {},
    "colab_type": "code",
    "id": "9d3w4vADJgOu"
   },
   "outputs": [],
   "source": [
    "print(df2.iloc[[0,1],[0,1]])\n",
    "print('----------------------------')\n",
    "print(df2.loc[['row_1', 'row_2'],['doctor_id','medication']])"
   ]
  },
  {
   "cell_type": "markdown",
   "metadata": {
    "colab_type": "text",
    "id": "Wg_HJdpSE5v2"
   },
   "source": [
    "#### Accessing Data from the `DataFrame` - Continued\n",
    "\n",
    "#### Entire Rows and Columns\n",
    "\n",
    "Accessing an entire row or column is very similar to acesssing subsets of the `DataFrame`, which we covered in the previous cell. In fact, by providing a list of all the integers locations or all the labels of the `DataFrame`, the syntax is identical to that in the previous cell.  For instance if we wanted to access the entire first row of the `DataFrame` `df2`, then we could use the label of the first row and columns attribute of the `DataFrame`, 'df2.columns', to get the entire list of labels for the columns. We would type:\n",
    "\n",
    "```python\n",
    ">>> df2.loc['row_1', df2.columns]\n",
    "doctor_id         1234\n",
    "medication    DIAZEPAM\n",
    "Name: row_1, dtype: object\n",
    "```\n",
    "\n",
    "This method works just fine, but since this operation is so common, `pandas` lets us use a special shorter syntax to say \"give me all the columns (or rows)\" and that is with the slicing operator (colon, \":\"\").  For instance if we wanted to access the row labeled by 'row_1'  of the `DataFrame` `df2`, then we could do this in the following two ways:\n",
    "\n",
    "1.  **Row by * integer location***\n",
    "\n",
    "```python\n",
    ">>> df2.iloc[0, :]\n",
    "doctor_id         1234\n",
    "medication    DIAZEPAM\n",
    "Name: row_1, dtype: object\n",
    "```\n",
    "\n",
    "2. **Row by * label***\n",
    "\n",
    "```python\n",
    ">>> df2.iloc['row_1', :]\n",
    "doctor_id         1234\n",
    "medication    DIAZEPAM\n",
    "Name: row_1, dtype: object\n",
    "```\n",
    "\n",
    "What we have returned to us in the example above is the zeroth row as a pandas `Series` with an associated `Index` object whose labels are the `DataFrames'` columns and whose values are the entries in the `DataFrames` zerooth row.  Again, we see that `pandas` saved the name of the single row we were accessing in the returned `Series'` `name` attribute.\n",
    "\n",
    "Similarly, the following expressions can be used to access the first column ('medication') by integer location and by label, respectively:\n",
    "\n",
    "1. **Column by *integer location***\n",
    "\n",
    "```python\n",
    ">>>> df2.iloc[:, 1]\n",
    "row_1      DIAZEPAM\n",
    "row_2    CLONAZEPAM\n",
    "Name: medication, dtype: object\n",
    "```\n",
    "\n",
    "2. **Column by *label***\n",
    "\n",
    "```python\n",
    ">>> df2.loc[:, 'medication']\n",
    "row_1      DIAZEPAM\n",
    "row_2    CLONAZEPAM\n",
    "Name: medication, dtype: object\n",
    "```\n",
    "\n",
    "The above returns is the first column as a `pandas` `Series` with an `Index` object whose labels are the `DataFrames'` row indices and whose values are the entries in the `DataFrames` first column. The `name` attribute of the `Series` is set to the name of the single column label we were accessing. \n",
    "\n",
    "Since accessing entire columns is a common practice, `pandas` also allows us to simply use either dot notation or list indexing to acces a column by label. \n",
    "\n",
    "```python\n",
    ">>> df2.medication\n",
    "row_1      DIAZEPAM\n",
    "row_2    CLONAZEPAM\n",
    "Name: medication, dtype: object\n",
    ">>> df2.['medication']\n",
    "row_1      DIAZEPAM\n",
    "row_2    CLONAZEPAM\n",
    "Name: medication, dtype: object\n",
    "```\n",
    "\n",
    "We cover this notation since it is often seen in examples you may find from other resources, but do not worry about memorizing all the tricks `pandas` provides. Rather, practice the basics first and then once you are comfortable you should start experimenting with the different syntactic sugar `pandas` has implemented.  "
   ]
  },
  {
   "cell_type": "code",
   "execution_count": 0,
   "metadata": {
    "colab": {},
    "colab_type": "code",
    "id": "Z_raND94HgeF"
   },
   "outputs": [],
   "source": [
    "df2.loc['row_1', df2.columns]"
   ]
  },
  {
   "cell_type": "code",
   "execution_count": 0,
   "metadata": {
    "colab": {},
    "colab_type": "code",
    "id": "_DdIwFe4BHbP"
   },
   "outputs": [],
   "source": [
    "print('------------Rows------------\\n\\n')\n",
    "print(df2.iloc[0, :])\n",
    "print('----------------------------')\n",
    "print(df2.loc['row_1', :])"
   ]
  },
  {
   "cell_type": "code",
   "execution_count": 0,
   "metadata": {
    "colab": {},
    "colab_type": "code",
    "id": "yi6dDQh_Fjyk"
   },
   "outputs": [],
   "source": [
    "print('------------Columns------------\\n\\n')\n",
    "print(df2.iloc[:,1])\n",
    "print('-------------------------------')\n",
    "print(df2.loc[:,'medication'])\n",
    "print('-------------------------------')\n",
    "print(df2.medication)\n",
    "print('-------------------------------')\n",
    "print(df2['medication'])"
   ]
  },
  {
   "cell_type": "markdown",
   "metadata": {
    "colab_type": "text",
    "id": "F7pDDkX7qleI"
   },
   "source": [
    "### Acessing Data From the DataFrame Summary\n",
    "![](images/DataFrameColumns.png) "
   ]
  },
  {
   "cell_type": "markdown",
   "metadata": {
    "colab_type": "text",
    "id": "wgl6lBHIWLG-"
   },
   "source": [
    "# Exercise 1.5: Indexing `DataFrames` and Acessing `DataFrame` Data\n",
    "\n",
    "Which lines of code will create and print the `DataFrame`, `lunch_order_df`,  with column labels: 'item' and 'price' and row labels: 'Kalani' and 'Tito', where the first row labeled by 'Kalani' has the entries 'poke bowl' and 8.00 in the columns 'item' and 'price' respectively and the second row labeled by 'Tito' has the entreis 'steak plate' and 10.00 in the columns 'item' and 'price' respectively?\n",
    "\n",
    "`lunch_order_df` should have the following form:\n",
    "\n",
    "|  | item | price|\n",
    "|:----------|-----------|:----------|\n",
    "|Kalani| 'poke bowl' | 8.0 |\n",
    "|Tito| 'steak plate' | 10.0 |\n",
    "\n",
    "A:\n",
    "```python\n",
    "lunch_order_df = pd.DataFrame({'item': ['poke bowl', 'steak plate'], 'price':[8.00, 10.00] })\n",
    "lunch_order_df.index = ['Kalani', 'Tito']\n",
    "lunch_order_df\n",
    "```\n",
    "\n",
    "B:\n",
    "```python\n",
    "lunch_order_df = pd.DataFrame({'Kalani': ['poke bowl',  8.00], 'Tito':['steak plate', 10.00] })\n",
    "lunch_order_df.index = ['item', 'price']\n",
    "lunch_order_df\n",
    "```\n",
    "\n",
    "C:\n",
    "```python\n",
    "lunch_order_df = pd.DataFrame({'Kalani': {'item': 'poke bowl', 'price': 8.00}, 'Tito':{'item': 'steak plate', 'price': 10.00}})\n",
    "lunch_order_df\n",
    "```\n",
    "\n",
    "D:\n",
    "```python\n",
    "data = [['poke bowl', 'steak plate'], [8.00, 10.00]]\n",
    "lunch_order_df = pd.DataFrame(data, index = ['Kalani', 'Tito'] , columns = ['items', 'price'])\n",
    "lunch_order_df\n",
    "```\n",
    "\n",
    "\n",
    "---\n",
    "\n",
    "\n",
    "Which lines of code will access and print the zero'th row of `lunch_order_df`?\n",
    "\n",
    "A:\n",
    "```python\n",
    "lunch_order_df.loc[['items', 'price'], 'Kalani']\n",
    "```\n",
    "\n",
    "B:\n",
    "```python\n",
    "lunch_order_df.iloc[0, :]\n",
    "```\n",
    "\n",
    "C:\n",
    "```python\n",
    "lunch_order_df.Kalani\n",
    "```\n",
    "\n",
    "D:\n",
    "```python\n",
    "lunch_order_df['Kalani']\n",
    "```\n",
    "\n",
    "Hint: Feel free to use the code cell below to try these commands out. For the incorrect options, make note of what is going wrong and or what errors are being thrown.\n"
   ]
  },
  {
   "cell_type": "code",
   "execution_count": 0,
   "metadata": {
    "colab": {},
    "colab_type": "code",
    "id": "cG4L2F9tcq5r"
   },
   "outputs": [],
   "source": [
    "# Exercise 1.5 scratch code cell\n"
   ]
  },
  {
   "cell_type": "markdown",
   "metadata": {
    "colab_type": "text",
    "id": "-_d_QyeC7yh6"
   },
   "source": [
    "### `DataFrame` Attributes and Methods\n",
    "\n",
    "In addition to the methods and attributes we have covered so far (ex. the `iloc` and `loc` attributes), `DataFrames` have numerous attributes and methods that you will find useful, here are some of the most common summarized in a table:\n",
    "\n",
    "| Attribute |Description|\n",
    "|:----------|-----------|\n",
    "| `T`|  Transpose index and columns |\n",
    "| `dtype`|  Return the dtypes in this object |\n",
    "| `shape`| Return a tuple representing the dimensionality of the DataFrame |\n",
    "| `size`| number of elements in the NDFrame |\n",
    "| `values`| \tNumpy representation of NDFrame |\n",
    "\n",
    "| Method |Description|\n",
    "|:----------|-----------|\n",
    "| `add(other[, axis, level, fill_value])`|  \tAddition of dataframe and other, element-wise (binary operator add) |\n",
    "| `count([axis, level, numeric_only])`|  \tReturn Series with number of non-NA/null observations over requested axis |\n",
    "| `describe([percentiles, include, exclude])`| Generates descriptive statistics that summarize the central tendency, dispersion and shape of a dataset’s distribution, excluding NaN values.|\n",
    "|`head([n])`|Return the first n rows.|\n",
    "\n",
    "To call a method or access an attribute we again use *dot* notation.\n",
    "\n",
    "```python\n",
    ">>> df2.values\n",
    "array([[1234, 'DIAZEPAM'],\n",
    "       [3210, 'CLONAZEPAM']], dtype=object)\n",
    ">>> df2.count()\n",
    "doctor_id     2\n",
    "medication    2\n",
    "dtype: int64\n",
    "```\n",
    "\n",
    "All `DataFrame` attributes and methods can be found at the <a href=\"https://pandas.pydata.org/pandas-docs/version/0.22/generated/pandas.DataFrame.html#pandas.DataFrame\">pandas documentation</a> webpage."
   ]
  },
  {
   "cell_type": "code",
   "execution_count": 0,
   "metadata": {
    "colab": {},
    "colab_type": "code",
    "id": "UNimpi7eVVG5"
   },
   "outputs": [],
   "source": [
    "print(df2.values)\n",
    "print('---------------------')\n",
    "print(df2.count())"
   ]
  },
  {
   "cell_type": "markdown",
   "metadata": {
    "colab_type": "text",
    "id": "x4Uwgy1iJnMP"
   },
   "source": [
    "## Modifying `Series` and `DataFrames`\n",
    "\n",
    "\n",
    "---\n",
    "\n"
   ]
  },
  {
   "cell_type": "markdown",
   "metadata": {
    "colab_type": "text",
    "id": "OQjNNVDZLiDE"
   },
   "source": [
    "### *In-place* Modification Vs. Copying \n",
    "\n",
    "Most of the `pandas` methods for modifying the data in a `Series` and `DataFrame` will, by default, not alter the original object. This practice is primarily implemented for damage control, if you accidentally perform the wrong operation on the `DataFrame` then the orignal information may be lost. For instance if we wanted to sort the  rows of the `DataFrame` `df2` by the values in the 'medication' column then we may use the `sort_values` method like so:\n",
    " \n",
    "```python\n",
    ">>> df2.sort_values(by='medication')\n",
    "         doctor_id  medication\n",
    "row_2       3210  CLONAZEPAM\n",
    "row_1       1234    DIAZEPAM\n",
    ">>> df2\n",
    "         doctor_id  medication\n",
    "row_1       1234    DIAZEPAM\n",
    "row_2       3210  CLONAZEPAM\n",
    "```\n",
    "Notice that a `DataFrame` is returned from the method call and when `df2` is printed there is no change.\n",
    "\n",
    "Numerous `pandas` methods allow you to change the `DataFrame` in place by passing an optional argument `inplace=True.`. For instance the same command we saw in the last example could have been executed as is shown below to modify the `DataFrame` in-place.\n",
    " \n",
    " ```python\n",
    ">>> df2.sort_values(by='medication', inplace=True)\n",
    ">>> df2\n",
    "         doctor_id  medication\n",
    "row_2       3210  CLONAZEPAM\n",
    "row_1       1234    DIAZEPAM\n",
    "```\n",
    "\n",
    "This time 'none' is returned from the method call rather than a `DataFrame`, and when we print `df2` we see that it is sorted by the 'medication' column.\n",
    "\n",
    "Please note that the above examples are to illustrate the concept of In-place Modification Vs. Copying, rather than the functionality of `sort_values()` method, so please do not worry about understanding this method just yet as it will be coverd in coming chapters. \n"
   ]
  },
  {
   "cell_type": "code",
   "execution_count": 0,
   "metadata": {
    "colab": {},
    "colab_type": "code",
    "id": "ZnzFi-cvaBPk"
   },
   "outputs": [],
   "source": [
    "print(df2.sort_values(by='medication'))\n",
    "print('----------------------------')\n",
    "print(df2)"
   ]
  },
  {
   "cell_type": "code",
   "execution_count": 0,
   "metadata": {
    "colab": {},
    "colab_type": "code",
    "id": "DhJ5HHMkb8e8"
   },
   "outputs": [],
   "source": [
    "print(df2.sort_values(by='medication', inplace=True))\n",
    "print('----------------------------')\n",
    "print(df2)"
   ]
  },
  {
   "cell_type": "markdown",
   "metadata": {
    "colab_type": "text",
    "id": "Rb2BeiZTKS3L"
   },
   "source": [
    "### Adding Columns to `DataFrames`\n",
    "\n",
    "To add columns to `DataFrames` we have two options: Modify the `DataFrame` in place or make a new `DataFrame` from a copy of the original with the desired additions. To add a column to the `DataFrame` in place, we can first reference and then designate values to columns that don't yet exist. To make a copy of the original `DataFrame` and then make the desired additions, we can use the `assign()` `DataFrame` method.\n",
    "\n",
    "To make a new `DataFrame`, the `assign()` method of the `DataFrame`, `df`, will take one positional argument, the label of the new column, `new_label`, and the value(s) the new column entries will be set to, `val`, `df.assign(new_label = val)`. To modify the original `DataFrame`, `df`, we first \"access\" the new column by its new label, `new_label`, and assign it its new value(s), `val`, using the '=' operator, `df.loc[:, 'new_label'] = val`.\n",
    "\n",
    "Note that `val` can be a list of values of the same number of elements as there are rows, or a single entry. The latter will use Broadcasting to assign the same value to all the rows. \n",
    "\n",
    "We also have a choice of how to assign the new value(s). We can either set all the entries in the new column individually using a list, or set all the values to a single entry using *Broadcasting*. To assign all the entries in a new column individually we need a list of the same number of entries as there are rows, while with broadcasting we need only one number. Broadcasting essentially creates a list with correct number of entries using the single specified value.\n",
    "\n",
    "For example, if we wanted to add a new column called 'nb_beneficiaries' with each entry assigned the same value, 45, we have two options:\n",
    "1: use the assign method to create a new `DataFrame` with the desired addition\n",
    "2: modify the original `DataFrame`.\n",
    "\n",
    "1. Making a **new `DataFrame` using *Broadcasting***: \n",
    "\n",
    "```python\n",
    ">>> df2.assign(nb_beneficiaries = 45)\n",
    "       doctor_id  medication nb_beneficiaries\n",
    "row_2       3210  CLONAZEPAM               45\n",
    "row_1       1234    DIAZEPAM               45\n",
    "```\n",
    "\n",
    "We see in the above example that the method actually outputs a new `DataFrame` with the additional column.\n",
    "\n",
    "2. Modifying **in-place using *Broadcasting***\n",
    "\n",
    "```python \n",
    ">>> df2.loc[:, 'nb_beneficiaries'] = 45\n",
    ">>> print(df2)\n",
    "       doctor_id  medication  nb_beneficiaries\n",
    "row_2       3210  CLONAZEPAM                45\n",
    "row_1       1234    DIAZEPAM                45\n",
    "```\n",
    "\n",
    "In the second example above, a new `DataFrame` is not immediately returned, instead we need to print the original `DataFrame` to see that has changed.\n",
    "\n",
    "Similarly, to add a new column, 'specialty' with each entry assigned individually, ` ['Psychiatry', 'Family']`,  we can do it in one of two ways as above.\n",
    "\n",
    "1: Making a **new `DataFrame` using a list**\n",
    "\n",
    "```python \n",
    ">>> df2.assign(specialty =  ['Psychiatry', 'Family'])\n",
    "       doctor_id  medication  nb_beneficiaries   specialty\n",
    "row_2       3210  CLONAZEPAM                45  Psychiatry\n",
    "row_1       1234    DIAZEPAM                45      Family\n",
    "```\n",
    "\n",
    "The list values are assign in order by integer location, i.e. the $0^{th}$ entry of the list is assigned to the $0^{th}$ entry of the new column.\n",
    "\n",
    "2: Modifying **in-place using a list**\n",
    "\n",
    "```python\n",
    ">>>> df2.loc[:, 'specialty'] = ['Psychiatry', 'Family']\n",
    ">>>> print(df2)\n",
    "       doctor_id  medication  nb_beneficiaries   specialty\n",
    "row_2       3210  CLONAZEPAM                45  Psychiatry\n",
    "row_1       1234    DIAZEPAM                45      Family\n",
    "```\n",
    "\n",
    "Now, in the example above, we observe that we again had to print out the original `DataFrame` to see that `df2` was changed."
   ]
  },
  {
   "cell_type": "code",
   "execution_count": 0,
   "metadata": {
    "colab": {},
    "colab_type": "code",
    "id": "IuX90m6XfNc0"
   },
   "outputs": [],
   "source": [
    "df2.assign(nb_beneficiaries = 45)"
   ]
  },
  {
   "cell_type": "code",
   "execution_count": 0,
   "metadata": {
    "colab": {},
    "colab_type": "code",
    "id": "14xgPMksiuti"
   },
   "outputs": [],
   "source": [
    "df2.loc[:,'nb_beneficiaries'] = 45\n",
    "df2"
   ]
  },
  {
   "cell_type": "code",
   "execution_count": 0,
   "metadata": {
    "colab": {},
    "colab_type": "code",
    "id": "oa62e2bs7bKy"
   },
   "outputs": [],
   "source": [
    "df2.assign(specialty =  ['Psychiatry', 'Family'])"
   ]
  },
  {
   "cell_type": "code",
   "execution_count": 0,
   "metadata": {
    "colab": {},
    "colab_type": "code",
    "id": "6zC5dAQVjJMF"
   },
   "outputs": [],
   "source": [
    "df2.loc[:, 'specialty'] = ['Psychiatry', 'Family']\n",
    "df2"
   ]
  },
  {
   "cell_type": "markdown",
   "metadata": {
    "colab_type": "text",
    "id": "7Tt1buCMd5Y3"
   },
   "source": [
    "# Exercise 1.6: Adding Columns to DataFrames\n",
    "\n",
    "Which lines of code will add a column with the label: 'drink',  with all values set to 'water' to the 'lunch_order_df DataFrame' from Exercise 1.4 **in place** (the modification should be made to the original `DataFrame`)?\n",
    "\n",
    "A:\n",
    "```python\n",
    "lunch_order_df.assign(drink = 'water')\n",
    "```\n",
    "\n",
    "B:\n",
    "```python\n",
    "lunch_order_df.loc[:, 'drink'] = 'water'\n",
    "```\n",
    "\n",
    "C:\n",
    "```python\n",
    "lunch_order_df.iloc[:, 2] = ['water', 'water']\n",
    "```\n",
    "\n",
    "D:\n",
    "```python\n",
    "lunch_order_df.assign(drink = ['water', 'water'])\n",
    "```\n",
    "\n",
    "Hint: Feel free to use the code cell below to try these commands out. For the incorrect options, make note of what is going wrong and or what errors are being thrown."
   ]
  },
  {
   "cell_type": "code",
   "execution_count": 0,
   "metadata": {
    "colab": {},
    "colab_type": "code",
    "id": "d46LVxU8hv94"
   },
   "outputs": [],
   "source": [
    "# Exercise 1.6 scratch code cell"
   ]
  },
  {
   "cell_type": "markdown",
   "metadata": {
    "colab_type": "text",
    "id": "O6PNV99-Kv5F"
   },
   "source": [
    "### Adding Rows to `DataFrames`\n",
    "\n",
    "Similar to adding Columns to `DataFrame`, the 'append()' method is used specifically to add rows without altering the original DataFrame.  We can also modify the `DataFrame` in place by first referencing and then designating values to a Row that does not yet exist. \n",
    "\n",
    "The `append()` `DataFrame` method for rows is slightly different from the `assign()` method for columns in that takes `Series` or `dict` like objects. This is because `Series` and `dict` like objects have labels which can be aligned with the columns of the `DataFrame`. We will be showing examples of appending `Series` to `DataFrames`. \n",
    "\n",
    "When using the `assign()` method to append a `Series`, `s1`, to a `DataFrame`, `df`, we must be sure that the `Series`, `s1`, has its `name`attribute assigned since this will be the new row label in the `DataFrame` `df1` after being appended. To assign `s1` the name, 'new_name' we would type: `s1.name = 'new_name'`. \n",
    "\n",
    "Suppose we wanted to add a row to the `DataFrame` `df2` with the labels and value pairs: 'medication': 'DIAZEPAM', and  'doctor_id': 5678, we would have two options: making a new `DataFrame` with the new row and modifying the original `DataFrame` in place.\n",
    "\n",
    "1. Making a **new `DataFrame`**\n",
    "\n",
    "```python\n",
    ">>> temp_series = pd.Series({'medication': 'DIAZEPAM', 'doctor_id': 5678}, name='row_3')\n",
    ">>> print(df2.append(temp_series))\n",
    "         doctor_id  medication  nb_beneficiaries   specialty\n",
    "row_2       3210  CLONAZEPAM              45.0  Psychiatry\n",
    "row_1       1234    DIAZEPAM              45.0      Family\n",
    "row_3       5678    DIAZEPAM               NaN         NaN\n",
    "```\n",
    "\n",
    "In the example above we first create a `Series` object with the name 'row_3' using the name argument of the `pandas` `Series` method and save it into the `temp_series` variable. Then we use the `append()` method of the `df2` `DataFrame` to append the `Series` `temp_series` to `df2`. Observe that the method `append()` returns a new `DataFrame` where the `Series'` `name` attribute is used as the row index label, 'row_3'. The indices that did not exist in the new `Series` but do exist in the `Column` object of the `DataFrame` are filled with `NaN`, these are referred to as *missing* values in `pandas`.\n",
    "\n",
    "2. Modifying **in-place**\n",
    "```python\n",
    ">>> df2.loc['row_3', :] = temp_series\n",
    ">>> print(df2)\n",
    "         doctor_id  medication  nb_beneficiaries   specialty\n",
    "row_2       3210  CLONAZEPAM              45.0  Psychiatry\n",
    "row_1       1234    DIAZEPAM              45.0      Family\n",
    "row_3       5678    DIAZEPAM               NaN         NaN\n",
    "```\n",
    "\n",
    "To modify the `DataFrame` in-place we reference the new row to be assigned by its label using the `loc` attribute and assign to it a `Series`. Also notice that we had to print `df2` since appending the new row was done in place and a new `DataFrame` is not returned from that operation.\n"
   ]
  },
  {
   "cell_type": "code",
   "execution_count": 0,
   "metadata": {
    "colab": {},
    "colab_type": "code",
    "id": "7UFKy_yQmL3U"
   },
   "outputs": [],
   "source": [
    "temp_series = pd.Series({'medication': 'DIAZEPAM', 'doctor_id': 5678}, name='row_3')\n",
    "df2.append(temp_series)"
   ]
  },
  {
   "cell_type": "code",
   "execution_count": 0,
   "metadata": {
    "colab": {},
    "colab_type": "code",
    "id": "2znJjeKJp5tG"
   },
   "outputs": [],
   "source": [
    "df2.loc['row_3', :] = temp_series\n",
    "df2"
   ]
  },
  {
   "cell_type": "markdown",
   "metadata": {
    "colab_type": "text",
    "id": "FC7_2h3qiReH"
   },
   "source": [
    "# Exercise 1.7: Adding Rows to DataFrames\n",
    "\n",
    "Which lines of code will make a **copy** of the 'lunch_order_df DataFrame' from Exercise 1.4,  and add a row with the label: 'Moana' and values 'Salad', 9.00, 'tea', to the columns 'item', 'price', and 'drink' respectively?\n",
    "\n",
    "A:\n",
    "```python\n",
    "data = pd.Series({'item': 'Salad', 'price':9.00, 'drink': 'tea'}, name='Moana' )\n",
    "lunch_order_df.iloc[2, :] = data\n",
    "```\n",
    "\n",
    "B:\n",
    "```python\n",
    "data = pd.Series({'item': 'Salad', 'price':9.00, 'drink': 'tea'})\n",
    "lunch_order_df.append(data)\n",
    "```\n",
    "\n",
    "C:\n",
    "```python\n",
    "data = pd.Series({'item': 'Salad', 'price':9.00, 'drink': 'tea'})\n",
    "lunch_order_df.loc['Moana', :] = data\n",
    "```\n",
    "\n",
    "D:\n",
    "```python\n",
    "data = pd.Series({'item': 'Salad', 'price':9.00, 'drink': 'tea'}, name='Moana')\n",
    "lunch_order_df.append(data)\n",
    "```\n",
    "\n",
    "Hint: Feel free to use the code cell below to try these commands out. For the incorrect options, make note of what is going wrong and or what errors are being thrown."
   ]
  },
  {
   "cell_type": "code",
   "execution_count": 0,
   "metadata": {
    "colab": {},
    "colab_type": "code",
    "id": "y41olmy3wFVJ"
   },
   "outputs": [],
   "source": [
    "# Exercise 1.7 scratch code cell"
   ]
  },
  {
   "cell_type": "markdown",
   "metadata": {
    "colab_type": "text",
    "id": "KyLfss9osAtc"
   },
   "source": [
    "### Dropping Rows and Columns from `DataFrames`\n",
    "\n",
    "Rows and Columns from a `DataFrame` can be discarded using the `drop()` method. The `drop()` method takes one positional parameter which is the label of the row or column that is going to be dropped. \n",
    "\n",
    "The `drop()` method will drop a row or a column depending on the value that the `axis` parameter is set to. If the `axis` parameter is set to 'columns' then we are dropping a column with the specified label, otherwise if the `axis` parameter is set to 'rows' then we are dropping a row. The default, the `axis` parameter is 'rows'. \n",
    "\n",
    "As with sort and many other methods, `drop()` can modify the input `DataFrame`, rather than making a new `DataFrame` with the desired changes, by setting the `inplace`  parameter to `True`.\n",
    "\n",
    "Suppose, for instance, we wanted to drop the row labeled 'row_3' from the `DataFrame` `df2`. We again have two options, we can create a new `DataFrame` with the dropped row without modifying the original `df2`, or, we can drop the row in place.\n",
    "\n",
    "1. **New DataFrame with Dropped Row**\n",
    "\n",
    "```python\n",
    ">>> df2.drop('row_3', axis='rows')\n",
    "         doctor_id  medication  nb_beneficiaries   specialty\n",
    "row_2       3210  CLONAZEPAM              45.0  Psychiatry\n",
    "row_1       1234    DIAZEPAM              45.0      Family\n",
    "```\n",
    "\n",
    "We see in the example above, New DataFrame with Dropped Row, that method `drop()` returns a new `DataFrame` with the desired results.\n",
    "\n",
    "2. **Drop Row In-place**\n",
    "\n",
    "```python\n",
    ">>> df2.drop('row_3', axis='rows', inplace=True)\n",
    ">>> df2\n",
    "       doctor_id  medication  nb_beneficiaries   specialty\n",
    "row_2       3210  CLONAZEPAM              45.0  Psychiatry\n",
    "row_1       1234    DIAZEPAM              45.0      Family\n",
    "```\n",
    "\n",
    "In the second example, we see that by setting `inplace = True` we need to print out df2 after the method call since there was nothing returned and by printing out `df2` our desired results can be verified. \n",
    "\n",
    "Now suppose we want to drop the entire column labeled by 'specialty' from the `DataFrame` `df2`. We again have two options, we can create a new `DataFrame` with the dropped row without modifying the original `df2`, or, we can drop the row in place.\n",
    "\n",
    "1. **New DataFrame with Dropped Column**\n",
    "\n",
    "```python\n",
    ">>> df2.drop('specialty', axis='columns')\n",
    "       doctor_id  medication  nb_beneficiaries\n",
    "row_2       3210  CLONAZEPAM              45.0\n",
    "row_1       1234    DIAZEPAM              45.0\n",
    "```\n",
    "\n",
    "The example above shows that the `drop()` method will return a new `DataFrame` if `inplace` is not manually set to False. Notice also that we had to set the axis parameter to 'columns' so that the method knows that we are dropping a `column`.\n",
    "\n",
    "2. **Drop Column In-place**\n",
    "\n",
    "```python\n",
    ">>> df2.drop('specialty', axis='columns', inplace=True)\n",
    ">>> print(df2)\n",
    "       doctor_id  medication  nb_beneficiaries\n",
    "row_2       3210  CLONAZEPAM              45.0\n",
    "row_1       1234    DIAZEPAM              45.0\n",
    "```\n",
    "\n",
    "This last example above demonstrates that if `inplace=True` in the `drop()` method call, then `df2` is modified in place and the `drop()` method does not return anything."
   ]
  },
  {
   "cell_type": "code",
   "execution_count": 0,
   "metadata": {
    "colab": {},
    "colab_type": "code",
    "id": "xSHTaOA6VZ70"
   },
   "outputs": [],
   "source": [
    "df2.drop('row_3', axis= 'rows')"
   ]
  },
  {
   "cell_type": "code",
   "execution_count": 0,
   "metadata": {
    "colab": {},
    "colab_type": "code",
    "id": "xE2tksmMWBV5"
   },
   "outputs": [],
   "source": [
    "df2.drop('row_3', inplace=True)\n",
    "df2"
   ]
  },
  {
   "cell_type": "code",
   "execution_count": 0,
   "metadata": {
    "colab": {},
    "colab_type": "code",
    "id": "5jva0T3ZWRG6"
   },
   "outputs": [],
   "source": [
    "df2.drop('specialty', axis='columns')"
   ]
  },
  {
   "cell_type": "code",
   "execution_count": 0,
   "metadata": {
    "colab": {},
    "colab_type": "code",
    "id": "uwa_HvN9YPKW"
   },
   "outputs": [],
   "source": [
    "df2.drop('specialty', axis='columns', inplace=True)\n",
    "df2"
   ]
  },
  {
   "cell_type": "markdown",
   "metadata": {
    "colab_type": "text",
    "id": "_Oj4Fr-jl0-M"
   },
   "source": [
    "# Exercise 1.8: Dropping Data from DataFrames\n",
    "\n",
    "What is the result of the follwing lines of code?\n",
    "\n",
    "```python\n",
    "lunch_order_df.drop('price', axis='columns', inplace=True)\n",
    "```\n",
    "\n",
    "A: There is a syntax error in this line of code and it will not execute.\n",
    "\n",
    "B: The column 'price' is dropped from the original `lunch_order_df DataFrame`.\n",
    "\n",
    "C: A copy of `lunch_order_df` is made without the column 'price' from the original `DataFrame`. The original `DataFrame` is left unchanged.\n",
    "\n",
    "D: A copy of `lunch_order_df` is made without the row 'price' from the original `DataFrame`. The original `DataFrame` is left unchanged.\n"
   ]
  },
  {
   "cell_type": "markdown",
   "metadata": {
    "colab_type": "text",
    "id": "ku8Kp_dJKd8m"
   },
   "source": [
    "### Adding Data to `Series`\n",
    "\n",
    "We can add data with a corresponding index to a `Series` by referencing the new index and assigning it a value. This is similar to adding columns and rows to `DataFrames`, however dot notation cannot be used when initializing the data. \n",
    "\n",
    "If we wanted to add a new data entry, $i$, to the `Series`, `s`, with label, `l`, we would write `s[l] = i`.\n",
    "\n",
    "For instance to add a new data entry 'test_data' labeled 'new_index' to the `Series s1` in-place we would type:\n",
    "\n",
    "```python\n",
    ">>> s1['new_index'] = 'test_data'\n",
    ">>> s1\n",
    "doctor_id                1234\n",
    "medication           DIAZEPAM\n",
    "nb_beneficiaries            3\n",
    "spending                  \\$32\n",
    "new_index           test_data\n",
    "dtype: object\n",
    "```\n",
    "\n",
    "To demonstrate that dot notation does not work for `Series`, we can try dot notation and compare to the previous results: \n",
    "\n",
    "```python\n",
    ">>> s1.new_index2 = 'test_data2'\n",
    ">>> s1\n",
    "doctor_id                1234\n",
    "medication           DIAZEPAM\n",
    "nb_beneficiaries            3\n",
    "spending                  \\$32\n",
    "new_index           test_data\n",
    "dtype: object\n",
    ">>> s1.new_index2\n",
    "test_data2\n",
    "```\n",
    "\n",
    "We see that a new index and value is not added to the `Series`, but rather a new attribute has been saved for `s1`. This is a feature that may be convient for other purposes, but not for adding data to a `Series`. \n"
   ]
  },
  {
   "cell_type": "code",
   "execution_count": 0,
   "metadata": {
    "colab": {},
    "colab_type": "code",
    "id": "-ZKF_lz9MbOq"
   },
   "outputs": [],
   "source": [
    "s1['new_index'] = 'test_data'\n",
    "s1"
   ]
  },
  {
   "cell_type": "code",
   "execution_count": 0,
   "metadata": {
    "colab": {},
    "colab_type": "code",
    "id": "nbaYS3YrMhQf"
   },
   "outputs": [],
   "source": [
    "s1.new_index2 = 'test_data2'\n",
    "print(s1)"
   ]
  },
  {
   "cell_type": "code",
   "execution_count": 0,
   "metadata": {
    "colab": {},
    "colab_type": "code",
    "id": "4ynizJIqMz9B"
   },
   "outputs": [],
   "source": [
    "s1.new_index2"
   ]
  },
  {
   "cell_type": "markdown",
   "metadata": {
    "colab_type": "text",
    "id": "5Rs2Lb6KHcCd"
   },
   "source": [
    "### Dropping Data From Series\n",
    "\n",
    "To remove a particular data entry, `pandas` `Series` have a `drop()` method just like `pandas` `DataFrames` that may be used for both dropping data in-place and making a copy. The `drop()` method takes one positional argument, `label`, which specifies the entry we are trying to drop. If we wanted to drop the data entry with label $l$ from the `Series` $s$, then we would type `s.drop(l)`. For instance, to drop the data entry labeled 'new_index' in the example `Series s1`, we would type:\n",
    "\n",
    "```python\n",
    ">>> s1.drop('new_index')\n",
    "doctor_id               1234\n",
    "medication          DIAZEPAM\n",
    "nb_beneficiaries           3\n",
    "spending                 $32\n",
    "dtype: object\n",
    "```\n",
    "\n",
    "We see in the above example that the `drop()` method will return a new `Series` with the data entry labeled by the positional argument we just dropped. To modify the orignal `Series` in place we can set the optional argument `inplace` to `True`. For example, if we wanted to do the same modification, drop the data entry labeled 'new_index', but make the modification inplace, then we would type:\n",
    "\n",
    "```python\n",
    ">>> s1.drop('new_index', inplace = True)\n",
    ">>> print(s1)\n",
    "doctor_id               1234\n",
    "medication          DIAZEPAM\n",
    "nb_beneficiaries           3\n",
    "spending                 $32\n",
    "dtype: object\n",
    "```\n",
    "\n",
    "In the example above we see that the `drop()` method returns `None` and that the original `Series`, which we had to print after the method call, no longer has the `new_index` data entry. \n"
   ]
  },
  {
   "cell_type": "code",
   "execution_count": 0,
   "metadata": {
    "colab": {},
    "colab_type": "code",
    "id": "oDXtyuaxKbTd"
   },
   "outputs": [],
   "source": [
    "s1.drop('new_index')"
   ]
  },
  {
   "cell_type": "code",
   "execution_count": 0,
   "metadata": {
    "colab": {},
    "colab_type": "code",
    "id": "Ri4SDfUeLVqm"
   },
   "outputs": [],
   "source": [
    "s1.drop('new_index', inplace = True)\n",
    "print(s1)"
   ]
  },
  {
   "cell_type": "markdown",
   "metadata": {
    "colab_type": "text",
    "id": "rLGuQfy8n7zX"
   },
   "source": [
    "# Summary\n",
    "\n",
    "---\n",
    "**`Series` Vs. `DataFrames`**\n",
    "  1. `Series`: list-like objects that store data in a given order.\n",
    "  2. `DataFrames`: spreadsheet-like tables that contain one or more Series.\n",
    "  \n",
    "**`Series`**\n",
    "* To create a series from native `Python`  data structures we use the `pandas` `Series()` function\n",
    "  \n",
    "  ![](images/seriesIndex.png)\n",
    "\n",
    "**`DataFrames`**\n",
    "* To create a series from native `Python`  data structures we use the `pandas` `DataFrame()` function\n",
    "  \n",
    "  ![](images/pandasDataFrame.png)\n",
    "\n",
    "**Accessing Data from the `DataFrame`**\n",
    "\n",
    "| Syntax                |   Meaning    |\n",
    "|:--------------------------|:-------------------|\n",
    "| `dataframe[\"col_name\"]`    |  Return `Series` of \"col_name\"'s  |\n",
    "| `dataframe[[\"col_name_1\", \"col_name_2\"] ]`    |  Returns `DataFrame` with  \"col_name_1\" and \"col_name_2\"|\n",
    "| `dataframe.loc[\"label\",:]`| returns row indexed by \"label\" |\n",
    "| `dataframe.loc[\"label\", [\"col_3\", 'col_5']]`| return entry indexed by \"label\", subsets columns to only \"col_3\" and \"col_5\" |\n",
    "| `dataframe.loc[[\"label_1\", \"label_2\"], ['col_3', 'col_5']]`| returns lines with indices \"label_1\" and \"label\", subsets columns to only \"col_3\" and \"col_5\" |\n",
    "| `dataframe.iloc[23, [0, 1]]`| returns line 23, and only values of columns 0 and 1 |\n",
    "| `dataframe.iloc[[1,2], [0, 1]]`| returns lines 1 and 2, and only values of columns 0 and 1 |\n",
    "\n",
    "![](images/DataFrameColumns.png)\n",
    "\n",
    "**Modifying Series and DataFrames**\n",
    "\n",
    "* Most of the pandas methods for modifying the data in a `Series` and `DataFrame` will, by default, not alter the original object, rather a **copy** with the desired changes is made. If you are confident of the operation you are performing on the object and do not care to make a copy, then many times you can pass the optional argument  \"`inplace=True`\" to the pandas method you are calling and the original object will be altered **inplace**.\n",
    "\n",
    "* To add columns to `DataFrames` we have 2 options: \n",
    "  \n",
    "    1. Modify the `DataFrame` in place: use the `assign()` `DataFrame` method.\n",
    "    2. Make a new `DataFrame` from a copy of the original with the desired additions: first reference and then designate values to columns that don't yet exist. \n",
    "  \n",
    "* We may drop both Rows and Columns from a `DataFrame` using the `drop()` method. \n",
    "  * The `drop()` method takes a positional parameter which is the label of the row or column that is going to be dropped. \n",
    "  * The `drop()` method will drop a row or a column depending on the value that the `axis` parameter is set to. \n",
    "    * If the `axis` parameter is set to 'columns' then we are dropping a column with the specified name, otherwise if the `axis` parameter is set to 'rows' then we are dropping a row with the specified name.\n",
    "  \n"
   ]
  }
 ],
 "metadata": {
  "colab": {
   "collapsed_sections": [],
   "name": "1_pandas_Data_Structures.ipynb",
   "provenance": [],
   "toc_visible": true,
   "version": "0.3.2"
  },
  "kernelspec": {
   "display_name": "Python 3",
   "language": "python",
   "name": "python3"
  },
  "language_info": {
   "codemirror_mode": {
    "name": "ipython",
    "version": 3
   },
   "file_extension": ".py",
   "mimetype": "text/x-python",
   "name": "python",
   "nbconvert_exporter": "python",
   "pygments_lexer": "ipython3",
   "version": "3.6.1"
  }
 },
 "nbformat": 4,
 "nbformat_minor": 1
}
