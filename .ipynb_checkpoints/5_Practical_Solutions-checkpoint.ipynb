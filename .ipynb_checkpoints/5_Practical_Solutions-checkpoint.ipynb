{
 "cells": [
  {
   "cell_type": "markdown",
   "metadata": {
    "colab_type": "text",
    "id": "CS6bM3aNSoQa"
   },
   "source": [
    "# Data Cleaning and Preperation Practical Solutions\n",
    "\n",
    "Please note that there are many possible ways to complete the practical tasks that are not limited to the solutions provided by this document. The output of your code should however exactly match the following solutions.\n",
    "\n",
    "---\n",
    "\n",
    "1.  Start a new Jupyter Notebook\n",
    "\n",
    "2.  Import the `pandas` Python package using the standard alias: `pd`, as well as `matplotlib.pyplot` as `plt`"
   ]
  },
  {
   "cell_type": "code",
   "execution_count": 18,
   "metadata": {
    "colab": {},
    "colab_type": "code",
    "id": "zSRtBUslSEm1"
   },
   "outputs": [],
   "source": [
    "import pandas as pd"
   ]
  },
  {
   "cell_type": "markdown",
   "metadata": {
    "colab_type": "text",
    "id": "zvwmYNVzS0o0"
   },
   "source": [
    "3. Read the file `data/spending_ch4_practical_1.csv` located in the data folder into a new `pandas` DataFrame named `spending_df` with index column set to 'unique_id'"
   ]
  },
  {
   "cell_type": "code",
   "execution_count": 19,
   "metadata": {
    "colab": {},
    "colab_type": "code",
    "id": "zPtaXsEXS24t"
   },
   "outputs": [],
   "source": [
    "spending_df = pd.read_csv('data/spending_ch5_practical_1.csv', index_col='unique_id')"
   ]
  },
  {
   "cell_type": "markdown",
   "metadata": {
    "colab_type": "text",
    "id": "-j8yLdUpTF62"
   },
   "source": [
    "4. Inspect the data types of each of the columns of `spending_df`, do you notice anything that should be corrected? "
   ]
  },
  {
   "cell_type": "code",
   "execution_count": 20,
   "metadata": {
    "colab": {},
    "colab_type": "code",
    "id": "lJ7zr0GiTOOf"
   },
   "outputs": [
    {
     "data": {
      "text/plain": [
       "doctor_id             int64\n",
       "specialty            object\n",
       "medication           object\n",
       "nb_beneficiaries    float64\n",
       "spending             object\n",
       "dtype: object"
      ]
     },
     "execution_count": 20,
     "metadata": {},
     "output_type": "execute_result"
    }
   ],
   "source": [
    "spending_df.dtypes"
   ]
  },
  {
   "cell_type": "markdown",
   "metadata": {
    "colab_type": "text",
    "id": "ZAxc5KGJTHtE"
   },
   "source": [
    "* Change the data type of the `doctor_id` column to 'object' and the `spending` column to 'float64'"
   ]
  },
  {
   "cell_type": "code",
   "execution_count": 21,
   "metadata": {
    "colab": {},
    "colab_type": "code",
    "id": "zTqv3xA6TUpT"
   },
   "outputs": [],
   "source": [
    "spending_df.doctor_id = spending_df.doctor_id.astype('object')\n",
    "spending_df.spending = (spending_df.spending\n",
    "                        .str.replace(\"$\", \"\")\n",
    "                        .str.replace(\",\", \"\")\n",
    "                        .astype(\"float64\"))"
   ]
  },
  {
   "cell_type": "markdown",
   "metadata": {},
   "source": [
    "5. How many rows in the `spending_df` `DataFrame` have missing `medication` entries?"
   ]
  },
  {
   "cell_type": "code",
   "execution_count": 24,
   "metadata": {},
   "outputs": [
    {
     "data": {
      "text/plain": [
       "array(['INTERNAL MEDICINE'], dtype=object)"
      ]
     },
     "execution_count": 24,
     "metadata": {},
     "output_type": "execute_result"
    }
   ],
   "source": [
    "spending_df.specialty[spending_df.medication.isnull()].unique()"
   ]
  },
  {
   "cell_type": "markdown",
   "metadata": {
    "colab_type": "text",
    "id": "-RjIWUOzUXuN"
   },
   "source": [
    "6. Drop rows that have less than `4` non-missing values inplace"
   ]
  },
  {
   "cell_type": "code",
   "execution_count": 14,
   "metadata": {
    "colab": {},
    "colab_type": "code",
    "id": "-qs51H6NVFX7"
   },
   "outputs": [],
   "source": [
    "spending_df.dropna(thresh=4, axis='rows', inplace=True)"
   ]
  },
  {
   "cell_type": "markdown",
   "metadata": {
    "colab_type": "text",
    "id": "0NnZ_Am-WEEz"
   },
   "source": [
    "7. Replace the missing values for the columns `nb_beneficiaries` and `spending`  with their respective medians and the missing values in `specialty` with 'UNKNOWN'. The replacement should be inplace, i.e. the orignal `DataFrame` should be updated."
   ]
  },
  {
   "cell_type": "code",
   "execution_count": 23,
   "metadata": {
    "colab": {},
    "colab_type": "code",
    "id": "pYfAOSn7WF3Y"
   },
   "outputs": [],
   "source": [
    "spending_df.fillna({'nb_beneficiaries': spending_df.nb_beneficiaries.median(),\n",
    "                   'spending': spending_df.spending.median(),\n",
    "                   'specialty': 'UNKNOWN'},\n",
    "                   inplace=True)"
   ]
  },
  {
   "cell_type": "markdown",
   "metadata": {},
   "source": [
    "8. Inspect the unique entries in the `specialty` column"
   ]
  },
  {
   "cell_type": "code",
   "execution_count": 16,
   "metadata": {},
   "outputs": [
    {
     "data": {
      "text/plain": [
       "array(['INTERNAL MEDICINE', 'CARDIOLOGY',\n",
       "       'STUDENT IN AN ORGANIZED HEALTH CARE EDUCATION/TRAINING PROGRAM',\n",
       "       'UNKNOWN', 'INTERVENTIONAL CARDIOLOGY', 'OPHTHALMOLOGY',\n",
       "       'NURSE PRACTITIONER', 'PAIN MANAGEMENT', 'FAMILY PRACTICE',\n",
       "       'PSYCHIATRY', 'OBSTETRICS/GYNECOLOGY', 'PHYSICIAN ASSISTANT',\n",
       "       'ENDOCRINOLOGY', 'ORTHOPEDIC SURGERY', 'PULMONARY DISEASE',\n",
       "       'HEMATOLOGY/ONCOLOGY'], dtype=object)"
      ]
     },
     "execution_count": 16,
     "metadata": {},
     "output_type": "execute_result"
    }
   ],
   "source": [
    "spending_df.specialty.unique()"
   ]
  },
  {
   "cell_type": "markdown",
   "metadata": {},
   "source": [
    "  * Suppose for our analysis that we wanted to consider 'CARDIOLOGY' and 'INTERVENTIONAL CARDIOLOGY' to be classified under the same specialty. Change every `specialty` entry of 'INTERVENTIONAL CARDIOLOGY' to  'CARDIOLOGY'. This modification should be performed inplace."
   ]
  },
  {
   "cell_type": "code",
   "execution_count": null,
   "metadata": {},
   "outputs": [],
   "source": [
    "spending_df.specialty = spending_df.specialty.str.replace(\"INTERVENTIONAL CARDIOLOGY\", \"CARDIOLOGY\")"
   ]
  }
 ],
 "metadata": {
  "colab": {
   "collapsed_sections": [],
   "name": "4_Data_Cleaning_and_Preparation_Practical_Solutions.ipynb",
   "provenance": [],
   "version": "0.3.2"
  },
  "kernelspec": {
   "display_name": "Python 3",
   "language": "python",
   "name": "python3"
  },
  "language_info": {
   "codemirror_mode": {
    "name": "ipython",
    "version": 3
   },
   "file_extension": ".py",
   "mimetype": "text/x-python",
   "name": "python",
   "nbconvert_exporter": "python",
   "pygments_lexer": "ipython3",
   "version": "3.6.1"
  },
  "toc": {
   "base_numbering": 1,
   "nav_menu": {},
   "number_sections": true,
   "sideBar": true,
   "skip_h1_title": false,
   "title_cell": "Table of Contents",
   "title_sidebar": "Contents",
   "toc_cell": false,
   "toc_position": {},
   "toc_section_display": true,
   "toc_window_display": false
  }
 },
 "nbformat": 4,
 "nbformat_minor": 1
}
