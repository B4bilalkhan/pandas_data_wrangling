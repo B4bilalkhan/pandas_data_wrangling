{
 "cells": [
  {
   "cell_type": "markdown",
   "metadata": {
    "colab_type": "text",
    "id": "zYB2jhcDSTU1"
   },
   "source": [
    "# Data Cleaning Practical\n",
    "\n",
    "---\n",
    "\n",
    "1.  Start a new Jupyter Notebook\n",
    "\n",
    "2.  Import the `pandas` Python package using the standard alias: `pd`\n",
    "\n",
    "3. Read the file `data/spending_ch5_practical_1.csv` located in the data folder into a new `pandas` DataFrame named `spending_df` with index column set to 'unique_id'\n",
    "\n",
    "4. Inspect the data types of each of the columns of `spending_df`, do you notice anything that should be corrected? \n",
    "\n",
    "  * Change the data type of the `doctor_id` column to 'object' and the `spending` column to 'float64'\n",
    "  \n",
    "5. What are the unique specialties for which the `spending_df` `DataFrame` has a missing `medication` entry?\n",
    "\n",
    "6. Drop rows that have less than `4` non-missing values in place\n",
    "\n",
    "7. Replace the missing values for the columns `nb_beneficiaries` and `spending`  with their respective medians and the missing values in `specialty` with 'UNKNOWN'. The replacement should be inplace, i.e. the orignal `DataFrame` should be updated\n",
    "\n",
    "8. Inspect the unique entries in the `specialty` column\n",
    "  * Suppose for our analysis that we wanted to consider 'CARDIOLOGY' and 'INTERVENTIONAL CARDIOLOGY' to be classified under the same specialty. Change every `specialty` entry of 'INTERVENTIONAL CARDIOLOGY' to  'CARDIOLOGY'."
   ]
  }
 ],
 "metadata": {
  "colab": {
   "collapsed_sections": [],
   "name": "4_Data_Preparation_and_Cleaning_Practical.ipynb",
   "provenance": [],
   "version": "0.3.2"
  },
  "kernelspec": {
   "display_name": "Python 3",
   "language": "python",
   "name": "python3"
  },
  "language_info": {
   "codemirror_mode": {
    "name": "ipython",
    "version": 3
   },
   "file_extension": ".py",
   "mimetype": "text/x-python",
   "name": "python",
   "nbconvert_exporter": "python",
   "pygments_lexer": "ipython3",
   "version": "3.6.1"
  },
  "toc": {
   "base_numbering": 1,
   "nav_menu": {},
   "number_sections": true,
   "sideBar": true,
   "skip_h1_title": false,
   "title_cell": "Table of Contents",
   "title_sidebar": "Contents",
   "toc_cell": false,
   "toc_position": {},
   "toc_section_display": true,
   "toc_window_display": false
  }
 },
 "nbformat": 4,
 "nbformat_minor": 1
}
