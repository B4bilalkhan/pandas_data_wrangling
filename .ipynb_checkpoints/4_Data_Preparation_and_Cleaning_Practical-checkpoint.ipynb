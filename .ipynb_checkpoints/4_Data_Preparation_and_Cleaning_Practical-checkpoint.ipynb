{
 "cells": [
  {
   "cell_type": "markdown",
   "metadata": {
    "colab_type": "text",
    "id": "zYB2jhcDSTU1"
   },
   "source": [
    "# Data Cleaning Practical\n",
    "\n",
    "---\n",
    "\n",
    "1.  Start a new Jupyter Notebook\n",
    "\n",
    "2.  Import the `pandas` Python package using the standard alias: `pd`\n",
    "\n",
    "3. Read the file `data/spending_ch4_practical_1.csv` located in the data folder into a new `pandas` DataFrame named `spending_df` with index column set to 'unique_id'\n",
    "\n",
    "4. Inspect the data types of each of the columns of `spending_df`, do you notice anything that should be corrected? \n",
    "\n",
    "  * Change the data type of the `doctor_id` column to 'object' and the `spending` column to 'float64'\n",
    "\n",
    "5. Drop rows that have less than `4` non-missing values in place\n",
    "\n",
    "6. Replace the missing values for the columns `nb_beneficiaries` and `spending`  with their respective medians and the missing values in `specialty` with the most frequent specialty. The replacement should be inplace, i.e. the orignal `DataFrame` should be updated\n",
    "\n",
    "7. What are the numbers of the rows for which the value of the column `specialty` is \"NURSE PRACTITIONER\" and the value of spending is lower than $5000\n",
    "\n",
    "  * Remove those rows from the original `DataFrame`\n",
    "  \n",
    "8. Read the file `data/spending_ch4_practical_2.csv` located in the data folder into the `pandas` DataFrame `spending_df` with index column set to 'unique_id'\n",
    "\n",
    "9. Filter out any specialties that have less than 200 records or for which the total number of beneficiaries is less than 15,000.\n",
    "\n",
    "  * Print your results as a sorted `DataFrame`. The sort order should include specialty (Ascending), nb_beneficiaries (descending), spending (descending).\n",
    "\n",
    "  * How many specialties pass this filtering?\n",
    "\n",
    "10. We covered the code below in this module. Do you remember what it does?\n",
    "\n",
    "```python \n",
    "\n",
    "def my_function(x):\n",
    "    return (x   / x.sum() ) * 100\n",
    "    \n",
    "spending_by_specialty = spending_df.groupby('specialty')\n",
    "spending_df[\"spending_pct\"] = spending_by_specialty['spending'].transform(my_function)\n",
    "\n",
    "medication_spending_pct = spending_df.groupby([\"specialty\", \"medication\"])[\"spending_pct\"].sum().reset_index()\n",
    "```\n",
    "\n",
    "  * Copy and paste the code into a cell. Run the cell and print the first five rows of `medication_spending_pct` `DataFrame` using the method `head`. \n",
    "\n",
    "11. Group `medication_spendng_pct` on specialty and filter the specialties for which the sum of the top 2 medicines in terms of spending_pct is < 80. For instance, the sum of the `spending_pct` for the highest 2 entries for `\"ADDICTION MEDICINE\"`  is 88.89 + 8.98 =  97.87. Therefore, we should retain this specialty. However, the sum of the top 2 medicines in \"ALLERGY/IMMUNOLOGY\" is 41.89 + 8.14 = 43.10; therefore, we should discard this specialty.\n",
    "\n",
    " * Print only the top two entries of each specialty in the resulting `DataFrame`. \n",
    "\n"
   ]
  },
  {
   "cell_type": "code",
   "execution_count": 0,
   "metadata": {
    "colab": {},
    "colab_type": "code",
    "id": "rdBJ_R8U2Mcx"
   },
   "outputs": [],
   "source": []
  }
 ],
 "metadata": {
  "colab": {
   "collapsed_sections": [],
   "name": "4_Data_Preparation_and_Cleaning_Practical.ipynb",
   "provenance": [],
   "version": "0.3.2"
  },
  "kernelspec": {
   "display_name": "Python 2",
   "language": "python",
   "name": "python2"
  },
  "language_info": {
   "codemirror_mode": {
    "name": "ipython",
    "version": 2
   },
   "file_extension": ".py",
   "mimetype": "text/x-python",
   "name": "python",
   "nbconvert_exporter": "python",
   "pygments_lexer": "ipython2",
   "version": "2.7.14"
  }
 },
 "nbformat": 4,
 "nbformat_minor": 1
}
