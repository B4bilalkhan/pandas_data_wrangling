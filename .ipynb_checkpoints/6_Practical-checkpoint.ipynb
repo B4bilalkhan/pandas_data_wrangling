{
 "cells": [
  {
   "cell_type": "markdown",
   "metadata": {
    "colab_type": "text",
    "id": "zYB2jhcDSTU1"
   },
   "source": [
    "# Function Application and Mapping Practical\n",
    "\n",
    "---\n",
    "\n",
    "1.  Start a new Jupyter Notebook\n",
    "\n",
    "2.  Import the `pandas` Python package using the standard alias: `pd`\n",
    "  \n",
    "3. Read the file `data/spending_ch6_practical.csv` located in the data folder into the `pandas` DataFrame `spending_df` with index column set to 'unique_id'\n",
    "\n",
    "4. Filter out any specialties that have less than 200 records or for which the total number of beneficiaries is less than 15,000.\n",
    "\n",
    "  * Print your results as a sorted `DataFrame`. The sort order should include specialty (Ascending), nb_beneficiaries (descending), spending (descending).\n",
    "\n",
    "  * How many unique specialties pass this filtering?\n",
    "  \n",
    "5. Let us walk through a *split apply combine* example step by step.\n",
    "  * First *split* the `DataFrame` based on the entries in the `spending` column. To do this group the `spending_df` `DataFrame` by the entries in both the `specialty` and `medication` columns, save the resulting `GroupBy` object as `medication_spending`.\n",
    "  * Second *apply* and *combine* using the `GroupBy` `sum()` method to the `spending` column and save the resulting `DataFrame` as `medication_spending_df`.\n",
    "\n",
    "7. Group `medication_spending_df` on specialty and filter the specialties for which the sum of the top 2 medicines in terms of `spending` is less than 80\\% of the total spending. For instance, if the sum of the `spending` for the highest 2 entries for `ADDICTION MEDICINE`  is  $817.88 + 82.62 =  900.5$ and the total `spending` is $920.06$, then we have that $900.5 / 920.06 > 0.8$, therefore, we should retain this specialty. However, the if sum of the top 2 medicines in `ALLERGY/IMMUNOLOGY` is $79261.85 + 34318.54 = 113580.39$, but the total sum is $189174.06$, we have that $113580.39 / 189174.06 < 0.8$, therefore, we should discard this specialty.\n",
    "\n",
    " * Print only the top two entries of each specialty in the resulting `Series`. \n",
    "\n"
   ]
  },
  {
   "cell_type": "code",
   "execution_count": null,
   "metadata": {
    "colab": {},
    "colab_type": "code",
    "id": "rdBJ_R8U2Mcx"
   },
   "outputs": [],
   "source": []
  }
 ],
 "metadata": {
  "colab": {
   "collapsed_sections": [],
   "name": "4_Data_Preparation_and_Cleaning_Practical.ipynb",
   "provenance": [],
   "version": "0.3.2"
  },
  "kernelspec": {
   "display_name": "Python 3",
   "language": "python",
   "name": "python3"
  },
  "language_info": {
   "codemirror_mode": {
    "name": "ipython",
    "version": 3
   },
   "file_extension": ".py",
   "mimetype": "text/x-python",
   "name": "python",
   "nbconvert_exporter": "python",
   "pygments_lexer": "ipython3",
   "version": "3.6.1"
  },
  "toc": {
   "base_numbering": 1,
   "nav_menu": {},
   "number_sections": true,
   "sideBar": true,
   "skip_h1_title": false,
   "title_cell": "Table of Contents",
   "title_sidebar": "Contents",
   "toc_cell": false,
   "toc_position": {},
   "toc_section_display": true,
   "toc_window_display": false
  }
 },
 "nbformat": 4,
 "nbformat_minor": 1
}
