{
 "cells": [
  {
   "cell_type": "markdown",
   "metadata": {},
   "source": [
    "# Combining `DataFrames` Practical\n",
    "\n",
    "1) Start with a new Jupyter Notebook.\n",
    "\n",
    "2) Read the file `Data/spending_ch5_practical_.csv` located in the data folder into a new pandas DataFrame called `spending_df`.\n",
    "\n",
    "  * Make sure you import the appropriate modules first."
   ]
  },
  {
   "cell_type": "code",
   "execution_count": 9,
   "metadata": {},
   "outputs": [],
   "source": [
    "import pandas as pd\n",
    "spending_df = pd.read_csv('Data/spending_ch5_practical.csv')"
   ]
  },
  {
   "cell_type": "markdown",
   "metadata": {},
   "source": [
    "  * Read the file `Data/medication_class_ch5_practical.csv` located in the data folder into a new pandas DataFrame called `medication_to_class_p1`."
   ]
  },
  {
   "cell_type": "code",
   "execution_count": 10,
   "metadata": {},
   "outputs": [],
   "source": [
    "medication_to_class_p1 = pd.read_csv(\"Data/medication_class_ch5_practical.csv\")"
   ]
  },
  {
   "cell_type": "markdown",
   "metadata": {},
   "source": [
    "3) Merge `spending_df` and `medication_to_class_p1` so that all of the entries in spending_df are still in the resulting `DataFrame`. The merge keys should be the `medication` and `medication_name` columns for the `spending_df` and `medication_to_class_p1` `DataFrames` respectively. Save the resulting `DataFrame` as `spending_and_classification`"
   ]
  },
  {
   "cell_type": "code",
   "execution_count": 19,
   "metadata": {},
   "outputs": [],
   "source": [
    "spending_and_classification = spending_df.merge(medication_to_class_p1, \n",
    "                                                left_on='medication', \n",
    "                                                right_on='medication_name', \n",
    "                                                how='left')"
   ]
  },
  {
   "cell_type": "markdown",
   "metadata": {},
   "source": [
    "4) Determine the number of unique medications that do not have a class in `spending_and_classification`."
   ]
  },
  {
   "cell_type": "code",
   "execution_count": 44,
   "metadata": {},
   "outputs": [
    {
     "data": {
      "text/plain": [
       "149"
      ]
     },
     "execution_count": 44,
     "metadata": {},
     "output_type": "execute_result"
    }
   ],
   "source": [
    "spending_and_classification.medication[spending_and_classification.medication_name.isna()].nunique()"
   ]
  },
  {
   "cell_type": "markdown",
   "metadata": {},
   "source": [
    "5) We have a second file called `Data/medication_class_2_ch5_practical.csv` which contains additional medication classes \n",
    " \n",
    "  * Read the file `Data/medication_class_2_ch5_practical.csv` into a new DataFrame called `medication_to_class_p2` and concat both `medication_to_class_p1` and `medication_to_class_p2` into a dataframe called `medication_to_class_ALL`"
   ]
  },
  {
   "cell_type": "code",
   "execution_count": 34,
   "metadata": {},
   "outputs": [],
   "source": [
    "medication_to_class_p2 = pd.read_csv('Data/medication_class_2_ch5_practical.csv')\n",
    "medication_to_class_ALL = pd.concat([medication_to_class_p1, medication_to_class_p2])"
   ]
  },
  {
   "cell_type": "markdown",
   "metadata": {},
   "source": [
    "  * Repeat question 1) using `medication_to_class_ALL`. Save the resulting `DataFrame` as `spending_and_classification_2`"
   ]
  },
  {
   "cell_type": "code",
   "execution_count": 36,
   "metadata": {},
   "outputs": [],
   "source": [
    "spending_and_classification_2 = spending_df.merge(medication_to_class_ALL, \n",
    "                                                  left_on='medication', \n",
    "                                                  right_on='medication_name', \n",
    "                                                  how='left')"
   ]
  },
  {
   "cell_type": "markdown",
   "metadata": {},
   "source": [
    "  * Determine the number of unique medications that still do not have a class in `spending_and_classification_2`."
   ]
  },
  {
   "cell_type": "code",
   "execution_count": 46,
   "metadata": {},
   "outputs": [
    {
     "data": {
      "text/plain": [
       "1"
      ]
     },
     "execution_count": 46,
     "metadata": {},
     "output_type": "execute_result"
    }
   ],
   "source": [
    "spending_and_classification_2.medication[spending_and_classification_2.medication_name.isna()].nunique()"
   ]
  },
  {
   "cell_type": "markdown",
   "metadata": {},
   "source": [
    "  * What are the name(s) of the medicines still missing? "
   ]
  },
  {
   "cell_type": "code",
   "execution_count": 47,
   "metadata": {},
   "outputs": [
    {
     "data": {
      "text/plain": [
       "array(['0.9 % SODIUM CHLORIDE'], dtype=object)"
      ]
     },
     "execution_count": 47,
     "metadata": {},
     "output_type": "execute_result"
    }
   ],
   "source": [
    "spending_and_classification_2.medication[spending_and_classification_2.medication_name.isna()].unique()"
   ]
  }
 ],
 "metadata": {
  "kernelspec": {
   "display_name": "Python 3",
   "language": "python",
   "name": "python3"
  },
  "language_info": {
   "codemirror_mode": {
    "name": "ipython",
    "version": 3
   },
   "file_extension": ".py",
   "mimetype": "text/x-python",
   "name": "python",
   "nbconvert_exporter": "python",
   "pygments_lexer": "ipython3",
   "version": "3.6.8"
  }
 },
 "nbformat": 4,
 "nbformat_minor": 2
}
