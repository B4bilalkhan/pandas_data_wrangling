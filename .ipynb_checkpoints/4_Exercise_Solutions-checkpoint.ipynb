{
 "cells": [
  {
   "cell_type": "markdown",
   "metadata": {
    "colab_type": "text",
    "id": "KdBSvhqBtyUK"
   },
   "source": [
    "# Exercise 4.0: Importing the Honolulu Flights Data Set\n",
    "\n",
    "For some of the exercises in this chapter we will again be working with the data set contained in the 'honolulu_flights.csv' file. Please recall that this data set contains information about all the arriving and departing flights in and out of the Honolulu aiport, HNL, on the Island of Oahu during the month of December 2015. The data set contains the following columns:\n",
    "\n",
    "| Column |Description|\n",
    "|:----------|-----------|\n",
    "| `YEAR` | The year of the flight  |\n",
    "| `MONTH` |  The month of the flight |\n",
    "| `DAY` |  The day of the flight |\n",
    "| `DAY_OF_WEEK` |  The day of the week of the flight |\n",
    "| `FLIGHT_NUMBER` |  The flight number of the flight |\n",
    "| `ORIGIN_AIRPORT` |  The origin airport of the flight  |\n",
    "| `DESTINATION_AIRPORT` |  The destination airport of the flight |\n",
    "| `DEPARTURE_DELAY` |  The departure delay of the flight  |\n",
    "| `DISTANCE` |  The distance of the flight in miles |\n",
    "| `AIR_TIME` |  The flight time without taxiing in minutes |\n",
    "| `ARRIVAL_DELAY` |  The arrival delay of the flight  |\n",
    "\n",
    "Be sure to build the `HNL_flights_df DataFrame` before trying the exercises in this chapter related to the Honolulu flights data set. To do this run the code in the following cell."
   ]
  },
  {
   "cell_type": "code",
   "execution_count": 0,
   "metadata": {
    "colab": {},
    "colab_type": "code",
    "id": "t9hIDwLZuE49"
   },
   "outputs": [],
   "source": [
    "HNL_flights_df = pd.read_csv('honolulu_flights.csv')"
   ]
  },
  {
   "cell_type": "markdown",
   "metadata": {
    "colab_type": "text",
    "id": "mLxstYMWOkWM"
   },
   "source": [
    "# Exercise 4.1: Subsetting with Comparison Operations\n",
    "\n",
    "\n",
    "Suppose we want to focus our attention to flights that had arrival delays. Which line of code will correctly return a subset of `HNL_flights_df` containg only flights that had a positive arrival delay?\n",
    "\n",
    "\n",
    "A:\n",
    "```python\n",
    "HNL_flights_df.loc[:, 'ARRIVAL_DELAY'] > 0\n",
    "```\n",
    "\n",
    "B:\n",
    "```python\n",
    "HNL_flights_df[HNL_flights_df.loc[:, 'ARRIVAL_DELAY'] > 0]\n",
    "```\n",
    "\n",
    "C:\n",
    "```python\n",
    "HNL_flights_df.loc[:, 'ARRIVAL_DELAY' > 0]\n",
    "```\n",
    "\n",
    "D:\n",
    "```python\n",
    "HNL_flights_df[HNL_flights_df > 0]\n",
    "```\n",
    "\n",
    "Hint: Feel free to use the code cell below to try these commands out. For the incorrect options, make note of what is going wrong and or what errors are being thrown.\n",
    "\n",
    "**Correct Answer**\n",
    "\n",
    "B:\n",
    "```python\n",
    "HNL_flights_df[HNL_flights_df.loc[:, 'ARRIVAL_DELAY'] > 0]\n",
    "```\n",
    "\n",
    "\n",
    "**Explanation**\n",
    "\n",
    "A: This option will result in a `Series` of booleans indicating the positions of the flights that have a positive arrival delay. This is used to subset `HNL_flights_df` in the correct answer.\n",
    "\n",
    "B: This line of code correctly creates a `Series` of booleans indicating the positions of the flights that have a positive arrival delay, and then uses it to subset `HNL_flights_df`.\n",
    "\n",
    "C: This line of code attempts to compare the string 'ARRIVAL_DELAY' to the integer 0, which is undefined in `Python` and results in a `TypeError` with the message: '>' not supported between instances of 'str' and 'int'.\n",
    "\n",
    "D: This line of code compares the `HNL_flights_df` to the integer 0 and uses the result to subset `HNL_flights_df`. `Pandas` defines the comparison so this line will run but without the desired results."
   ]
  },
  {
   "cell_type": "markdown",
   "metadata": {
    "colab_type": "text",
    "id": "lGM30uunGiDy"
   },
   "source": [
    "# Exercise 4.2: Subsetting with Boolean Operations\n",
    "\n",
    "Suppose we wanted to focus on flights that had both departure and arrival delays. Which line of will correctly return a subset of `HNL_flights_df` containing only flights that had both departure and arrival delays?\n",
    "\n",
    "A:\n",
    "```python\n",
    "HNL_flights_df[(HNL_flights_df.loc[:, 'ARRIVAL_DELAY'] > 0) | (HNL_flights_df.loc[:, 'DEPARTURE_DELAY'] > 0)]\n",
    "```\n",
    "\n",
    "B:\n",
    "```python\n",
    "HNL_flights_df[HNL_flights_df.loc[:, 'ARRIVAL_DELAY'] > 0 & HNL_flights_df.loc[:, 'DEPARTURE_DELAY'] > 0]\n",
    "```\n",
    "\n",
    "C:\n",
    "```python\n",
    "HNL_flights_df[(HNL_flights_df.loc[:, 'ARRIVAL_DELAY'] > 0) && (HNL_flights_df.loc[:, 'DEPARTURE_DELAY'] > 0)]\n",
    "```\n",
    "\n",
    "D:\n",
    "```python\n",
    "HNL_flights_df[(HNL_flights_df.loc[:, 'ARRIVAL_DELAY'] > 0) & (HNL_flights_df.loc[:, 'DEPARTURE_DELAY'] > 0)]\n",
    "```\n",
    "\n",
    "**Correct Answer**\n",
    "\n",
    "D:\n",
    "```python\n",
    "HNL_flights_df[(HNL_flights_df.loc[:, 'ARRIVAL_DELAY'] > 0) & (HNL_flights_df.loc[:, 'DEPARTURE_DELAY'] > 0)]\n",
    "```\n",
    "\n",
    "\n",
    "**Explanation**\n",
    "\n",
    "A: This option will result in a subset of `HNL_flights_df` with flights that *either* had an arrival delay *or* a departure delay, but the problem statement asks for a subset of flights with both. The '|'' key is used for the boolean *or* operation and '&' is used as the boolean *and* operation.\n",
    "\n",
    "B: This line of code results in a `TypeError` with the message: 'cannot compare a dtyped \\[float64] array with a scalar of type \\[bool]'. Be sure to use parenthesis so that the order of operations is interpretted correctly.\n",
    "\n",
    "C: This choice uses '&&' which is not the correct syntax for the boolean *and* operation.\n",
    "\n",
    "D: This line of code correctly subsets the `HNL_flights_df DataFrame` by using parenthesis to ensure the order of operations and applying the '&' operator.  "
   ]
  },
  {
   "cell_type": "markdown",
   "metadata": {
    "colab_type": "text",
    "id": "sLGQPnGiPjWx"
   },
   "source": [
    "# Exercise 4.3: Sorting\n",
    "\n",
    "Which line of code will correctly sort `HNL_flights_df` by the arrival delay in order of greates to least, i.e. in descending order?\n",
    "\n",
    "A:\n",
    "```python\n",
    "HNL_flights_df.sort_values(by='ARRIVAL_DELAY', ascending = False)\n",
    "```\n",
    "\n",
    "B:\n",
    "```python\n",
    "HNL_flights_df.sort_values(by='ARRIVAL_DELAY', ascending = True))\n",
    "```\n",
    "\n",
    "C:\n",
    "```python\n",
    "HNL_flights_df.sort_index()\n",
    "```\n",
    "\n",
    "D:\n",
    "```python\n",
    "HNL_flights_df.sort(by='ARRIVAL_DELAY', ascending = False)\n",
    "```\n",
    "\n",
    "**Correct Answer**\n",
    "\n",
    "A:\n",
    "```python\n",
    "HNL_flights_df.sort_values(by='ARRIVAL_DELAY', ascending = False)\n",
    "```\n",
    "\n",
    "\n",
    "**Explanation**\n",
    "\n",
    "A: This option correctly uses the `sort_values() DataFrame` method and sets the parameters to the appropriates values\n",
    "\n",
    "B: This line of code incorrectly sets the ascending parameter to `True`, but the problem clearly states that `HNL_flights_df` should be sorted in descending order.\n",
    "\n",
    "C: This choice calls the `sort_index()` method which will sort  `HNL_flights_df` in ascending order using the index, which is not what is desired.\n",
    "\n",
    "D: This line of code calls a method called `sort()` which does not exist, therefore a `AttributeError` is thrown.   "
   ]
  }
 ],
 "metadata": {
  "colab": {
   "collapsed_sections": [],
   "name": "3_Exploring_Data_Exercise_Solutions.ipynb",
   "provenance": [],
   "version": "0.3.2"
  },
  "kernelspec": {
   "display_name": "Python 3",
   "language": "python",
   "name": "python3"
  },
  "language_info": {
   "codemirror_mode": {
    "name": "ipython",
    "version": 2
   },
   "file_extension": ".py",
   "mimetype": "text/x-python",
   "name": "python",
   "nbconvert_exporter": "python",
   "pygments_lexer": "ipython2",
   "version": "2.7.3"
  }
 },
 "nbformat": 4,
 "nbformat_minor": 1
}
