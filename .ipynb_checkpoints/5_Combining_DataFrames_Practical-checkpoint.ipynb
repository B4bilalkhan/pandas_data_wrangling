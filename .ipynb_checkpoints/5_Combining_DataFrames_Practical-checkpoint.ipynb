{
 "cells": [
  {
   "cell_type": "markdown",
   "metadata": {
    "colab_type": "text",
    "id": "oS2GGoBAHPxd"
   },
   "source": [
    "# Combining `DataFrames` Practical\n",
    "\n",
    "1) Start with a new Jupyter Notebook.\n",
    "\n",
    "2) Read the file `Data/spending_ch5_practical.csv` located in the data folder into a new pandas DataFrame called `spending_df`.\n",
    "\n",
    "  * Make sure you import the appropriate module first.\n",
    "\n",
    "  * Read the file `Data/medication_class_ch5_practical.csv` located in the data folder into a new pandas DataFrame called `medication_to_class_p1`.\n",
    "\n",
    "3) Merge `spending_df` and `medication_to_class_p1` so that all of the entries in spending_df are still in the resulting `DataFrame`. The merge keys should be the `medication` and `medication_name` columns for the `spending_df` and `medication_to_class_p1` `DataFrames` respectively. Save the resulting `DataFrame` as `spending_and_classification`\n",
    "\n",
    "4) \n",
    " \n",
    "4) We have a second file called `data/medication_class_2_ch5_practical.csv` which contains additional medication classes \n",
    " \n",
    "  * Read the file `data/medication_class_2_ch5_practical.csv` into a new DataFrame called `medication_to_class_p2` and concat both `medication_to_class_p1` and `medication_to_class_p2` into a dataframe called `medication_to_class_ALL`\n",
    " \n",
    "  * Repeat question 1. using `medication_to_class_ALL`. How many medicines are still missing a class?\n",
    "\n",
    "  * What are the names of the medicines still missing? "
   ]
  },
  {
   "cell_type": "code",
   "execution_count": null,
   "metadata": {},
   "outputs": [],
   "source": []
  }
 ],
 "metadata": {
  "colab": {
   "collapsed_sections": [],
   "name": "5_Combining_DataFrames_Practical.ipynb",
   "provenance": [],
   "version": "0.3.2"
  },
  "kernelspec": {
   "display_name": "Python 2",
   "language": "python",
   "name": "python2"
  },
  "language_info": {
   "codemirror_mode": {
    "name": "ipython",
    "version": 2
   },
   "file_extension": ".py",
   "mimetype": "text/x-python",
   "name": "python",
   "nbconvert_exporter": "python",
   "pygments_lexer": "ipython2",
   "version": "2.7.14"
  }
 },
 "nbformat": 4,
 "nbformat_minor": 1
}
