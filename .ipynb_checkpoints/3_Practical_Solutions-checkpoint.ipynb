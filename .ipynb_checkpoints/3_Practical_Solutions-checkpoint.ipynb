{
 "cells": [
  {
   "cell_type": "markdown",
   "metadata": {},
   "source": [
    "# `DataFrame` Attributes and Arithmetic Practical Solutions\n",
    "\n",
    "---\n",
    "\n",
    "1.  Start a new Jupyter Notebook\n",
    "\n",
    "2.  Import the `pandas` Python package using the standard alias: `pd`"
   ]
  },
  {
   "cell_type": "code",
   "execution_count": 1,
   "metadata": {},
   "outputs": [],
   "source": [
    "import pandas as pd"
   ]
  },
  {
   "cell_type": "markdown",
   "metadata": {},
   "source": [
    "3. In this practical we will be working with a new data set that contains statistics related to the NCAA College Baseball Division I 2017 and 2018 seasons. These data sets and more are publicly available on the [NCAA website](https://www.ncaa.com/). The tables below summarize the columns contained in the data sets.\n",
    "\n",
    "| Column |Description|\n",
    "|:----------|-----------|\n",
    "| `Rank`| Rank of the team based on the team's overall batting average |\n",
    "| `Name` | Name of the team |\n",
    "| `G` | Number of games played in the season  |\n",
    "| `W.L` | Number of Wins-Number of Losses |\n",
    "| `AB` | Number of times at bat |\n",
    "| `H` | Number of hits in total |\n",
    "| `BA` | The teams batting average |\n",
    "    \n",
    "    Load the data stored in the files 'Data/batting_2018.csv' and 'Data/batting_2017.csv' into the `DataFrames` named `batting_2018` and `batting_2017`, respectively. Use the `Name` column to index both `DataFrames`. "
   ]
  },
  {
   "cell_type": "code",
   "execution_count": 20,
   "metadata": {},
   "outputs": [],
   "source": [
    "batting_2018 = pd.read_csv('Data/batting_2018.csv', index_col='Name')\n",
    "batting_2017 = pd.read_csv('Data/batting_2017.csv', index_col='Name')"
   ]
  },
  {
   "cell_type": "markdown",
   "metadata": {},
   "source": [
    "4. There is an entry for each team that competed in the 2018 and 2017 baseball seasons. How many teams competed in 2018 and how many competed in 2017?"
   ]
  },
  {
   "cell_type": "code",
   "execution_count": 23,
   "metadata": {},
   "outputs": [
    {
     "name": "stdout",
     "output_type": "stream",
     "text": [
      "296\n",
      "295\n"
     ]
    }
   ],
   "source": [
    "print(batting_2018.shape[0])\n",
    "print(batting_2017.shape[0])"
   ]
  },
  {
   "cell_type": "markdown",
   "metadata": {},
   "source": [
    "5. What is the minimum and maximum batting average among all the teams who competed in 2018?"
   ]
  },
  {
   "cell_type": "code",
   "execution_count": 25,
   "metadata": {},
   "outputs": [
    {
     "name": "stdout",
     "output_type": "stream",
     "text": [
      "0.209\n",
      "0.332\n"
     ]
    }
   ],
   "source": [
    "print(batting_2018.BA.min())\n",
    "print(batting_2018.BA.max())"
   ]
  },
  {
   "cell_type": "markdown",
   "metadata": {},
   "source": [
    "6. What is the total number of hits among all the teams in the 2018 NCAA season?"
   ]
  },
  {
   "cell_type": "code",
   "execution_count": 26,
   "metadata": {},
   "outputs": [
    {
     "data": {
      "text/plain": [
       "147909"
      ]
     },
     "execution_count": 26,
     "metadata": {},
     "output_type": "execute_result"
    }
   ],
   "source": [
    "batting_2018.H.sum()"
   ]
  },
  {
   "cell_type": "markdown",
   "metadata": {},
   "source": [
    "7. What was the batting average of the NCAA College Baseball league as a whole in 2017?"
   ]
  },
  {
   "cell_type": "code",
   "execution_count": 31,
   "metadata": {},
   "outputs": [
    {
     "data": {
      "text/plain": [
       "0.2746542599215505"
      ]
     },
     "execution_count": 31,
     "metadata": {},
     "output_type": "execute_result"
    }
   ],
   "source": [
    "batting_2017.H.sum() / batting_2017.AB.sum()"
   ]
  },
  {
   "cell_type": "markdown",
   "metadata": {},
   "source": [
    "8. Create a new `Series` named `batting_17_18`, that contains the batting average of each team that participated in both the 2017 and 2018 seasons. If a team only participated in one or the other the entry corresponding to that team should be `NaN`."
   ]
  },
  {
   "cell_type": "code",
   "execution_count": 33,
   "metadata": {},
   "outputs": [
    {
     "data": {
      "text/plain": [
       "Name\n",
       "A&M-Corpus Christi    0.283554\n",
       "Abilene Christian          NaN\n",
       "Air Force             0.327129\n",
       "Alabama               0.259119\n",
       "Alabama A&M           0.249003\n",
       "dtype: float64"
      ]
     },
     "execution_count": 33,
     "metadata": {},
     "output_type": "execute_result"
    }
   ],
   "source": [
    "batting_17_18 = (batting_2017.H + batting_2018.H) / (batting_2017.AB + batting_2018.AB)"
   ]
  },
  {
   "cell_type": "markdown",
   "metadata": {},
   "source": [
    "9. Print the top 10 teams in the `batting_17_18`. Print the top 10 teams in both `batting_2018` and `batting_2017`. "
   ]
  },
  {
   "cell_type": "code",
   "execution_count": 35,
   "metadata": {},
   "outputs": [
    {
     "data": {
      "text/plain": [
       "Name\n",
       "Air Force          0.327129\n",
       "Tennessee Tech     0.324946\n",
       "Morehead St.       0.323458\n",
       "UNC Greensboro     0.322815\n",
       "New Mexico St.     0.316146\n",
       "Jackson St.        0.310682\n",
       "St. John's (NY)    0.310249\n",
       "Fresno St.         0.308730\n",
       "San Diego St.      0.307550\n",
       "Texas Tech         0.306960\n",
       "dtype: float64"
      ]
     },
     "execution_count": 35,
     "metadata": {},
     "output_type": "execute_result"
    }
   ],
   "source": [
    "batting_17_18.nlargest(n=10)"
   ]
  }
 ],
 "metadata": {
  "colab": {
   "name": "3_Exploring_Data_Practical_Solutions.ipynb",
   "provenance": [],
   "version": "0.3.2"
  },
  "kernelspec": {
   "display_name": "Python 3",
   "language": "python",
   "name": "python3"
  },
  "language_info": {
   "codemirror_mode": {
    "name": "ipython",
    "version": 3
   },
   "file_extension": ".py",
   "mimetype": "text/x-python",
   "name": "python",
   "nbconvert_exporter": "python",
   "pygments_lexer": "ipython3",
   "version": "3.6.1"
  },
  "toc": {
   "base_numbering": 1,
   "nav_menu": {},
   "number_sections": true,
   "sideBar": true,
   "skip_h1_title": false,
   "title_cell": "Table of Contents",
   "title_sidebar": "Contents",
   "toc_cell": false,
   "toc_position": {},
   "toc_section_display": true,
   "toc_window_display": false
  }
 },
 "nbformat": 4,
 "nbformat_minor": 1
}
