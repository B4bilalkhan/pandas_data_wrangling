{
 "cells": [
  {
   "cell_type": "markdown",
   "metadata": {
    "colab_type": "text",
    "id": "BjX08xzTpnfT"
   },
   "source": [
    "# `pandas` Data Structures Practical Solution\n",
    "\n",
    "\n",
    "1.   Start a new Jupyter Notebook.\n",
    "\n",
    "2.   Import the pandas Python package using the standard alias: `pd`.\n"
   ]
  },
  {
   "cell_type": "code",
   "execution_count": 0,
   "metadata": {
    "colab": {},
    "colab_type": "code",
    "id": "Q_LwitxTpzaR"
   },
   "outputs": [],
   "source": [
    "import pandas as pd"
   ]
  },
  {
   "cell_type": "markdown",
   "metadata": {
    "colab_type": "text",
    "id": "W-xSoLrhpu7Q"
   },
   "source": [
    "3.   Create a `pandas` `DataFrame` named `spending_df` with the following entries and with default indexing (this is the range of intergers [0,1]).\n",
    "\n",
    "| doctor_id                |   medication    | nb_beneficiaries | spending |\n",
    "|:--------------------------|:-------------------|:-------------------|:-----------------------|\n",
    "|   24   |   AZITHROMYCIN       |       12  |  77.26|\n",
    "|   67  |      SIMVASTATIN         |     85 |  767.83|\n"
   ]
  },
  {
   "cell_type": "code",
   "execution_count": 0,
   "metadata": {
    "colab": {},
    "colab_type": "code",
    "id": "uVjqN6-hqEvA"
   },
   "outputs": [],
   "source": [
    "spending_df = pd.DataFrame({'doctor_id':[24,67], 'medication':['AZITHROMYCIN', 'SIMVASTATIN'], 'nb_beneficiaries':[12, 85], 'spending':[77.26, 767.83]})"
   ]
  },
  {
   "cell_type": "markdown",
   "metadata": {
    "colab_type": "text",
    "id": "Vym20xXtqEMY"
   },
   "source": [
    "4.  Now create a new `pandas` `Series` object which we will be used as a new row entry for our `DataFrame`, name it `row_entry` and give it the following values and index:\n",
    "\n",
    "| index                |   entry    |\n",
    "|:--------------------------|:-------------------|\n",
    "| doctor_id | 32 |\n",
    "| medication| INSULIN DETEMIR  |\n",
    "| nb_beneficiaries| 14 |  \n",
    "|spending| 5409.29 |"
   ]
  },
  {
   "cell_type": "code",
   "execution_count": 0,
   "metadata": {
    "colab": {},
    "colab_type": "code",
    "id": "Dg-0lUcIq8rK"
   },
   "outputs": [],
   "source": [
    "row_entry = pd.Series([32,'INSULIN DETEMIR', 14, 5409.29], index=['doctor_id', 'medication', 'nb_beneficiaries', 'spending'])"
   ]
  },
  {
   "cell_type": "markdown",
   "metadata": {
    "colab_type": "text",
    "id": "HFIXN9P7q7zB"
   },
   "source": [
    "5. Add the `row_entry` `Series` to the `spending_df` `DataFrame` in-place as a new row with index label 2."
   ]
  },
  {
   "cell_type": "code",
   "execution_count": 0,
   "metadata": {
    "colab": {},
    "colab_type": "code",
    "id": "EteDy7LIrhkg"
   },
   "outputs": [],
   "source": [
    "spending_df.loc[2, :] = row_entry"
   ]
  },
  {
   "cell_type": "markdown",
   "metadata": {
    "colab_type": "text",
    "id": "eyZ4YdcUrgtW"
   },
   "source": [
    "6.  Create a new `DataFrame` called `med_spending_df` that is a subset of `spending_df` containing only the `medication` and `spending` columns. Also set the `index` of `med_spending_df` to the following:\n",
    "\n",
    "| unique_id | \n",
    "|:--------------------------|\n",
    "| 10302|\n",
    "| 49385|\n",
    "| 67345| "
   ]
  },
  {
   "cell_type": "code",
   "execution_count": 0,
   "metadata": {
    "colab": {},
    "colab_type": "code",
    "id": "duKIhednsCjm"
   },
   "outputs": [],
   "source": [
    "med_spending = spending_df.loc[:, ['medication', 'spending']]\n",
    "med_spending.index = [10302, 49385, 67345]"
   ]
  },
  {
   "cell_type": "markdown",
   "metadata": {
    "colab_type": "text",
    "id": "h4HQffQIsBqk"
   },
   "source": [
    "7. Print the last 2 rows of `med_spending_df`."
   ]
  },
  {
   "cell_type": "code",
   "execution_count": 16,
   "metadata": {
    "colab": {
     "base_uri": "https://localhost:8080/",
     "height": 110
    },
    "colab_type": "code",
    "executionInfo": {
     "elapsed": 3352,
     "status": "ok",
     "timestamp": 1545523393598,
     "user": {
      "displayName": "Charles Dickens",
      "photoUrl": "https://lh6.googleusercontent.com/-LyFY-SmW2Wk/AAAAAAAAAAI/AAAAAAAAAJc/aBlebAB4Y_M/s64/photo.jpg",
      "userId": "12322745199515603574"
     },
     "user_tz": 600
    },
    "id": "1KZk4Xvxsd9a",
    "outputId": "5f4a94fb-69c1-4fd2-fbc1-d4370798c1da"
   },
   "outputs": [
    {
     "data": {
      "text/html": [
       "<div>\n",
       "<style scoped>\n",
       "    .dataframe tbody tr th:only-of-type {\n",
       "        vertical-align: middle;\n",
       "    }\n",
       "\n",
       "    .dataframe tbody tr th {\n",
       "        vertical-align: top;\n",
       "    }\n",
       "\n",
       "    .dataframe thead th {\n",
       "        text-align: right;\n",
       "    }\n",
       "</style>\n",
       "<table border=\"1\" class=\"dataframe\">\n",
       "  <thead>\n",
       "    <tr style=\"text-align: right;\">\n",
       "      <th></th>\n",
       "      <th>medication</th>\n",
       "      <th>spending</th>\n",
       "    </tr>\n",
       "  </thead>\n",
       "  <tbody>\n",
       "    <tr>\n",
       "      <th>49385</th>\n",
       "      <td>SIMVASTATIN</td>\n",
       "      <td>767.83</td>\n",
       "    </tr>\n",
       "    <tr>\n",
       "      <th>67345</th>\n",
       "      <td>INSULIN DETEMIR</td>\n",
       "      <td>5409.29</td>\n",
       "    </tr>\n",
       "  </tbody>\n",
       "</table>\n",
       "</div>"
      ],
      "text/plain": [
       "            medication  spending\n",
       "49385      SIMVASTATIN    767.83\n",
       "67345  INSULIN DETEMIR   5409.29"
      ]
     },
     "execution_count": 16,
     "metadata": {
      "tags": []
     },
     "output_type": "execute_result"
    }
   ],
   "source": [
    "med_spending.iloc[[1,2], :]"
   ]
  },
  {
   "cell_type": "markdown",
   "metadata": {
    "colab_type": "text",
    "id": "-FkYES29sxil"
   },
   "source": [
    "8. Change the `nb_beneficiaries` entry of row 1 in the `spending_df` `DataFrame` to 15 in-place."
   ]
  },
  {
   "cell_type": "code",
   "execution_count": 17,
   "metadata": {
    "colab": {
     "base_uri": "https://localhost:8080/",
     "height": 141
    },
    "colab_type": "code",
    "executionInfo": {
     "elapsed": 3345,
     "status": "ok",
     "timestamp": 1545523393600,
     "user": {
      "displayName": "Charles Dickens",
      "photoUrl": "https://lh6.googleusercontent.com/-LyFY-SmW2Wk/AAAAAAAAAAI/AAAAAAAAAJc/aBlebAB4Y_M/s64/photo.jpg",
      "userId": "12322745199515603574"
     },
     "user_tz": 600
    },
    "id": "IzayYsZ5Va15",
    "outputId": "24bd83ec-22ca-424d-acc5-5396b29a0bef"
   },
   "outputs": [
    {
     "data": {
      "text/html": [
       "<div>\n",
       "<style scoped>\n",
       "    .dataframe tbody tr th:only-of-type {\n",
       "        vertical-align: middle;\n",
       "    }\n",
       "\n",
       "    .dataframe tbody tr th {\n",
       "        vertical-align: top;\n",
       "    }\n",
       "\n",
       "    .dataframe thead th {\n",
       "        text-align: right;\n",
       "    }\n",
       "</style>\n",
       "<table border=\"1\" class=\"dataframe\">\n",
       "  <thead>\n",
       "    <tr style=\"text-align: right;\">\n",
       "      <th></th>\n",
       "      <th>doctor_id</th>\n",
       "      <th>medication</th>\n",
       "      <th>nb_beneficiaries</th>\n",
       "      <th>spending</th>\n",
       "    </tr>\n",
       "  </thead>\n",
       "  <tbody>\n",
       "    <tr>\n",
       "      <th>0</th>\n",
       "      <td>24.0</td>\n",
       "      <td>AZITHROMYCIN</td>\n",
       "      <td>12.0</td>\n",
       "      <td>77.26</td>\n",
       "    </tr>\n",
       "    <tr>\n",
       "      <th>1</th>\n",
       "      <td>67.0</td>\n",
       "      <td>SIMVASTATIN</td>\n",
       "      <td>15.0</td>\n",
       "      <td>767.83</td>\n",
       "    </tr>\n",
       "    <tr>\n",
       "      <th>2</th>\n",
       "      <td>32.0</td>\n",
       "      <td>INSULIN DETEMIR</td>\n",
       "      <td>14.0</td>\n",
       "      <td>5409.29</td>\n",
       "    </tr>\n",
       "  </tbody>\n",
       "</table>\n",
       "</div>"
      ],
      "text/plain": [
       "   doctor_id       medication  nb_beneficiaries  spending\n",
       "0       24.0     AZITHROMYCIN              12.0     77.26\n",
       "1       67.0      SIMVASTATIN              15.0    767.83\n",
       "2       32.0  INSULIN DETEMIR              14.0   5409.29"
      ]
     },
     "execution_count": 17,
     "metadata": {
      "tags": []
     },
     "output_type": "execute_result"
    }
   ],
   "source": [
    "spending_df.iloc[1,2] = 15"
   ]
  },
  {
   "cell_type": "markdown",
   "metadata": {
    "colab_type": "text",
    "id": "bqU6W78NtMM_"
   },
   "source": [
    "9. Drop the $0^{th}$ row of `spending_df` in-place"
   ]
  },
  {
   "cell_type": "code",
   "execution_count": 0,
   "metadata": {
    "colab": {},
    "colab_type": "code",
    "id": "uz2eD08tpYl1"
   },
   "outputs": [],
   "source": [
    "spending_df.drop(0, axis='rows', inplace=True)"
   ]
  }
 ],
 "metadata": {
  "colab": {
   "collapsed_sections": [],
   "name": "1_pandas_Data_Structures_Practical_Solution.ipynb",
   "provenance": [],
   "version": "0.3.2"
  },
  "kernelspec": {
   "display_name": "Python 3",
   "language": "python",
   "name": "python3"
  },
  "language_info": {
   "codemirror_mode": {
    "name": "ipython",
    "version": 3
   },
   "file_extension": ".py",
   "mimetype": "text/x-python",
   "name": "python",
   "nbconvert_exporter": "python",
   "pygments_lexer": "ipython3",
   "version": "3.6.1"
  },
  "toc": {
   "base_numbering": 1,
   "nav_menu": {},
   "number_sections": true,
   "sideBar": true,
   "skip_h1_title": false,
   "title_cell": "Table of Contents",
   "title_sidebar": "Contents",
   "toc_cell": false,
   "toc_position": {},
   "toc_section_display": true,
   "toc_window_display": false
  }
 },
 "nbformat": 4,
 "nbformat_minor": 1
}
