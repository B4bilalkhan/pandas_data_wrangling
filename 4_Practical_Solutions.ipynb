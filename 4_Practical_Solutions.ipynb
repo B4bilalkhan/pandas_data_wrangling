{
 "cells": [
  {
   "cell_type": "markdown",
   "metadata": {
    "colab_type": "text",
    "id": "ETx4MrnxoNQp"
   },
   "source": [
    "# Subsetting and Sorting Practical Solutions\n",
    "\n",
    "Please note that there are many possible ways to complete the practical tasks that are not limited to the solutions provided by this document. The output of your code should however exactly match the following solutions.\n",
    "\n",
    "---\n",
    "\n",
    "1.  Start a new Jupyter Notebook\n",
    "\n",
    "2.  Import the `pandas` Python package using the standard alias: `pd`, as well as `matplotlib.pyplot` as `plt`"
   ]
  },
  {
   "cell_type": "code",
   "execution_count": 0,
   "metadata": {
    "colab": {},
    "colab_type": "code",
    "id": "B92YPmhnmx7-"
   },
   "outputs": [],
   "source": [
    "import pandas as pd\n",
    "import matplotlib.pyplot as plt"
   ]
  },
  {
   "cell_type": "markdown",
   "metadata": {
    "colab_type": "text",
    "id": "BKfP0tlIqFDJ"
   },
   "source": [
    "3. Load the data stored in the file 'data/spending_ch3_practical.tsv' into a `DataFrame` named `spending_df` with the `unique_id` column set as the index column "
   ]
  },
  {
   "cell_type": "code",
   "execution_count": 0,
   "metadata": {
    "colab": {},
    "colab_type": "code",
    "id": "RF9bFFYhqGL0"
   },
   "outputs": [],
   "source": [
    "spending_df = pd.read_table('data/spending_ch4_practical.tsv', index_col = 'unique_id')"
   ]
  },
  {
   "cell_type": "markdown",
   "metadata": {
    "colab_type": "text",
    "id": "Z6CNhi_Hr-GM"
   },
   "source": [
    "4. Sort the `spending_df` `DataFrame` on the `specialty` column in a way that permanently modifies its sorting order."
   ]
  },
  {
   "cell_type": "code",
   "execution_count": 0,
   "metadata": {
    "colab": {},
    "colab_type": "code",
    "id": "DTU2Ri_CsBBC"
   },
   "outputs": [],
   "source": [
    "spending_df.sort_values(by = 'specialty', inplace = True)"
   ]
  },
  {
   "cell_type": "markdown",
   "metadata": {
    "colab_type": "text",
    "id": "OeIniQOMsctQ"
   },
   "source": [
    "5. How many instances of `CARDIOLOGY` are in the `specialty` column of `spending_practical_df`?"
   ]
  },
  {
   "cell_type": "code",
   "execution_count": 0,
   "metadata": {
    "colab": {},
    "colab_type": "code",
    "id": "eumYwqpqseck"
   },
   "outputs": [],
   "source": [
    "spending_df[spending_df.loc[:, 'specialty'] == 'CARDIOLOGY'].shape[0]"
   ]
  },
  {
   "cell_type": "markdown",
   "metadata": {
    "colab_type": "text",
    "id": "C1r-fsags9G3"
   },
   "source": [
    "6. Add a new column to `spending_df` named `total_spending_pct` which is the percentage of total spending that each entry accounts for (each entry should be between 0 and 100 and the sum of all the entries in `total_spending_pct` should be 100 )"
   ]
  },
  {
   "cell_type": "code",
   "execution_count": 0,
   "metadata": {
    "colab": {},
    "colab_type": "code",
    "id": "kYR_qVBotBQ7"
   },
   "outputs": [],
   "source": [
    "spending_df.loc[:, 'total_spending_pct'] = (spending_df.loc[:, 'spending'] / spending_df.loc[:, 'spending'].sum()) * 100"
   ]
  },
  {
   "cell_type": "markdown",
   "metadata": {
    "colab_type": "text",
    "id": "-fqvbWi0tqJQ"
   },
   "source": [
    "7. Make a new `DataFrame` that is a subset of `spending_df` named `top_spenders_df` which contains only the columns `doctor_id` `spending` and `total_spending_pct` and those entries whose `total_spending_pct` is more than 1%"
   ]
  },
  {
   "cell_type": "code",
   "execution_count": 0,
   "metadata": {
    "colab": {},
    "colab_type": "code",
    "id": "nq_mD3XztvL-"
   },
   "outputs": [],
   "source": [
    "top_spenders_df = spending_df[spending_df.loc[:, 'total_spending_pct'] > 1].loc[:, ['doctor_id', 'spending', 'total_spending_pct']]"
   ]
  },
  {
   "cell_type": "markdown",
   "metadata": {
    "colab_type": "text",
    "id": "j06bQgJnub4W"
   },
   "source": [
    "8. The doctor ids in the dataset we are working with are unique for each row entry. This can be confirmed by observing that the unique count of doctor ids matches the number of rows in `spending_df`. Therefore, a quick check of the results can be done by visualizing who the top spenders are; the same doctors who are saved in the `top_spenders_df` `DataFrame` should also be the among the top spenders in `spending_df`. \n",
    "\n",
    "  * $1^{st}$ Make a new `DataFrame` `doctor_spending_df` that is a subset of  `spending_df` indexed by `doctor_id` and with the single column `spending`.  `doctor_spending_df` should also be sorted in descending order by the values in `spending`\n",
    "\n",
    "  * $2^{nd}$ Plot a vertical bar plot of what you think is an appropriate number of rows from `doctor_spending_df` to verify the results saved in `top_spenders_df`"
   ]
  },
  {
   "cell_type": "code",
   "execution_count": 0,
   "metadata": {
    "colab": {},
    "colab_type": "code",
    "id": "HyRofhdzuw_B"
   },
   "outputs": [],
   "source": [
    "doctor_spending_df = spending_df.loc[:, ['spending']]\n",
    "doctor_spending_df.index = spending_df.loc[:, 'doctor_id']\n",
    "doctor_spending_df.sort_values(by = 'spending', ascending = False, inplace = True)"
   ]
  },
  {
   "cell_type": "code",
   "execution_count": 0,
   "metadata": {
    "colab": {},
    "colab_type": "code",
    "id": "oCLJJrS3ysqp"
   },
   "outputs": [],
   "source": [
    "plt.figure()\n",
    "doctor_spending_df.head(n = 10).plot(kind = 'bar')"
   ]
  },
  {
   "cell_type": "markdown",
   "metadata": {
    "colab_type": "text",
    "id": "8zfgs0sD0SQs"
   },
   "source": [
    "9. Save `top_spenders_df` as a CSV into a file called `data/big_spenders_practical.csv`"
   ]
  },
  {
   "cell_type": "code",
   "execution_count": 0,
   "metadata": {
    "colab": {},
    "colab_type": "code",
    "id": "i3Cw0G1S0TIC"
   },
   "outputs": [],
   "source": [
    "top_spenders_df.to_csv('data/big_spenders_practical.csv')"
   ]
  }
 ],
 "metadata": {
  "colab": {
   "name": "3_Exploring_Data_Practical_Solutions.ipynb",
   "provenance": [],
   "version": "0.3.2"
  },
  "kernelspec": {
   "display_name": "Python 3",
   "language": "python",
   "name": "python3"
  },
  "language_info": {
   "codemirror_mode": {
    "name": "ipython",
    "version": 3
   },
   "file_extension": ".py",
   "mimetype": "text/x-python",
   "name": "python",
   "nbconvert_exporter": "python",
   "pygments_lexer": "ipython3",
   "version": "3.6.1"
  },
  "toc": {
   "base_numbering": 1,
   "nav_menu": {},
   "number_sections": true,
   "sideBar": true,
   "skip_h1_title": false,
   "title_cell": "Table of Contents",
   "title_sidebar": "Contents",
   "toc_cell": false,
   "toc_position": {},
   "toc_section_display": true,
   "toc_window_display": false
  }
 },
 "nbformat": 4,
 "nbformat_minor": 1
}
