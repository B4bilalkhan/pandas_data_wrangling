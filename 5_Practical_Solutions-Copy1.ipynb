{
 "cells": [
  {
   "cell_type": "markdown",
   "metadata": {
    "colab_type": "text",
    "id": "CS6bM3aNSoQa"
   },
   "source": [
    "# Data Cleaning and Preperation Practical Solutions\n",
    "\n",
    "Please note that there are many possible ways to complete the practical tasks that are not limited to the solutions provided by this document. The output of your code should however exactly match the following solutions.\n",
    "\n",
    "---\n",
    "\n",
    "1.  Start a new Jupyter Notebook\n",
    "\n",
    "2.  Import the `pandas` Python package using the standard alias: `pd`, as well as `matplotlib.pyplot` as `plt`"
   ]
  },
  {
   "cell_type": "code",
   "execution_count": 1,
   "metadata": {
    "colab": {},
    "colab_type": "code",
    "id": "zSRtBUslSEm1"
   },
   "outputs": [],
   "source": [
    "import pandas as pd"
   ]
  },
  {
   "cell_type": "markdown",
   "metadata": {
    "colab_type": "text",
    "id": "zvwmYNVzS0o0"
   },
   "source": [
    "3. Read the file `data/spending_ch4_practical_1.csv` located in the data folder into a new `pandas` DataFrame named `spending_df` with index column set to 'unique_id'"
   ]
  },
  {
   "cell_type": "code",
   "execution_count": 2,
   "metadata": {
    "colab": {},
    "colab_type": "code",
    "id": "zPtaXsEXS24t"
   },
   "outputs": [],
   "source": [
    "spending_df = pd.read_csv('data/spending_ch4_practical_1.csv', index_col='unique_id')"
   ]
  },
  {
   "cell_type": "markdown",
   "metadata": {
    "colab_type": "text",
    "id": "-j8yLdUpTF62"
   },
   "source": [
    "4. Inspect the data types of each of the columns of `spending_df`, do you notice anything that should be corrected? "
   ]
  },
  {
   "cell_type": "code",
   "execution_count": 3,
   "metadata": {
    "colab": {},
    "colab_type": "code",
    "id": "lJ7zr0GiTOOf"
   },
   "outputs": [
    {
     "data": {
      "text/plain": [
       "doctor_id             int64\n",
       "specialty            object\n",
       "medication           object\n",
       "nb_beneficiaries    float64\n",
       "spending             object\n",
       "dtype: object"
      ]
     },
     "execution_count": 3,
     "metadata": {},
     "output_type": "execute_result"
    }
   ],
   "source": [
    "spending_df.dtypes"
   ]
  },
  {
   "cell_type": "markdown",
   "metadata": {
    "colab_type": "text",
    "id": "ZAxc5KGJTHtE"
   },
   "source": [
    "* Change the data type of the `doctor_id` column to 'object' and the `spending` column to 'float64'"
   ]
  },
  {
   "cell_type": "code",
   "execution_count": 4,
   "metadata": {
    "colab": {},
    "colab_type": "code",
    "id": "zTqv3xA6TUpT"
   },
   "outputs": [],
   "source": [
    "spending_df.doctor_id = spending_df.doctor_id.astype('object')\n",
    "spending_df.spending = (spending_df.spending\n",
    "                        .str.replace(\"$\", \"\")\n",
    "                        .str.replace(\",\", \"\")\n",
    "                        .astype(\"float64\"))"
   ]
  },
  {
   "cell_type": "markdown",
   "metadata": {
    "colab_type": "text",
    "id": "-RjIWUOzUXuN"
   },
   "source": [
    "5. Drop rows that have less than `4` non-missing values inplace"
   ]
  },
  {
   "cell_type": "code",
   "execution_count": 5,
   "metadata": {
    "colab": {},
    "colab_type": "code",
    "id": "-qs51H6NVFX7"
   },
   "outputs": [],
   "source": [
    "spending_df.dropna(thresh=4, axis='rows', inplace=True)"
   ]
  },
  {
   "cell_type": "markdown",
   "metadata": {
    "colab_type": "text",
    "id": "0NnZ_Am-WEEz"
   },
   "source": [
    "6. Replace the missing values for the columns `nb_beneficiaries` and `spending`  with their respective medians and the missing values in `specialty` with the most frequent specialty. The replacement should be inplace, i.e. the orignal `DataFrame` should be updated"
   ]
  },
  {
   "cell_type": "code",
   "execution_count": 6,
   "metadata": {
    "colab": {},
    "colab_type": "code",
    "id": "pYfAOSn7WF3Y"
   },
   "outputs": [],
   "source": [
    "spending_df.fillna({'nb_beneficiaries': spending_df.nb_beneficiaries.median(),\n",
    "                   'spending': spending_df.spending.median(),\n",
    "                   'speciality': spending_df.specialty.mode()},\n",
    "                  inplace=True)"
   ]
  },
  {
   "cell_type": "markdown",
   "metadata": {
    "colab_type": "text",
    "id": "7JkIcvvdYdrB"
   },
   "source": [
    "7. What are the numbers of the rows for which the value of the column `specialty` is \"NURSE PRACTITIONER\" and the value of spending is lower than $5000?"
   ]
  },
  {
   "cell_type": "code",
   "execution_count": 7,
   "metadata": {
    "colab": {},
    "colab_type": "code",
    "id": "d6G4TWpyYgZ1"
   },
   "outputs": [
    {
     "data": {
      "text/plain": [
       "2"
      ]
     },
     "execution_count": 7,
     "metadata": {},
     "output_type": "execute_result"
    }
   ],
   "source": [
    "spending_df[(spending_df.specialty == 'NURSE PRACTITIONER') & \n",
    "            (spending_df.spending < 5000)].shape[0]"
   ]
  },
  {
   "cell_type": "markdown",
   "metadata": {
    "colab_type": "text",
    "id": "alz4A1iaZDrZ"
   },
   "source": [
    "  * Remove those rows from the original `DataFrame`"
   ]
  },
  {
   "cell_type": "code",
   "execution_count": 8,
   "metadata": {
    "colab": {},
    "colab_type": "code",
    "id": "EIO5pyqYZGBs"
   },
   "outputs": [],
   "source": [
    "spending_df = spending_df[~(((spending_df.specialty == 'NURSE PRACTIONER') & (spending_df.spending < 5000)))]"
   ]
  },
  {
   "cell_type": "markdown",
   "metadata": {
    "colab_type": "text",
    "id": "YWos3qbPb1-5"
   },
   "source": [
    "8. Read the file `data/spending_ch4_practical_2.csv` located in the data folder into the `pandas` DataFrame `spending_df` with index column set to 'unique_id'"
   ]
  },
  {
   "cell_type": "code",
   "execution_count": 9,
   "metadata": {
    "colab": {},
    "colab_type": "code",
    "id": "vkRn_LqUTZke"
   },
   "outputs": [],
   "source": [
    "spending_df = pd.read_csv('data/spending_ch4_practical_2.csv', index_col='unique_id')"
   ]
  },
  {
   "cell_type": "markdown",
   "metadata": {
    "colab_type": "text",
    "id": "RF7w2v_8TaTl"
   },
   "source": [
    "9. Filter out any specialties that have less than 200 records or for which the total number of beneficiaries is less than 15,000.\n",
    "\n",
    "  * Furthermore, save your results as a sorted `DataFrame`. The sort order should be by specialty (Ascending), nb_beneficiaries (descending), spending (descending), respectively."
   ]
  },
  {
   "cell_type": "code",
   "execution_count": 10,
   "metadata": {
    "colab": {},
    "colab_type": "code",
    "id": "vUfkH2qPTjO-"
   },
   "outputs": [],
   "source": [
    "def filter_spending(x):\n",
    "  return (x.shape[0] >= 200) and (x.nb_beneficiaries.sum() >= 15000)\n",
    "\n",
    "spending_by_specialty = spending_df.groupby('specialty')\n",
    "filtered_spending_df = spending_by_specialty.filter(filter_spending)\n",
    "filtered_sorted_spending_df = (\n",
    "    filtered_spending_df.sort_values(by=['specialty', \n",
    "                                         'nb_beneficiaries', \n",
    "                                         'spending'], \n",
    "                                     ascending=[True, False, False]))\n",
    "\n"
   ]
  },
  {
   "cell_type": "markdown",
   "metadata": {
    "colab_type": "text",
    "id": "XT_-RJHhTh6_"
   },
   "source": [
    "  * How many specialties pass this filtering?"
   ]
  },
  {
   "cell_type": "code",
   "execution_count": 11,
   "metadata": {
    "colab": {},
    "colab_type": "code",
    "id": "EF-_xoDNW4_6"
   },
   "outputs": [
    {
     "data": {
      "text/plain": [
       "6"
      ]
     },
     "execution_count": 11,
     "metadata": {},
     "output_type": "execute_result"
    }
   ],
   "source": [
    "filtered_sorted_spending_df.specialty.unique().shape[0]"
   ]
  },
  {
   "cell_type": "markdown",
   "metadata": {
    "colab_type": "text",
    "id": "SpfzQRpzXEny"
   },
   "source": [
    "10. We covered the code below in this module. Do you remember what it does?\n",
    "\n",
    "```python \n",
    "\n",
    "def my_function(x):\n",
    "    return (x   / x.sum() ) * 100\n",
    "    \n",
    "spending_by_specialty = spending_df.groupby('specialty')\n",
    "spending_df[\"spending_pct\"] = spending_by_specialty['spending'].transform(my_function)\n",
    "\n",
    "medication_spending_pct = spending_df.groupby([\"specialty\", \"medication\"])[\"spending_pct\"].sum().reset_index()\n",
    "```\n",
    "\n",
    "  * Copy and paste the code into a cell. Run the cell and print the first five rows of `medication_spending_pct` `DataFrame` using the method `head`. "
   ]
  },
  {
   "cell_type": "code",
   "execution_count": 12,
   "metadata": {
    "colab": {},
    "colab_type": "code",
    "id": "VQeNq5yCXUn4"
   },
   "outputs": [
    {
     "data": {
      "text/html": [
       "<div>\n",
       "<style scoped>\n",
       "    .dataframe tbody tr th:only-of-type {\n",
       "        vertical-align: middle;\n",
       "    }\n",
       "\n",
       "    .dataframe tbody tr th {\n",
       "        vertical-align: top;\n",
       "    }\n",
       "\n",
       "    .dataframe thead th {\n",
       "        text-align: right;\n",
       "    }\n",
       "</style>\n",
       "<table border=\"1\" class=\"dataframe\">\n",
       "  <thead>\n",
       "    <tr style=\"text-align: right;\">\n",
       "      <th></th>\n",
       "      <th>specialty</th>\n",
       "      <th>medication</th>\n",
       "      <th>spending_pct</th>\n",
       "    </tr>\n",
       "  </thead>\n",
       "  <tbody>\n",
       "    <tr>\n",
       "      <th>0</th>\n",
       "      <td>ADDICTION MEDICINE</td>\n",
       "      <td>BUSPIRONE HCL</td>\n",
       "      <td>88.894203</td>\n",
       "    </tr>\n",
       "    <tr>\n",
       "      <th>1</th>\n",
       "      <td>ADDICTION MEDICINE</td>\n",
       "      <td>LAMOTRIGINE</td>\n",
       "      <td>8.979849</td>\n",
       "    </tr>\n",
       "    <tr>\n",
       "      <th>2</th>\n",
       "      <td>ADDICTION MEDICINE</td>\n",
       "      <td>LORAZEPAM</td>\n",
       "      <td>2.125948</td>\n",
       "    </tr>\n",
       "    <tr>\n",
       "      <th>3</th>\n",
       "      <td>ALLERGY/IMMUNOLOGY</td>\n",
       "      <td>ALBUTEROL SULFATE</td>\n",
       "      <td>3.553199</td>\n",
       "    </tr>\n",
       "    <tr>\n",
       "      <th>4</th>\n",
       "      <td>ALLERGY/IMMUNOLOGY</td>\n",
       "      <td>AMOXICILLIN/POTASSIUM CLAV</td>\n",
       "      <td>0.196089</td>\n",
       "    </tr>\n",
       "  </tbody>\n",
       "</table>\n",
       "</div>"
      ],
      "text/plain": [
       "            specialty                  medication  spending_pct\n",
       "0  ADDICTION MEDICINE               BUSPIRONE HCL     88.894203\n",
       "1  ADDICTION MEDICINE                 LAMOTRIGINE      8.979849\n",
       "2  ADDICTION MEDICINE                   LORAZEPAM      2.125948\n",
       "3  ALLERGY/IMMUNOLOGY           ALBUTEROL SULFATE      3.553199\n",
       "4  ALLERGY/IMMUNOLOGY  AMOXICILLIN/POTASSIUM CLAV      0.196089"
      ]
     },
     "execution_count": 12,
     "metadata": {},
     "output_type": "execute_result"
    }
   ],
   "source": [
    "def my_function(x):\n",
    "    return (x   / x.sum() ) * 100\n",
    "\n",
    "spending_by_specialty = spending_df.groupby('specialty')\n",
    "spending_df[\"spending_pct\"] = spending_by_specialty['spending'].transform(my_function)\n",
    "\n",
    "medication_spending_pct = spending_df.groupby([\"specialty\", \"medication\"])[\"spending_pct\"].sum().reset_index()\n",
    "\n",
    "medication_spending_pct.head(n=5)"
   ]
  },
  {
   "cell_type": "markdown",
   "metadata": {
    "colab_type": "text",
    "id": "5dc-W6jCYSqk"
   },
   "source": [
    "11. Group `medication_spendng_pct` on specialty and filter the specialties for which the sum of the top 2 medicines in terms of spending_pct is < 80. For instance, the sum of the `spending_pct` for the highest 2 entries for `\"ADDICTION MEDICINE\"`  is 88.89 + 8.98 =  97.87. Therefore, we should retain this specialty. However, the sum of the top 2 medicines in \"ALLERGY/IMMUNOLOGY\" is 41.89 + 8.14 = 43.10; therefore, we should discard this specialty."
   ]
  },
  {
   "cell_type": "code",
   "execution_count": 16,
   "metadata": {
    "colab": {},
    "colab_type": "code",
    "id": "0VyucA6QXD6i"
   },
   "outputs": [],
   "source": [
    "def filter_medication(x):\n",
    "     return x.spending_pct.nlargest(2).sum() >= 80\n",
    "\n",
    "medication_spending_by_specialty = medication_spending_pct.groupby('specialty')\n",
    "filtered_medication_spending = medication_spending_by_specialty.filter(filter_medication)"
   ]
  },
  {
   "cell_type": "markdown",
   "metadata": {
    "colab_type": "text",
    "id": "vdRmuGeNbxj9"
   },
   "source": [
    " * Print only the top two entries of each specialty in the resulting `DataFrame`. "
   ]
  },
  {
   "cell_type": "code",
   "execution_count": 17,
   "metadata": {
    "colab": {},
    "colab_type": "code",
    "id": "WK-eAnTMcA6H"
   },
   "outputs": [
    {
     "data": {
      "text/plain": [
       "specialty                                     \n",
       "ADDICTION MEDICINE                        0        88.894203\n",
       "                                          1         8.979849\n",
       "CARDIAC ELECTROPHYSIOLOGY                 56       75.017303\n",
       "                                          50       11.050018\n",
       "CARDIAC SURGERY                           61       96.437603\n",
       "                                          60        3.562397\n",
       "CERTIFIED NURSE MIDWIFE                   194      93.493400\n",
       "                                          193       6.506600\n",
       "CLINIC/CENTER                             195      93.414487\n",
       "                                          196       6.585513\n",
       "CLINICAL PSYCHOLOGIST                     197     100.000000\n",
       "COLORECTAL SURGERY (FORMERLY PROCTOLOGY)  202      76.707260\n",
       "                                          201      10.740098\n",
       "CRNA                                      212      86.957731\n",
       "                                          211      13.042269\n",
       "DIAGNOSTIC RADIOLOGY                      261      99.169063\n",
       "                                          258       0.653581\n",
       "FAMILY MEDICINE                           388      79.320718\n",
       "                                          390      12.078867\n",
       "GYNECOLOGICAL/ONCOLOGY                    1027    100.000000\n",
       "HAND SURGERY                              1028    100.000000\n",
       "HEMATOLOGY                                1031     93.915863\n",
       "                                          1030      5.476548\n",
       "HOSPICE AND PALLIATIVE CARE               1085     92.628264\n",
       "                                          1086      7.371736\n",
       "HOSPITAL (DMERCS ONLY)                    1087    100.000000\n",
       "HOSPITALIST                               1088     86.617703\n",
       "                                          1089     13.382297\n",
       "LICENSED PRACTICAL NURSE                  1589     98.576184\n",
       "                                          1588      1.423816\n",
       "MEDICAL ONCOLOGY                          1594     79.600013\n",
       "                                          1604      6.586096\n",
       "MULTISPECIALTY CLINIC/GROUP PRACTICE      1607    100.000000\n",
       "NATUROPATH                                1608    100.000000\n",
       "NEUROSURGERY                              1795     55.698741\n",
       "                                          1796     43.195592\n",
       "ORAL SURGERY (DENTISTS ONLY)              2145     58.163650\n",
       "                                          2146     34.239513\n",
       "ORTHOPAEDIC SURGERY                       2148     92.547591\n",
       "                                          2147      7.452409\n",
       "PEDIATRIC MEDICINE                        2222     92.126779\n",
       "                                          2217      5.070677\n",
       "PERIPHERAL VASCULAR DISEASE               2229    100.000000\n",
       "PHARMACIST                                2230     53.877100\n",
       "                                          2232     29.980763\n",
       "PODIATRY                                  2453     86.054184\n",
       "                                          2456      4.074513\n",
       "PREVENTIVE MEDICINE                       2468     49.480490\n",
       "                                          2467     31.301973\n",
       "RADIATION ONCOLOGY                        2653     55.248506\n",
       "                                          2652     26.730474\n",
       "SPORTS MEDICINE                           2712     50.683492\n",
       "                                          2709     34.229745\n",
       "THORACIC SURGERY                          2740     67.151966\n",
       "                                          2741     32.848034\n",
       "VASCULAR SURGERY                          2778     98.681300\n",
       "                                          2777      1.318700\n",
       "Name: spending_pct, dtype: float64"
      ]
     },
     "execution_count": 17,
     "metadata": {},
     "output_type": "execute_result"
    }
   ],
   "source": [
    "filtered_medication_spending.groupby('specialty')['spending_pct'].nlargest(n=2)"
   ]
  },
  {
   "cell_type": "code",
   "execution_count": null,
   "metadata": {},
   "outputs": [],
   "source": []
  }
 ],
 "metadata": {
  "colab": {
   "collapsed_sections": [],
   "name": "4_Data_Cleaning_and_Preparation_Practical_Solutions.ipynb",
   "provenance": [],
   "version": "0.3.2"
  },
  "kernelspec": {
   "display_name": "Python 3",
   "language": "python",
   "name": "python3"
  },
  "language_info": {
   "codemirror_mode": {
    "name": "ipython",
    "version": 3
   },
   "file_extension": ".py",
   "mimetype": "text/x-python",
   "name": "python",
   "nbconvert_exporter": "python",
   "pygments_lexer": "ipython3",
   "version": "3.6.1"
  },
  "toc": {
   "base_numbering": 1,
   "nav_menu": {},
   "number_sections": true,
   "sideBar": true,
   "skip_h1_title": false,
   "title_cell": "Table of Contents",
   "title_sidebar": "Contents",
   "toc_cell": false,
   "toc_position": {},
   "toc_section_display": true,
   "toc_window_display": false
  }
 },
 "nbformat": 4,
 "nbformat_minor": 1
}
