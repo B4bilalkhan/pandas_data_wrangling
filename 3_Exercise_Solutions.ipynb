{
 "cells": [
  {
   "cell_type": "code",
   "execution_count": 1,
   "metadata": {},
   "outputs": [
    {
     "ename": "ImportError",
     "evalue": "No module named pandas",
     "output_type": "error",
     "traceback": [
      "\u001b[0;31m---------------------------------------------------------------------------\u001b[0m",
      "\u001b[0;31mImportError\u001b[0m                               Traceback (most recent call last)",
      "\u001b[0;32m<ipython-input-1-38d4b0363d82>\u001b[0m in \u001b[0;36m<module>\u001b[0;34m()\u001b[0m\n\u001b[0;32m----> 1\u001b[0;31m \u001b[0;32mimport\u001b[0m \u001b[0mpandas\u001b[0m\u001b[0;34m\u001b[0m\u001b[0m\n\u001b[0m",
      "\u001b[0;31mImportError\u001b[0m: No module named pandas"
     ]
    }
   ],
   "source": [
    "import pandas"
   ]
  },
  {
   "cell_type": "markdown",
   "metadata": {
    "colab_type": "text",
    "id": "KdBSvhqBtyUK"
   },
   "source": [
    "# Exercise 3.0: Importing the Honolulu Flights Data Set\n",
    "\n",
    "For some of the exercises in this chapter we will be working with a data set containing information about all the arriving and departing flights in and out of the Honolulu aiport, HNL, on the Island of Oahu in December 2015. \n",
    "\n",
    "Please run the following code cell which will parse the 'honolulu_flights.csv' file, and build the `HNL_flights_df DataFrame` before trying the exercises in this chapter related to the Honolulu flights data set.\n",
    "\n",
    "This data set contains the following columns:\n",
    "\n",
    "| Column |Description|\n",
    "|:----------|-----------|\n",
    "| `YEAR` | The year of the flight  |\n",
    "| `MONTH` |  The month of the flight |\n",
    "| `DAY` |  The day of the flight |\n",
    "| `DAY_OF_WEEK` |  The day of the week of the flight |\n",
    "| `FLIGHT_NUMBER` |  The flight number of the flight |\n",
    "| `ORIGIN_AIRPORT` |  The origin airport of the flight  |\n",
    "| `DESTINATION_AIRPORT` |  The destination airport of the flight |\n",
    "| `DEPARTURE_DELAY` |  The departure delay of the flight  |\n",
    "| `DISTANCE` |  The distance of the flight in miles |\n",
    "| `AIR_TIME` |  The flight time without taxiing in minutes |\n",
    "| `ARRIVAL_DELAY` |  The arrival delay of the flight  |"
   ]
  },
  {
   "cell_type": "code",
   "execution_count": null,
   "metadata": {
    "colab": {},
    "colab_type": "code",
    "id": "t9hIDwLZuE49"
   },
   "outputs": [],
   "source": [
    "HNL_flights_df = pd.read_csv('honolulu_flights.csv')"
   ]
  },
  {
   "cell_type": "markdown",
   "metadata": {
    "colab_type": "text",
    "id": "bvAtGVFbtu5Q"
   },
   "source": [
    "# Exercise 3.1 Attributes\n",
    "\n",
    "Which of the following lines of code will give the number of rows and columns, i.e. the `shape` attribute, of  the `HNL_flights_df DataFrame`?  Please note that the output should be: (7975, 11).\n",
    "\n",
    "A:\n",
    "```python\n",
    "HNL_flights_df.size\n",
    "```\n",
    "\n",
    "B: \n",
    "```python\n",
    "HNL_flights_df.shape\n",
    "```\n",
    "\n",
    "C: \n",
    "```python\n",
    "HNL_flights_df.shape()\n",
    "```\n",
    "\n",
    "D: \n",
    "```python\n",
    "pd.shape(HNL_flights_df)\n",
    "```\n",
    "\n",
    "**Correct Answer**\n",
    "\n",
    "B:\n",
    "```python\n",
    "HNL_flights_df.shape\n",
    "```\n",
    "\n",
    "**Explanation**\n",
    "\n",
    "A: This is the correct way to access an attribute of a `DataFrame`, but this attribute gives the total number of elements rather than the number of rows and columns.\n",
    "\n",
    "B: In `Python`, you can access an object’s attribute using the syntax `ObjectName.attributeName`. For instance, if our `DataFrame` is named `df` and our attribute is `shape`, `df.shape`will return the shape attribute of our `DataFrame`.\n",
    "\n",
    "C: This is the syntax used to call a `method`, but `shape` is an attribute of the `DataFrame` that holds a tuple. This line results in a `TypeError` with the message: ''tuple' object is not callable'.\n",
    "\n",
    "D: The line of code in option D will attempt to access the `shape` attribute of the `pandas` library, which does not exist, and then call it, as if it where a function, passing `HNL_flights_df` as an argument. This line results in a `AttributeError` with the message: 'module 'pandas' has no attribute 'shape''."
   ]
  },
  {
   "cell_type": "markdown",
   "metadata": {
    "colab_type": "text",
    "id": "N8JaKrmfwkq3"
   },
   "source": [
    "# Exercise 3.2: `DataFrame` Methods\n",
    "\n",
    "Which of the following lines of code will output the average arrival delay time for the flights described in `HNL_flights_df`? Note that the output should be: -2.2572254335260116\n",
    "\n",
    "A:\n",
    "```python\n",
    "HNL_flights_df['ARRIVAL_DELAY'].mean()\n",
    "```\n",
    "\n",
    "B:\n",
    "```python\n",
    "HNL_flights_df.mean()\n",
    "```\n",
    "\n",
    "C:\n",
    "```python\n",
    "pd.mean(HNL_flights_df.ARRIVAL_DELAY)\n",
    "```\n",
    "\n",
    "D:\n",
    "```python\n",
    "HNL_flights_df.describe().ARRIVAL_DELAY\n",
    "```\n",
    "\n",
    "**Correct Answer**\n",
    "\n",
    "A:\n",
    "```python\n",
    "HNL_flights_df['ARRIVAL_DELAY'].mean()\n",
    "```\n",
    "\n",
    "**Explanation**\n",
    "\n",
    "A: This answer correctly acesses the `ARRIVAL_DELAY` column of `HNL_flights_df`, and then calls the `mean()` of the resulting `Series`.\n",
    "\n",
    "B: The line of code in this option will return a `Series` of the average of each of the numerical columns of `HNL_flights_df`, but this problem specifically asked for the average arrival delay time.\n",
    "\n",
    "C: The `Pandas` module does not have a `mean()` method as it is used in this option. This line of code results in an `AttributeError` with the message: \"module 'pandas' has no attribute 'mean'.\"\n",
    "\n",
    "D: This option will return a `Series` contiaing many statistical properties describing the `ARRIVAL_DELAY` column, including the mean, however, this problem specifically asked for the average arrival delay time. \n",
    "\n"
   ]
  },
  {
   "cell_type": "markdown",
   "metadata": {
    "colab_type": "text",
    "id": "judU1bhO_rC7"
   },
   "source": [
    "# Exercise 3.3: Vectorization\n",
    "\n",
    "Which of the following lines of code will result in a `Series` that contains the average speed of the plane in miles per minute for each flight decribed in  `HNL_flights_df`? Please note that this can be calcluated by dividing the distance by the air time of the flight.\n",
    "\n",
    "A:\n",
    "```python\n",
    "HNL_flights_df.loc[:, 'DISTANCE' / 'AIR_TIME']\n",
    "```\n",
    "\n",
    "B:\n",
    "```python\n",
    "HNL_flights_df.loc['DISTANCE', :] / HNL_flights_df.loc['AIR_TIME', :]\n",
    "```\n",
    "\n",
    "C:\n",
    "```python\n",
    "HNL_flights_df.loc[:, 'DISTANCE'] / HNL_flights_df.loc[:, 'AIR_TIME']\n",
    "```\n",
    "\n",
    "D:\n",
    "```python\n",
    "HNL_flights_df.loc[:, ['DISTANCE', 'AIR_TIME']].divide(HNL_flights_df.loc[:, 'AIR_TIME'], axis='rows')\n",
    "```\n",
    "\n",
    "Hint: Feel free to use the code cell below to try these commands out. For the incorrect options, make note of what is going wrong and or what errors are being thrown.\n",
    "\n",
    "**Correct Answer**\n",
    "\n",
    "C:\n",
    "```python\n",
    "HNL_flights_df.loc[:, 'DISTANCE'] / HNL_flights_df.loc[:, 'AIR_TIME']\n",
    "```\n",
    "\n",
    "\n",
    "**Explanation**\n",
    "\n",
    "A: This line of code will result in a `TypeError` with the message: \"unsupported operand type(s) for /: 'str' and 'str'\". This is because `Python` is attempting to divide the strings 'DISTANCE'  and 'AIR_TIME' to use to index `HNL_flights_df`.\n",
    "\n",
    "B: This option will result in a `KeyError` with the message: \"the label \\[`DISTANCE`] is not in the \\[`index`]\". The `KeyError` is thrown becuase the syntax used is attempting to access a *row* labeled by the string 'DISTANCE', rather than a column. Remeber we reference by row and then column with the `loc` attribute of the `DataFrame`.\n",
    "\n",
    "C: This line of code correctly accesses the two columns and performs the vectorized arithmetic to obtain a `Series` with the average speed of the plane in miles per minute for each flight described in `HNL_flights_df`.\n",
    "\n",
    "D: This choice first creates a `DataFrame` that is a subset of the original `HNL_flights_df` only containing the columns `DISTANCE` and `AIR_TIME`. Then the resulting `DataFrame`calls the `divide()` method with `axis='rows'` and passes the `AIR_TIME` column of `HNL_flights_df`. The `divide()` call will perform vectorized arithmetic for both `DISTANCE` and `AIR_TIME`, but the problem clearly states that only the the average speed of the plane in miles per minute is desired. \n"
   ]
  },
  {
   "cell_type": "markdown",
   "metadata": {
    "colab_type": "text",
    "id": "q-kMrMDkG304"
   },
   "source": [
    "# Exercise 3.4: Broadcasting\n",
    "\n",
    "Currently the `AIR_TIME` column, which gives the total flight time without taxiing, is in units of minutes. Which of the following lines of code will result in a `Series` that contains the total flight time without taxiing in units of hours? Please note that this can be found by dividing each of the entries in the `AIR_TIME` column by sixty.\n",
    "\n",
    "A:\n",
    "```python\n",
    "HNL_flights_df.loc[:, 'AIR_TIME'] / pd.DataFrame([60])\n",
    "```\n",
    "\n",
    "B:\n",
    "```python\n",
    "HNL_flights_df.loc[:, 'AIR_TIME'] / pd.Series([60])\n",
    "```\n",
    "\n",
    "C:\n",
    "```python\n",
    "HNL_flights_df.loc['AIR_TIME', :] / 60\n",
    "```\n",
    "\n",
    "D:\n",
    "```python\n",
    "HNL_flights_df.loc[:, 'AIR_TIME'] / 60\n",
    "```\n",
    "\n",
    "**Correct Answer**\n",
    "\n",
    "D:\n",
    "```python\n",
    "HNL_flights_df.loc[:, 'AIR_TIME'] / 60\n",
    "```\n",
    "\n",
    "\n",
    "**Explanation**\n",
    "\n",
    "A, B: This problem can be solved using broadcasting. `Pandas` will broadcast native `Python` types, such as strings and integers, not `Pandas` types. If a `DataFrame` or `Series` is used in an arithmetic operation, as in options A and B, then `pandas` will align the object by the index and column labels and will not broadcast values.\n",
    "\n",
    "C: This line of code attempts to access a row labeled by the string 'AIR_TIME', but since that label does not exist in the `index`, a `KeyError` is thrown. \n",
    "\n",
    "D: This line of code correctly accessses the `AIR_TIME` column, and then uses broadcasting to divide each entry by sixty. "
   ]
  }
 ],
 "metadata": {
  "colab": {
   "collapsed_sections": [],
   "name": "3_Exploring_Data_Exercise_Solutions.ipynb",
   "provenance": [],
   "version": "0.3.2"
  },
  "kernelspec": {
   "display_name": "Python 3",
   "language": "python",
   "name": "python3"
  },
  "language_info": {
   "codemirror_mode": {
    "name": "ipython",
    "version": 2
   },
   "file_extension": ".py",
   "mimetype": "text/x-python",
   "name": "python",
   "nbconvert_exporter": "python",
   "pygments_lexer": "ipython2",
   "version": "2.7.3"
  },
  "toc": {
   "base_numbering": 1,
   "nav_menu": {},
   "number_sections": true,
   "sideBar": true,
   "skip_h1_title": false,
   "title_cell": "Table of Contents",
   "title_sidebar": "Contents",
   "toc_cell": false,
   "toc_position": {},
   "toc_section_display": true,
   "toc_window_display": false
  }
 },
 "nbformat": 4,
 "nbformat_minor": 1
}
