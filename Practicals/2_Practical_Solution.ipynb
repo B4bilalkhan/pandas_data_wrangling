{
 "cells": [
  {
   "cell_type": "markdown",
   "metadata": {
    "colab_type": "text",
    "id": "3bLn_fzpD4kD"
   },
   "source": [
    "# Data Loading and Storage Practical\n",
    "\n",
    "---\n",
    "1.   Start a new Jupyter Notebook\n",
    "\n",
    "2.   Import the pandas Python package using the standard alias: `pd`"
   ]
  },
  {
   "cell_type": "code",
   "execution_count": 0,
   "metadata": {
    "colab": {},
    "colab_type": "code",
    "id": "uNXtAdQEDm41"
   },
   "outputs": [],
   "source": [
    "import pandas as pd"
   ]
  },
  {
   "cell_type": "markdown",
   "metadata": {
    "colab_type": "text",
    "id": "jkUYryJVEBR7"
   },
   "source": [
    "3.   Load the first 5 rows of the data stored in the file `data/spending_ch2_practical.csv` into a `DataFrame` named `df` using the default parameters of `read_csv` and then print `df`"
   ]
  },
  {
   "cell_type": "code",
   "execution_count": 0,
   "metadata": {
    "colab": {},
    "colab_type": "code",
    "id": "7aKZKWQvD9Z8"
   },
   "outputs": [],
   "source": [
    "df = pd.read_csv('data/spending_ch2_practical.csv', nrows=5)\n",
    "df"
   ]
  },
  {
   "cell_type": "markdown",
   "metadata": {
    "colab_type": "text",
    "id": "IeedptODFzbj"
   },
   "source": [
    "4. There is a header for the data set but notice it is after a comment which takes up 1 row. Reload the first 5 rows of the data from the same file overwriting `df` but this time skip the first row. "
   ]
  },
  {
   "cell_type": "code",
   "execution_count": 0,
   "metadata": {
    "colab": {},
    "colab_type": "code",
    "id": "wfd2lLhJFyjX"
   },
   "outputs": [],
   "source": [
    "df = pd.read_csv('data/spending_ch2_practical.csv', skiprows=[0], nrows=5)\n",
    "df"
   ]
  },
  {
   "cell_type": "markdown",
   "metadata": {
    "colab_type": "text",
    "id": "El4xwAnzGI7y"
   },
   "source": [
    "5. It seems that the data is not comma separated as the file extension '.csv' suggests (this is a real issue you will run into), rather it looks like it is delimited using a different character. Reload the first 5 rows of the data from the same file overwriting `df` but this time also specify what the file values are separated by."
   ]
  },
  {
   "cell_type": "code",
   "execution_count": 0,
   "metadata": {
    "colab": {},
    "colab_type": "code",
    "id": "JvQRIf2PGPyK"
   },
   "outputs": [],
   "source": [
    "df = pd.read_csv('data/spending_ch2_practical.csv', skiprows=[0], sep='/', nrows=5)\n",
    "df"
   ]
  },
  {
   "cell_type": "markdown",
   "metadata": {
    "colab_type": "text",
    "id": "mSfbd7xSGefO"
   },
   "source": [
    "6. Notice that in the entry at the integer location (2,2) there is the string \"Na\", this should be handled as a missing value. Load all of the data from the same file overwriting `df` but this time specify that \"Na\" should be considered as a missing value. Verify that \"Na\" was identified as a missing value (i.e. nan) "
   ]
  },
  {
   "cell_type": "code",
   "execution_count": 0,
   "metadata": {
    "colab": {},
    "colab_type": "code",
    "id": "jPLPyFwDGsUI"
   },
   "outputs": [],
   "source": [
    "df = pd.read_csv('data/spending_ch2_practical.csv', skiprows=[0], sep='/', na_values='Na')"
   ]
  },
  {
   "cell_type": "markdown",
   "metadata": {
    "colab_type": "text",
    "id": "bS18DtJWG4ZS"
   },
   "source": [
    "7. Print the `DataFrame` attribute `shape` to view the dimensions of `df`"
   ]
  },
  {
   "cell_type": "code",
   "execution_count": 0,
   "metadata": {
    "colab": {},
    "colab_type": "code",
    "id": "AKXnS06zG7MI"
   },
   "outputs": [],
   "source": [
    "df.shape"
   ]
  },
  {
   "cell_type": "markdown",
   "metadata": {
    "colab_type": "text",
    "id": "kIwYrsIMHLWB"
   },
   "source": [
    "8. Since `df` is small enough we can view the entire `DataFrame`. Print `df` and scan over the `DataFrame` thinking of any other issues there may be"
   ]
  },
  {
   "cell_type": "code",
   "execution_count": 0,
   "metadata": {
    "colab": {},
    "colab_type": "code",
    "id": "E3K24rq2HMf8"
   },
   "outputs": [],
   "source": [
    "df"
   ]
  },
  {
   "cell_type": "markdown",
   "metadata": {
    "colab_type": "text",
    "id": "Tx-Rcu41HOBE"
   },
   "source": [
    "9. From a quick glance, it seems as though the 'unique_id' column is indeed unique for each entry. Use the `DataFrame` method `nunique` to verify this. "
   ]
  },
  {
   "cell_type": "code",
   "execution_count": 0,
   "metadata": {
    "colab": {},
    "colab_type": "code",
    "id": "RwD_Hm1NHY5X"
   },
   "outputs": [],
   "source": [
    "df.nunique()"
   ]
  },
  {
   "cell_type": "markdown",
   "metadata": {
    "colab_type": "text",
    "id": "JL2D0iKlHeDH"
   },
   "source": [
    "10. Reload the data from the file `data/spending_ch2_practical.csv` into `df` with all the parameters we have set, but this time set the index to be the `unique_id` column"
   ]
  },
  {
   "cell_type": "code",
   "execution_count": 0,
   "metadata": {
    "colab": {},
    "colab_type": "code",
    "id": "6ETD0djiHp2Z"
   },
   "outputs": [],
   "source": [
    "df = pd.read_csv('data/spending_ch2_practical.csv', skiprows=[0], sep='/', na_values='Na', index_col='unique_id')"
   ]
  },
  {
   "cell_type": "markdown",
   "metadata": {
    "colab_type": "text",
    "id": "S8sKhHhiH1oZ"
   },
   "source": [
    "11. Write a new file named `data/med_spending_ch2_practical.csv` which only has the `medication` and `specialty` columns saved from the data in `df`"
   ]
  },
  {
   "cell_type": "code",
   "execution_count": 0,
   "metadata": {
    "colab": {},
    "colab_type": "code",
    "id": "JY6brSZvH44j"
   },
   "outputs": [],
   "source": [
    "df.loc[:, ['medication', 'specialty']].to_csv('data/med_spending_ch2_practical.csv')"
   ]
  }
 ],
 "metadata": {
  "colab": {
   "name": "2_Data_Loading_and_Storage_Practical_Solution.ipynb",
   "provenance": [],
   "version": "0.3.2"
  },
  "kernelspec": {
   "display_name": "Python 3",
   "language": "python",
   "name": "python3"
  },
  "language_info": {
   "codemirror_mode": {
    "name": "ipython",
    "version": 3
   },
   "file_extension": ".py",
   "mimetype": "text/x-python",
   "name": "python",
   "nbconvert_exporter": "python",
   "pygments_lexer": "ipython3",
   "version": "3.6.1"
  },
  "toc": {
   "base_numbering": 1,
   "nav_menu": {},
   "number_sections": true,
   "sideBar": true,
   "skip_h1_title": false,
   "title_cell": "Table of Contents",
   "title_sidebar": "Contents",
   "toc_cell": false,
   "toc_position": {},
   "toc_section_display": true,
   "toc_window_display": false
  }
 },
 "nbformat": 4,
 "nbformat_minor": 1
}
