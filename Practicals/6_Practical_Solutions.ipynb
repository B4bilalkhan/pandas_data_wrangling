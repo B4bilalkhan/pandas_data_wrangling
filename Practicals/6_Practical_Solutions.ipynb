{
 "cells": [
  {
   "cell_type": "markdown",
   "metadata": {
    "colab_type": "text",
    "id": "CS6bM3aNSoQa"
   },
   "source": [
    "# Function Application and Mapping Practical Solutions\n",
    "\n",
    "Please note that there are many possible ways to complete the practical tasks that are not limited to the solutions provided by this document. The output of your code should however exactly match the following solutions.\n",
    "\n",
    "---\n",
    "\n",
    "1.  Start a new Jupyter Notebook\n",
    "\n",
    "2.  Import the `pandas` Python package using the standard alias: `pd`, as well as `matplotlib.pyplot` as `plt`"
   ]
  },
  {
   "cell_type": "code",
   "execution_count": 2,
   "metadata": {
    "colab": {},
    "colab_type": "code",
    "id": "zSRtBUslSEm1"
   },
   "outputs": [],
   "source": [
    "import pandas as pd"
   ]
  },
  {
   "cell_type": "markdown",
   "metadata": {
    "colab_type": "text",
    "id": "YWos3qbPb1-5"
   },
   "source": [
    "3. Read the file `data/spending_ch6_practical.csv` located in the data folder into the `pandas` DataFrame `spending_df` with index column set to 'unique_id'"
   ]
  },
  {
   "cell_type": "code",
   "execution_count": 4,
   "metadata": {
    "colab": {},
    "colab_type": "code",
    "id": "vkRn_LqUTZke"
   },
   "outputs": [],
   "source": [
    "spending_df = pd.read_csv('data/spending_ch6_practical.csv', index_col='unique_id')"
   ]
  },
  {
   "cell_type": "markdown",
   "metadata": {
    "colab_type": "text",
    "id": "RF7w2v_8TaTl"
   },
   "source": [
    "4. Filter out any specialties that have less than 200 records or for which the total number of beneficiaries is less than 15,000.\n",
    "\n",
    "  * Furthermore, save your results as a sorted `DataFrame`. The sort order should be by specialty (Ascending), nb_beneficiaries (descending), spending (descending), respectively."
   ]
  },
  {
   "cell_type": "code",
   "execution_count": 5,
   "metadata": {
    "colab": {},
    "colab_type": "code",
    "id": "vUfkH2qPTjO-"
   },
   "outputs": [],
   "source": [
    "def filter_spending(x):\n",
    "  return (x.shape[0] >= 200) and (x.nb_beneficiaries.sum() >= 15000)\n",
    "\n",
    "spending_by_specialty = spending_df.groupby('specialty')\n",
    "filtered_spending_df = spending_by_specialty.filter(filter_spending)\n",
    "filtered_sorted_spending_df = (\n",
    "    filtered_spending_df.sort_values(by=['specialty', \n",
    "                                         'nb_beneficiaries', \n",
    "                                         'spending'], \n",
    "                                     ascending=[True, False, False]))"
   ]
  },
  {
   "cell_type": "markdown",
   "metadata": {
    "colab_type": "text",
    "id": "XT_-RJHhTh6_"
   },
   "source": [
    "  * How many unique specialties pass this filtering?"
   ]
  },
  {
   "cell_type": "code",
   "execution_count": 6,
   "metadata": {
    "colab": {},
    "colab_type": "code",
    "id": "EF-_xoDNW4_6"
   },
   "outputs": [
    {
     "data": {
      "text/plain": [
       "6"
      ]
     },
     "execution_count": 6,
     "metadata": {},
     "output_type": "execute_result"
    }
   ],
   "source": [
    "filtered_sorted_spending_df.specialty.unique().shape[0]"
   ]
  },
  {
   "cell_type": "markdown",
   "metadata": {},
   "source": [
    "5. Let us walk through a *split apply combine* example step by step.\n",
    "  * First *split* the `DataFrame` based on the entries in the `spending` column. Group the `spending_df` `DataFrame` by the entries in both the `specialty` and `medication` columns, save the resulting `GroupBy` object as `medication_spending`."
   ]
  },
  {
   "cell_type": "code",
   "execution_count": 7,
   "metadata": {},
   "outputs": [],
   "source": [
    "medication_spending = spending_df.groupby(['specialty','medication'])"
   ]
  },
  {
   "cell_type": "markdown",
   "metadata": {},
   "source": [
    "  * Second *apply* and *combine* using the `GroupBy` `sum()` method to the `spending` column and save the resulting `Series` as `medication_spending_series`."
   ]
  },
  {
   "cell_type": "code",
   "execution_count": 8,
   "metadata": {},
   "outputs": [],
   "source": [
    "medication_spending_series = medication_spending['spending'].sum()"
   ]
  },
  {
   "cell_type": "markdown",
   "metadata": {
    "colab_type": "text",
    "id": "5dc-W6jCYSqk"
   },
   "source": [
    "7. Group `medication_spending_df` on specialty and filter the specialties for which the sum of the top 2 medicines in terms of `spending` is less than 80\\% of the total spending. For instance, if the sum of the `spending` for the highest 2 entries for `ADDICTION MEDICINE`  is  $817.88 + 82.62 =  900.5$ and the total `spending` is $920.06$, then we have that $900.5 / 920.06 > 0.8$, therefore, we should retain this specialty. However, the if sum of the top 2 medicines in `ALLERGY/IMMUNOLOGY` is $79261.85 + 34318.54 = 113580.39$, but the total sum is $189174.06$, we have that $113580.39 / 189174.06 < 0.8$, therefore, we should discard this specialty."
   ]
  },
  {
   "cell_type": "code",
   "execution_count": 15,
   "metadata": {
    "colab": {},
    "colab_type": "code",
    "id": "0VyucA6QXD6i"
   },
   "outputs": [],
   "source": [
    "def filter_medication(x):\n",
    "     return (x.nlargest(2).sum() / x.sum()) >= 0.8\n",
    "\n",
    "medication_spending_by_specialty = medication_spending_series.groupby('specialty')\n",
    "filtered_medication_spending = medication_spending_by_specialty.filter(filter_medication)"
   ]
  },
  {
   "cell_type": "markdown",
   "metadata": {
    "colab_type": "text",
    "id": "vdRmuGeNbxj9"
   },
   "source": [
    " * Print only the top two entries of each specialty in the resulting `Series`. "
   ]
  },
  {
   "cell_type": "code",
   "execution_count": 19,
   "metadata": {
    "colab": {},
    "colab_type": "code",
    "id": "WK-eAnTMcA6H"
   },
   "outputs": [
    {
     "data": {
      "text/plain": [
       "specialty                                 specialty                                 medication                    \n",
       "ADDICTION MEDICINE                        ADDICTION MEDICINE                        BUSPIRONE HCL                        817.88\n",
       "                                                                                    LAMOTRIGINE                           82.62\n",
       "CARDIAC ELECTROPHYSIOLOGY                 CARDIAC ELECTROPHYSIOLOGY                 RIVAROXABAN                       169196.74\n",
       "                                                                                    DRONEDARONE HCL                    24922.61\n",
       "CARDIAC SURGERY                           CARDIAC SURGERY                           INSULIN GLARGINE,HUM.REC.ANLOG     11990.01\n",
       "                                                                                    HYDROCODONE/ACETAMINOPHEN            442.91\n",
       "CERTIFIED NURSE MIDWIFE                   CERTIFIED NURSE MIDWIFE                   MIRABEGRON                         13802.87\n",
       "                                                                                    MEDROXYPROGESTERONE ACETATE          960.60\n",
       "CLINIC/CENTER                             CLINIC/CENTER                             ESOMEPRAZOLE MAGNESIUM              2905.34\n",
       "                                                                                    MIRTAZAPINE                          204.82\n",
       "CLINICAL PSYCHOLOGIST                     CLINICAL PSYCHOLOGIST                     ZOLPIDEM TARTRATE                    495.95\n",
       "COLORECTAL SURGERY (FORMERLY PROCTOLOGY)  COLORECTAL SURGERY (FORMERLY PROCTOLOGY)  OSELTAMIVIR PHOSPHATE              11032.46\n",
       "                                                                                    LABETALOL HCL                       1544.70\n",
       "CRNA                                      CRNA                                      GABAPENTIN                           469.05\n",
       "                                                                                    ALENDRONATE SODIUM                    70.35\n",
       "DIAGNOSTIC RADIOLOGY                      DIAGNOSTIC RADIOLOGY                      TERIPARATIDE                      564901.05\n",
       "                                                                                    MEMANTINE HCL                       3723.02\n",
       "FAMILY MEDICINE                           FAMILY MEDICINE                           CIPROFLOXACIN HCL                    580.12\n",
       "                                                                                    SIMVASTATIN                           88.34\n",
       "GYNECOLOGICAL/ONCOLOGY                    GYNECOLOGICAL/ONCOLOGY                    METRONIDAZOLE                        852.20\n",
       "HAND SURGERY                              HAND SURGERY                              OXYCODONE HCL/ACETAMINOPHEN          935.97\n",
       "HEMATOLOGY                                HEMATOLOGY                                ERLOTINIB HCL                     115096.82\n",
       "                                                                                    DIVALPROEX SODIUM                   6711.68\n",
       "HOSPICE AND PALLIATIVE CARE               HOSPICE AND PALLIATIVE CARE               PREGABALIN                           753.04\n",
       "                                                                                    TRAZODONE HCL                         59.93\n",
       "HOSPITAL (DMERCS ONLY)                    HOSPITAL (DMERCS ONLY)                    CLOZAPINE                           1994.95\n",
       "HOSPITALIST                               HOSPITALIST                               ATORVASTATIN CALCIUM                 496.51\n",
       "                                                                                    METOPROLOL TARTRATE                   76.71\n",
       "LICENSED PRACTICAL NURSE                  LICENSED PRACTICAL NURSE                  TOLTERODINE TARTRATE                2828.20\n",
       "                                                                                    AMLODIPINE BESYLATE                   40.85\n",
       "MEDICAL ONCOLOGY                          MEDICAL ONCOLOGY                          DASATINIB                         135761.85\n",
       "                                                                                    RIVAROXABAN                        11232.92\n",
       "MULTISPECIALTY CLINIC/GROUP PRACTICE      MULTISPECIALTY CLINIC/GROUP PRACTICE      ESZOPICLONE                         1188.32\n",
       "NATUROPATH                                NATUROPATH                                LIOTHYRONINE SODIUM                  706.56\n",
       "NEUROSURGERY                              NEUROSURGERY                              GABAPENTIN                          3847.19\n",
       "                                                                                    OXYCODONE HCL/ACETAMINOPHEN         2983.58\n",
       "ORAL SURGERY (DENTISTS ONLY)              ORAL SURGERY (DENTISTS ONLY)              HYDROCODONE/ACETAMINOPHEN           2099.51\n",
       "                                                                                    OXYCODONE HCL/ACETAMINOPHEN         1235.93\n",
       "ORTHOPAEDIC SURGERY                       ORTHOPAEDIC SURGERY                       TRAMADOL HCL/ACETAMINOPHEN           559.08\n",
       "                                                                                    AMOXICILLIN                           45.02\n",
       "PEDIATRIC MEDICINE                        PEDIATRIC MEDICINE                        GLYCEROL PHENYLBUTYRATE           480637.52\n",
       "                                                                                    EFAVIRENZ/EMTRICITAB/TENOFOVIR     26454.39\n",
       "PERIPHERAL VASCULAR DISEASE               PERIPHERAL VASCULAR DISEASE               HYDROCHLOROTHIAZIDE                  603.18\n",
       "PHARMACIST                                PHARMACIST                                OMEPRAZOLE                          9144.21\n",
       "                                                                                    TOLTERODINE TARTRATE                5088.44\n",
       "PODIATRY                                  PODIATRY                                  CLOBETASOL PROPIONATE             121991.47\n",
       "                                                                                    ECONAZOLE NITRATE                   5776.08\n",
       "PREVENTIVE MEDICINE                       PREVENTIVE MEDICINE                       LOVASTATIN                           286.21\n",
       "                                                                                    CIPROFLOXACIN HCL                    181.06\n",
       "RADIATION ONCOLOGY                        RADIATION ONCOLOGY                        NYSTATIN                             353.27\n",
       "                                                                                    MUPIROCIN                            170.92\n",
       "SPORTS MEDICINE                           SPORTS MEDICINE                           SERTRALINE HCL                       487.19\n",
       "                                                                                    ATENOLOL                             329.03\n",
       "THORACIC SURGERY                          THORACIC SURGERY                          GABAPENTIN                           126.38\n",
       "                                                                                    LISINOPRIL                            61.82\n",
       "VASCULAR SURGERY                          VASCULAR SURGERY                          APIXABAN                            4309.59\n",
       "                                                                                    ACETAMINOPHEN WITH CODEINE            57.59\n",
       "Name: spending, dtype: float64"
      ]
     },
     "execution_count": 19,
     "metadata": {},
     "output_type": "execute_result"
    }
   ],
   "source": [
    "filtered_medication_spending.groupby('specialty').nlargest(2)"
   ]
  },
  {
   "cell_type": "code",
   "execution_count": null,
   "metadata": {},
   "outputs": [],
   "source": []
  }
 ],
 "metadata": {
  "colab": {
   "collapsed_sections": [],
   "name": "4_Data_Cleaning_and_Preparation_Practical_Solutions.ipynb",
   "provenance": [],
   "version": "0.3.2"
  },
  "kernelspec": {
   "display_name": "Python 3",
   "language": "python",
   "name": "python3"
  },
  "language_info": {
   "codemirror_mode": {
    "name": "ipython",
    "version": 3
   },
   "file_extension": ".py",
   "mimetype": "text/x-python",
   "name": "python",
   "nbconvert_exporter": "python",
   "pygments_lexer": "ipython3",
   "version": "3.6.1"
  },
  "toc": {
   "base_numbering": 1,
   "nav_menu": {},
   "number_sections": true,
   "sideBar": true,
   "skip_h1_title": false,
   "title_cell": "Table of Contents",
   "title_sidebar": "Contents",
   "toc_cell": false,
   "toc_position": {},
   "toc_section_display": true,
   "toc_window_display": false
  }
 },
 "nbformat": 4,
 "nbformat_minor": 1
}
