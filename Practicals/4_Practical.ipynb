{
 "cells": [
  {
   "cell_type": "markdown",
   "metadata": {
    "colab_type": "text",
    "id": "Ivytr-HYOVx-"
   },
   "source": [
    "# Subsetting and Sorting Practical\n",
    "\n",
    "---\n",
    "\n",
    "1.  Start a new Jupyter Notebook\n",
    "\n",
    "2.  Import the `pandas` Python package using the standard alias: `pd`, as well as `matplotlib.pyplot` as `plt`\n",
    "\n",
    "3. Load the data stored in the file 'data/spending_ch4_practical.tsv' into a `DataFrame` named `spending_df` with the `unique_id` column set as the index column \n",
    "\n",
    "5. Sort the `spending_df` `DataFrame` on the `specialty` column in a way that permanently modifies its sorting order.\n",
    "\n",
    "6. How many instances of `CARDIOLOGY` are in the `specialty` column of `spending_practical_df`?\n",
    "\n",
    "7. Add a new column to `spending_df` named `total_spending_pct` which is the percentage of total spending that each entry accounts for (each entry should be between 0 and 100 and the sum of all the entries in `total_spending_pct` should be 100 )\n",
    "\n",
    "8. Make a new `DataFrame` that is a subset of `spending_df` named `top_spenders_df` which contains only the columns `doctor_id` `spending` and `total_spending_pct` and those entries whose `total_spending_pct` is more than 1%\n",
    "\n",
    "9. The doctor ids in the dataset we are working with are unique for each row entry. This can be confirmed by observing that the unique count of doctor ids matches the number of rows in `spending_df`. Therefore, a quick check of the results can be done by visualizing who the top spenders are; the same doctors who are saved in the `top_spenders_df` `DataFrame` should also be the among the top spenders in `spending_df`. \n",
    "\n",
    "  * $1^{st}$ Make a new `DataFrame` `doctor_spending_df` that is a subset of  `spending_df` indexed by `doctor_id` and with the single column `spending`.  `doctor_spending_df` should also be sorted in descending order by the values in `spending`\n",
    "\n",
    "  * $2^{nd}$ Plot a vertical bar plot of what you think is an appropriate number of rows from `doctor_spending_df` to verify the results saved in `top_spenders_df`\n",
    "\n",
    "10. Save `top_spenders_df` as a CSV into a file called `data/big_spenders_practical.csv`"
   ]
  }
 ],
 "metadata": {
  "colab": {
   "collapsed_sections": [],
   "name": "3_Exploring_Data_Practical.ipynb",
   "provenance": [],
   "version": "0.3.2"
  },
  "kernelspec": {
   "display_name": "Python 2",
   "language": "python",
   "name": "python2"
  },
  "toc": {
   "base_numbering": 1,
   "nav_menu": {},
   "number_sections": true,
   "sideBar": true,
   "skip_h1_title": false,
   "title_cell": "Table of Contents",
   "title_sidebar": "Contents",
   "toc_cell": false,
   "toc_position": {},
   "toc_section_display": true,
   "toc_window_display": false
  }
 },
 "nbformat": 4,
 "nbformat_minor": 1
}
