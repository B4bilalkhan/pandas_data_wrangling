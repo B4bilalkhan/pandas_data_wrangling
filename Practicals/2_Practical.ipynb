{
 "cells": [
  {
   "cell_type": "markdown",
   "metadata": {
    "colab_type": "text",
    "id": "Uvxm4BZtJA_S"
   },
   "source": [
    "# Data Loading and Storage Practical\n",
    "\n",
    "---\n",
    "1.   Start a new Jupyter Notebook\n",
    "\n",
    "2.   Import the pandas Python package using the standard alias: `pd`\n",
    "\n",
    "3.   Load the first 5 rows of the data stored in the file `data/spending_ch2_practical.csv` into a `DataFrame` named `df` using the default parameters of `read_csv` and then print `df`\n",
    "\n",
    "  * What are some issues you notice?\n",
    "\n",
    "4. There is a header for the data set but notice it is after a comment which takes up 1 row. Reload the first 5 rows of the data from the same file overwriting `df` but this time skip the first row. \n",
    "\n",
    "  * Print `df` and look for more issues\n",
    "\n",
    "5. It seems that the data is not comma separated as the file extension '.csv' suggests (this is a real issue you will run into), rather it looks like it is delimited using a different character. Reload the first 5 rows of the data from the same file overwriting `df` but this time also specify what the file values are separated by.\n",
    "\n",
    "  * Print `df` and look for more issues\n",
    "\n",
    "6. Notice that in the entry at the integer location (2,2) there is the string \"Na\", this should be handled as a missing value. Load all of the data from the same file overwriting `df` but this time specify that \"Na\" should be considered as a missing value. Verify that \"Na\" was identified as a missing value (i.e. nan) \n",
    "\n",
    "7. Print the `DataFrame` attribute `shape` to view the dimensions of `df`\n",
    "\n",
    "8. Since `df` is small enough we can view the entire `DataFrame`. Print `df` and scan over the `DataFrame` thinking of any other issues there may be\n",
    "\n",
    "9. From a quick glance, it seems as though the 'unique_id' column is indeed unique for each entry. Use the `DataFrame` method `nunique` to verify this. \n",
    "\n",
    "  * print the result of running the command ```df.nunique()```\n",
    "\n",
    "  * The `unique_id` column should have as many unique values as there are rows. Is this true?\n",
    "\n",
    "10. Reload the data from the file `data/spending_ch2_practical.csv` into `df` with all the parameters we have set, but this time set the index to be the `unique_id` column\n",
    "\n",
    "11. Write a new file named `data/med_spending_ch2_practical.csv` which only has the `medication` and `specialty` columns saved from the data in `df`"
   ]
  }
 ],
 "metadata": {
  "colab": {
   "collapsed_sections": [],
   "name": "2_Data_Loading_and_Storage_Practical.ipynb",
   "provenance": [],
   "version": "0.3.2"
  },
  "kernelspec": {
   "display_name": "Python 2",
   "language": "python",
   "name": "python2"
  },
  "toc": {
   "base_numbering": 1,
   "nav_menu": {},
   "number_sections": true,
   "sideBar": true,
   "skip_h1_title": false,
   "title_cell": "Table of Contents",
   "title_sidebar": "Contents",
   "toc_cell": false,
   "toc_position": {},
   "toc_section_display": true,
   "toc_window_display": false
  }
 },
 "nbformat": 4,
 "nbformat_minor": 1
}
