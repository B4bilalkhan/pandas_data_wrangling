{
 "cells": [
  {
   "cell_type": "markdown",
   "metadata": {
    "colab_type": "text",
    "id": "9igHEHV0IcU5"
   },
   "source": [
    "# `pandas` Data Structures Practical\n",
    "\n",
    "\n",
    "1.   Start a new Jupyter Notebook.\n",
    "\n",
    "2.   Import the pandas Python package using the standard alias `pd`.\n",
    "\n",
    "3.   Create a `pandas` `DataFrame` named `spending_df` with the following entries and with default indexing (this is the range of intergers [0,1]).\n",
    "\n",
    "| doctor_id                |   medication    | nb_beneficiaries | spending |\n",
    "|:--------------------------|:-------------------|:-------------------|:-----------------------|\n",
    "|   24   |   AZITHROMYCIN       |       12  |  77.26|\n",
    "|   67  |      SIMVASTATIN         |     85 |  767.83|\n",
    "\n",
    "4.  Now create a new `pandas` `Series` object which we will be used as a new row entry for our `DataFrame`, name it `row_entry` and give it the following values and index:\n",
    "\n",
    "| index                |   entry    |\n",
    "|:--------------------------|:-------------------|\n",
    "| doctor_id | 32 |\n",
    "| medication| INSULIN DETEMIR  |\n",
    "| nb_beneficiaries| 14 |  \n",
    "|spending| 5409.29 |\n",
    "\n",
    "5. Add the `row_entry` `Series` to the `spending_df` `DataFrame` in-place as a new row with index label 2.\n",
    "\n",
    "6.  Create a new `DataFrame` called `med_spending_df` that is a subset of `spending_df` containing only the `medication` and `spending` columns. Also set the `index` of `med_spending_df` to the following:\n",
    "\n",
    "| unique_id | \n",
    "|:--------------------------|\n",
    "| 10302|\n",
    "| 49385|\n",
    "| 67345| \n",
    "\n",
    "7. Print the last 2 rows of `med_spending_df`.\n",
    "\n",
    "8. Change the `nb_beneficiaries` entry of row 1 in the `spending_df` `DataFrame` to 15 in-place.\n",
    "\n",
    "9. Drop the $0^{th}$ row of `spending_df` in-place."
   ]
  }
 ],
 "metadata": {
  "colab": {
   "collapsed_sections": [],
   "name": "1_pandas_Data_Structures_Practical.ipynb",
   "provenance": [],
   "version": "0.3.2"
  },
  "kernelspec": {
   "display_name": "Python 2",
   "language": "python",
   "name": "python2"
  },
  "toc": {
   "base_numbering": 1,
   "nav_menu": {},
   "number_sections": true,
   "sideBar": true,
   "skip_h1_title": false,
   "title_cell": "Table of Contents",
   "title_sidebar": "Contents",
   "toc_cell": false,
   "toc_position": {},
   "toc_section_display": true,
   "toc_window_display": false
  }
 },
 "nbformat": 4,
 "nbformat_minor": 1
}
