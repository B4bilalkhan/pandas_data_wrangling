{
 "cells": [
  {
   "cell_type": "markdown",
   "metadata": {
    "colab_type": "text",
    "id": "Ivytr-HYOVx-"
   },
   "source": [
    "# `DataFrame` Attributes and Arithmetic Practical\n",
    "\n",
    "---\n",
    "\n",
    "1.  Start a new Jupyter Notebook\n",
    "\n",
    "2.  Import the `pandas` Python package using the standard alias: `pd`\n",
    "\n",
    "3. In this practical we will be working with a new data set that contains statistics related to the NCAA College Baseball Division I 2017 and 2018 seasons. These data sets and more are publicly available on the [NCAA website](https://www.ncaa.com/). The tables below summarize the columns contained in the data sets.\n",
    "\n",
    "| Column |Description|\n",
    "|:----------|-----------|\n",
    "| `Rank`| Rank of the team based on the team's overall batting average |\n",
    "| `Name` | Name of the team |\n",
    "| `G` | Number of games played in the season  |\n",
    "| `W.L` | Number of Wins-Number of Losses |\n",
    "| `AB` | Number of times at bat |\n",
    "| `H` | Number of hits in total |\n",
    "| `BA` | The teams batting average |\n",
    "    \n",
    "    Load the data stored in the files 'Data/batting_2018.csv' and 'Data/batting_2017.csv' into the `DataFrames` named `batting_2018` and `batting_2017`, respectively. Use the `Name` column to index both `DataFrames`. \n",
    "\n",
    "4. There is an entry for each team that competed in the 2018 and 2017 baseball seasons. How many teams competed in 2018 and how many competed in 2017?\n",
    "\n",
    "5. What is the minimum and maximum batting average among all the teams who competed in 2018?\n",
    "\n",
    "6. What is the total number of hits among all the teams in the 2018 NCAA season?\n",
    "\n",
    "7. What was the batting average of the NCAA College Baseball league as a whole in 2017?\n",
    "\n",
    "8. Create a new `Series` named `batting_17_18`, that contains the batting average of each team that participated in both the 2017 and 2018 seasons. If a team only participated in one or the other the entry corresponding to that team should be `NaN`.\n",
    "\n",
    "9. Print the top 10 teams in the `batting_17_18`. Print the top 10 teams in both `batting_2018` and `batting_2017`. "
   ]
  },
  {
   "cell_type": "code",
   "execution_count": null,
   "metadata": {},
   "outputs": [],
   "source": []
  }
 ],
 "metadata": {
  "colab": {
   "collapsed_sections": [],
   "name": "3_Exploring_Data_Practical.ipynb",
   "provenance": [],
   "version": "0.3.2"
  },
  "kernelspec": {
   "display_name": "Python 2",
   "language": "python",
   "name": "python2"
  },
  "toc": {
   "base_numbering": 1,
   "nav_menu": {},
   "number_sections": true,
   "sideBar": true,
   "skip_h1_title": false,
   "title_cell": "Table of Contents",
   "title_sidebar": "Contents",
   "toc_cell": false,
   "toc_position": {},
   "toc_section_display": true,
   "toc_window_display": false
  }
 },
 "nbformat": 4,
 "nbformat_minor": 1
}
