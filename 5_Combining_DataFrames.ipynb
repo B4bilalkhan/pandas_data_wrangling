{
 "cells": [
  {
   "cell_type": "markdown",
   "metadata": {
    "colab_type": "text",
    "id": "79Ys8XKlVvAk"
   },
   "source": [
    "# Combining `DataFrames`\n",
    "\n",
    "---\n",
    "\n",
    "Many interesting data science projects will combine multiple data sets into one to uncover new relationships and patterns. In this chapter we will learn about four different strategies for combining data sets and the methods `pandas` has implemented to support them. The strategies we will cover will be powerful enough to handle almost all of the types of combining you will need to do in practice."
   ]
  },
  {
   "cell_type": "markdown",
   "metadata": {
    "colab_type": "text",
    "id": "eAvndPgCf2Ix"
   },
   "source": [
    "# Preparing Our Environment\n",
    "\n",
    "---\n",
    "\n",
    "`pandas` will be the only package that we need for this chapter since it is easy to use and has powerful functionality for combining `DataFrames`."
   ]
  },
  {
   "cell_type": "code",
   "execution_count": 5,
   "metadata": {
    "colab": {},
    "colab_type": "code",
    "id": "LA054Af0gUcJ"
   },
   "outputs": [],
   "source": [
    "import pandas as pd"
   ]
  },
  {
   "cell_type": "markdown",
   "metadata": {
    "colab_type": "text",
    "id": "s-b_vBnSeFKs"
   },
   "source": [
    "# About the Data\n",
    "\n",
    "---\n",
    "\n",
    "\n",
    "In this chapter we will be using the medical spending data set stored in \"Data/spending_10k.csv\", as well as a second file, \"Data/medication_to_class.tsv\". \n",
    "\n",
    "Recall that \"Data/spending_10k.csv\" is a subset of a complete dataset that is publicly available on the Centers for Medicare & Medicaid Services website ([`CMS` website](https://www.cms.gov/OpenPayments/Explore-the-Data/Dataset-Downloads.html)). A brief review of its contents is shown below:\n",
    "\n",
    "| Column |Description|\n",
    "|:----------|-----------|\n",
    "| `unique_id`| A unique identifier for a Medicare claim to CMS |\n",
    "| `doctor_id` | The Unique Identifier of the doctor who <br/> prescribed the medicine  |\n",
    "| `specialty` | The specialty of the doctor who prescribed the medicine |\n",
    "| `medication` | The medication prescribed |\n",
    "| `nb_beneficiaries` | The number of beneficiaries the <br/> medicine was prescribed to  |\n",
    "| `spending` | The total cost of the medicine prescribed <br/>for the CMS |\n",
    "\n",
    "\"Data/medication_to_class.tsv\" contains information about the class of each medication listed in the first data set. \"Data/medication_to_class.tsv\" is tab delimited and contains the following information:\n",
    "\n",
    "| Column |Description|\n",
    "|:----------|-----------|\n",
    "| `medication_name`| Name of the medication |\n",
    "| `opioid_drug` | Boolean specifying whether the drug is an opioid or not |\n",
    "| `antibiotic_drug` | Boolean specifying whether the drug is an antibiotic or not  |\n",
    "| `high_risk` | Boolean specifying whether the drug is high risk or not |\n",
    "| `antipsychotic_drug` | Boolean specifying whether the drug is antipsychotic or not  |\n",
    " \n",
    "\n",
    "Each line describes whether a drug is an opioid, an antibiotic, an antipsychotic or a high risk-drug (Y is YES, N is NO). \n",
    "\n",
    "We will read the file \"Data/spending_10k.csv\" using the `unique_id` column as the index. We will also set the `doctor_id` column to type object by setting the optional parameter `dtype={\"doctor_id\":\"object\"}` when we call `read_csv()`. The results will be saved in the `DataFrame` `spending_df`. To read the \"Data/medication_to_class.tsv\" data set into a new `DataFrame`, we will use the `read_table()` method with all of its default settings since this file is tab delimited and contains a header.  "
   ]
  },
  {
   "cell_type": "code",
   "execution_count": 4,
   "metadata": {
    "colab": {},
    "colab_type": "code",
    "id": "1bVI0xYxe-c0"
   },
   "outputs": [],
   "source": [
    "spending_df = pd.read_csv(\"Data/spending_10k.csv\", index_col = 'unique_id', \n",
    "                          dtype={\"doctor_id\":\"object\"})\n",
    "\n",
    "med_class = pd.read_table(\"Data/medication_to_class.tsv\")"
   ]
  },
  {
   "cell_type": "markdown",
   "metadata": {
    "colab_type": "text",
    "id": "uFsstgdQbxjZ"
   },
   "source": [
    "# Merging\n",
    "\n",
    "\n",
    "---\n",
    "\n",
    "Merging `DataFrames` and `Series` is the process of adding supplemental data from one or more data sets to an existing data set that you are working with. This process is not always as straight forward as it sounds as there are some subtleties that we need to consider. The biggest issue is that two `Series` or `DataFrames` will often not have the same index or length, leading to the questions: how should we align the data sets?, and what do we do with indices that are in one data set but not in the other? These questions and more will be answered in the following cells, which cover the most common merging strategies data scientists use.  "
   ]
  },
  {
   "cell_type": "markdown",
   "metadata": {
    "colab_type": "text",
    "id": "uZnS5JzEcg7u"
   },
   "source": [
    "## Merging `Series`\n",
    "\n",
    "We will start with the most basic case of joining two `Series` into a single `DataFrame`. Put simply, the underlying two step process is to first create a new index that is comprised of both of the `Series`' indices and extend each `Series` to conform to the new index. Then secondly, create a new `DataFrame` with two columns that are the two extended and aligned `Series`.\n",
    "\n",
    "\n",
    "![](images/merge_from_series.png)\n",
    "\n",
    "The image above illustrates the process of merging two `Series` instances into a single `DataFrame`. We can see that when the `Series` are extended to conform to the new index created by combining the two index objects of the original `Series`, new entries are filled with missing values, `NaN`. \n",
    "\n",
    "This process is carried out by using the `pd.DataFrame()` function. The `pd.DataFrame()` function requires a single positional parameter to be filled which is a dictionary containing the two (or more) `Series` you wish to merge. For instance, if we wanted to merge exactly the two `Series` that were illustrated in the image above we could use the following code:\n",
    "\n",
    "```python\n",
    ">>> s1 = pd.Series(['a', 'b', 'c'], index=[0,1,2])\n",
    ">>> s2 = pd.Series(['c', 'd', 'e'], index=[2,3,4])\n",
    ">>> pd.DataFrame({'x':s1, 'y':s2})\n",
    "     x    y\n",
    "0    a  NaN\n",
    "1    b  NaN\n",
    "2    c    c\n",
    "3  NaN    d\n",
    "4  NaN    e\n",
    "```\n",
    "\n",
    "In the example above we first constructed the two `Series` using the `pd.Series()` function. Then the `pd.DataFrame()` is called and passed a dictionary with keys that will be labels for the columns of the new `DataFrame` and values that are the `Series` containing the data that wil be merged.\n"
   ]
  },
  {
   "cell_type": "code",
   "execution_count": 6,
   "metadata": {
    "colab": {},
    "colab_type": "code",
    "id": "MUfv36GNp7T4"
   },
   "outputs": [
    {
     "data": {
      "text/html": [
       "<div>\n",
       "<style scoped>\n",
       "    .dataframe tbody tr th:only-of-type {\n",
       "        vertical-align: middle;\n",
       "    }\n",
       "\n",
       "    .dataframe tbody tr th {\n",
       "        vertical-align: top;\n",
       "    }\n",
       "\n",
       "    .dataframe thead th {\n",
       "        text-align: right;\n",
       "    }\n",
       "</style>\n",
       "<table border=\"1\" class=\"dataframe\">\n",
       "  <thead>\n",
       "    <tr style=\"text-align: right;\">\n",
       "      <th></th>\n",
       "      <th>x</th>\n",
       "      <th>y</th>\n",
       "    </tr>\n",
       "  </thead>\n",
       "  <tbody>\n",
       "    <tr>\n",
       "      <th>0</th>\n",
       "      <td>a</td>\n",
       "      <td>NaN</td>\n",
       "    </tr>\n",
       "    <tr>\n",
       "      <th>1</th>\n",
       "      <td>b</td>\n",
       "      <td>NaN</td>\n",
       "    </tr>\n",
       "    <tr>\n",
       "      <th>2</th>\n",
       "      <td>c</td>\n",
       "      <td>c</td>\n",
       "    </tr>\n",
       "    <tr>\n",
       "      <th>3</th>\n",
       "      <td>NaN</td>\n",
       "      <td>d</td>\n",
       "    </tr>\n",
       "    <tr>\n",
       "      <th>4</th>\n",
       "      <td>NaN</td>\n",
       "      <td>e</td>\n",
       "    </tr>\n",
       "  </tbody>\n",
       "</table>\n",
       "</div>"
      ],
      "text/plain": [
       "     x    y\n",
       "0    a  NaN\n",
       "1    b  NaN\n",
       "2    c    c\n",
       "3  NaN    d\n",
       "4  NaN    e"
      ]
     },
     "execution_count": 6,
     "metadata": {},
     "output_type": "execute_result"
    }
   ],
   "source": [
    "s1 = pd.Series(['a', 'b', 'c'], index=[0,1,2])\n",
    "s2 = pd.Series(['c', 'd', 'e'], index=[2,3,4])\n",
    "pd.DataFrame({'x':s1, 'y':s2})"
   ]
  },
  {
   "cell_type": "markdown",
   "metadata": {
    "colab_type": "text",
    "id": "KO_VkQi9raOe"
   },
   "source": [
    "## Merging `DataFrames`\n",
    "\n",
    "Now we move on to the topic of merging `DataFrames`. When merging `DataFrames` we need to consider the additional complexity that merging `Series` does not have, multiple columns. To help us out, `pandas`' has implemented a flexible `DataFrame` method called `merge()`, which, by default, operates  on `columns` with the same name across the `DataFrames` being merged, that is to say the intersection of the columns in both `DataFrames`. Furthermore, the default settings of `merge()` will only retain values shared between both `DataFrame`s. This is called an `inner` join strategy (see [default parameters in merge() method](https://pandas.pydata.org/pandas-docs/stable/generated/pandas.DataFrame.merge.html)).\n",
    "\n",
    "![](images/merge.png)\n",
    "\n",
    "The image above illustrates the default behavior of `merge()`. We see that first the column(s) with the same name across the `DataFrames` is (are) identified and aligned. Values that do not exist in both `DataFrames` are dropped. A new `DataFrame` is created by aligning the rows of the `DataFrames` according to the common column(s).\n",
    "\n",
    "For instance, if we wanted to merge to the two `DataFrames` exactly as is shown in the image above, we could use the following code.\n",
    "\n",
    "```python\n",
    ">>> df1 = pd.DataFrame({'data1':[3,2,4,1], 'key':['A','B','A','C']}, index=[1,2,3,4])\n",
    ">>> df2 = pd.DataFrame({'data2':[3,2,4], 'key':['A','B','D']}, index=[1,2,3])\n",
    ">>> df1.merge(df2)\n",
    "   data1 key  data2\n",
    "0      3   A      3\n",
    "1      4   A      3\n",
    "2      2   B      2\n",
    "```\n",
    "\n",
    "We see in the example above that first the two `DataFrames` are constructed using the `pd.DataFrame()` function. Then `df.1`calls `merge()` passing `df2`. The result is a new `DataFrame` merged on the column labeled 'key'.\n"
   ]
  },
  {
   "cell_type": "code",
   "execution_count": 0,
   "metadata": {
    "colab": {},
    "colab_type": "code",
    "id": "bqZMmkHUyPvP"
   },
   "outputs": [],
   "source": [
    "df1 = pd.DataFrame({'data1':[3,2,4,1], 'key':['A','B','A','C']}, index=[1,2,3,4])\n",
    "df2 = pd.DataFrame({'data2':[3,2,4], 'key':['A','B','d']}, index=[1,2,3])\n",
    "df1.merge(df2)"
   ]
  },
  {
   "cell_type": "markdown",
   "metadata": {
    "colab_type": "text",
    "id": "WMT0vQY_sY44"
   },
   "source": [
    "### Merging `DataFrames` Continued 1: Merging on subsets of common columns\n",
    "\n",
    "As stated, by default  `merge()` will merge on *all* columns that have the same label across both `DataFrames`: the caller `DataFrame` and the `DataFrame` passed to the method. This default behavior can be modified by explicitly passing a subset of the common column labels to the parameter `on`. \n",
    "\n",
    "The column name(s) passed to the parameter `on` needs to exist in both `DataFrames.` For example, since the only common column between the two `DataFrames`, `df1` and `df2`, is the the column labeled 'key', the behavior of `merge()` is not changed by specifying `on='key'`, as seen in the image below.\n",
    "\n",
    "![](images/merge_on.png)\n",
    "\n",
    "\n"
   ]
  },
  {
   "cell_type": "markdown",
   "metadata": {
    "colab_type": "text",
    "id": "jmeJsoJOtLqs"
   },
   "source": [
    "### Merging `DataFrames` Continued 2: Merging on columns with different labels\n",
    "\n",
    "We can also merge on columns with different labels by using the parameters `left_on=` and `right_on=`. `left_on` specifies the name of the column to use in the left `DataFrame`, i.e. the `DataFrame` calling the `merge()` method. While `right_on` specifies the name of the column to use in the right `DataFrame`, i.e. the `DataFrame` passed to the `merge()` method. Explicitly specifying columns to merge on can avoid errors in large datasets with dozens of columns.\n",
    "\n",
    "![](images/left_righ_on.png)\n",
    "\n",
    "We see in the image above that the calling `DataFrame` contains the columns `data1` and `lkey` and the right `DataFrame`, or the `DataFrame` being passed to the method contains the columns `data2` and `rkey`. Therefore, if we want to use the values in `lkey` and `rkey` to merge `df1` and `df2` respectively, we would set `left_on='lkey'` and `right_on='rkey'`. \n",
    "\n",
    "For instance, the code below will achieve the behavior illustrated in the image above.\n",
    "\n",
    "```python\n",
    ">>> df1 = pd.DataFrame({'data1':[3,2,1,7], 'lkey':['A','B','A','C']}, index=[1,2,3,4])\n",
    ">>> df2 = pd.DataFrame({'data2':[3,2,4], 'rkey':['A','B','D']}, index=[1,2,3])\n",
    ">>> df1.merge(df2, left_on='lkey', right_on='rkey')\n",
    "   data1 lkey  data2 rkey\n",
    "0      3    A      3    A\n",
    "1      1    A      3    A\n",
    "2      2    B      2    B\n",
    "```\n",
    "\n",
    "We see that the resulting `DataFrame` is aligned by the values in the the `lkey` and `rkey` columns. "
   ]
  },
  {
   "cell_type": "code",
   "execution_count": 0,
   "metadata": {
    "colab": {},
    "colab_type": "code",
    "id": "FdVsToXw-BDZ"
   },
   "outputs": [],
   "source": [
    "df1 = pd.DataFrame({'data1':[3,2,1,7], 'lkey':['A','B','A','C']}, index=[1,2,3,4])\n",
    "df2 = pd.DataFrame({'data2':[3,2,4], 'rkey':['A','B','D']}, index=[1,2,3])\n",
    "df1.merge(df2, left_on='lkey', right_on='rkey')"
   ]
  },
  {
   "cell_type": "markdown",
   "metadata": {
    "colab_type": "text",
    "id": "BKl0P9GVtpNt"
   },
   "source": [
    "### Merging `DataFrames` Continued 3: Additional notes on merge() functionality and behavior\n",
    "\n",
    "It is also possible to merge on the index of the `DataFrames` using `left_index=True` and/or `right_index=True`. `merge()` can combine either `left_on` or `right_on`  with `left_index` and `right_index` to merge on multiple columns.\n",
    "\n",
    "When we explicitly specify a subset of column names to merge on, `merge()` will rename the columns that have similar names and are not used in the merge by appending suffix  '\\_x ' to the labels of the left `DataFrame` and '\\_y' to the labels of the right `DataFrame`."
   ]
  },
  {
   "cell_type": "markdown",
   "metadata": {
    "colab_type": "text",
    "id": "GFXoC-Mpt_gn"
   },
   "source": [
    "### Merging `DataFrame` Strategies\n",
    "\n",
    "In the last handful of cells we have been using the `merge()` method set to its default join strategy and, as stated, that is an *Inner Join*. There are different strategies to merging `DataFrames` other than an inner join; in fact, there are four principal strategies and those are:\n",
    "\n",
    "| Merge strategy | Description |\n",
    "|:--------|:-------------|\n",
    "| `inner` | Keep keys that are present in both tables (intersection) |\n",
    "| `left` | Keep keys found in the left table and set the values in the right table to `NaN`  |\n",
    "| `right` | Keep keys found in the right table and set the values in the left table to `NaN` |\n",
    "| `outer` | Keep the union of keys found in both right and left tables |\n",
    "\n",
    "`merge()` can use a different strategy by setting the `how` parameter. Please closely inspect the illustrations provided in the following four cells showing the four different merging strategies to understand their behaviors.\n"
   ]
  },
  {
   "cell_type": "markdown",
   "metadata": {
    "colab_type": "text",
    "id": "sQUCLPYYcHKf"
   },
   "source": [
    "#### Left Join\n",
    "A left join keeps keys found in left table and sets the values in the right table to NaN.\n",
    "\n",
    "![](images/left.png)"
   ]
  },
  {
   "cell_type": "markdown",
   "metadata": {
    "colab_type": "text",
    "id": "voKO7CQVcHDr"
   },
   "source": [
    "####  Right Join\n",
    "A right join keeps keys found in right table and sets values in the left table to NaN.\n",
    "\n",
    "![](images/right.png)"
   ]
  },
  {
   "cell_type": "markdown",
   "metadata": {
    "colab_type": "text",
    "id": "w6VhkItTcGzd"
   },
   "source": [
    "####  Inner Join\n",
    "An inner join only keep keys that are present in both tables (intersection).\n",
    "\n",
    "\n",
    "\n",
    "![](images/inner.png)"
   ]
  },
  {
   "cell_type": "markdown",
   "metadata": {
    "colab_type": "text",
    "id": "ktaKC_w7cGp1"
   },
   "source": [
    "#### Outer Join\n",
    "An outer join keeps the union of keys found in the right and left tables.\n",
    "\n",
    "![](images/outer.png)"
   ]
  },
  {
   "cell_type": "markdown",
   "metadata": {
    "colab_type": "text",
    "id": "BthT45M0vuG-"
   },
   "source": [
    "## Merging the Medical Spending and Medication Class Data Sets\n",
    "\n",
    "We have seen many examples of merging data frames with toy datasets, but now let us see how the skills we have learned can be used in practice with our two data sets. \n",
    "\n",
    "Let us merge the `spending_df` and `med_class` `DataFrames` on the columns containing the name of the medication being ordered and classified in the two `DataFrames` respectively. Since we don't want to show lines that have missing values, we will stick with the `inner` merge strategy, which is the default for `pandas.DataFrame.merge()`. To do this we will call `merge()` with the `spending_df` `DataFrame` and pass it the `med_class` `DataFrame` and set the parameters `left_on=\"medication\"`, `right_on=\"medication_name\"`. Though it could be omitted, we will include `how=\"inner\"` to keep our code clean and readable. Notice that we are going to have to set the `left_on` and `right_on` parameters since the columns holding the name of the medication being ordered and classified in their respective `DataFrames` are labeled differently; in `spending_df` the medication column is labeled 'medication', while in `med_class` it is labeled 'medication_name'. This is a common situation and something you will need to be careful about when working with real world data sets.\n",
    "\n",
    "```python\n",
    ">>> spending_df.merge(med_class, left_on=\"medication\", right_on=\"medication_name\", how=\"inner\").head(n=3)\n",
    "    doctor_id        specialty     medication        ...          antibiotic_drug  high_risk antipsychotic_drug\n",
    "0  1255626040  FAMILY PRACTICE  METFORMIN HCL        ...                        N          N                 N \n",
    "1  1912118928  FAMILY PRACTICE  METFORMIN HCL        ...                        N          N                 N \n",
    "2  1023116894  FAMILY PRACTICE  METFORMIN HCL        ...                        N          N                 N \n",
    "\n",
    "[3 rows x 10 columns]\n",
    "```\n",
    "\n",
    "In the example above, we chained the `head()` method call to the returned `DataFrame` to save space, but the result of merging the two `DataFrames` is still clear from the output. The new `DataFrame` created by merging the `spending_df` and `med_class` is a `DataFrame` that is ten columns wide since it contains all the columns from both `DataFrames`. Also, since we used the `inner` join, only rows with key values (in our case the key is the medication) are present in both `DataFrames`. "
   ]
  },
  {
   "cell_type": "code",
   "execution_count": 0,
   "metadata": {
    "colab": {},
    "colab_type": "code",
    "id": "vTQlwB_FwOAS"
   },
   "outputs": [],
   "source": [
    "spending_df.merge(med_class, left_on=\"medication\", right_on=\"medication_name\", how=\"inner\").head()"
   ]
  },
  {
   "cell_type": "markdown",
   "metadata": {
    "colab_type": "text",
    "id": "hz-Obba6bw5s"
   },
   "source": [
    "# Concatenation\n",
    "\n",
    "---\n",
    "\n",
    "Concatenating data consists of stacking it along an `axis`; this is also known as *binding* or *stacking*. Concatenation enables joining multiple `DataFrames` into a single larger one. Concatenating data sets is slightly different than merging, as it is done in `pandas`, since concatenation simply extends and aligns the `DataFrames` by either index or column and sticks the `DataFrames` together. Put another way, concatenation is either an outer or inner join with keys restricted to either the indices or columns.\n",
    "\n",
    "![](images/stacking.png)\n",
    "\n",
    "The image above demonstrates two different ways we can concatenate `DataFrames`: row and column based outer joins. Row based concatenation will stack rows and column based concatenation will stack columns. \n",
    "\n",
    "Concatenation is implemented by `pandas` in the `concat()` function; note that this is a `function`,  not a `DataFrame` object method. The `concat()` function takes one required argument which is a list of the `DataFrames` that are to be concatenated. The optional parameters include `axis` and `join`. By setting `axis=0`, `concat()` will stack rows,  while `axis=1` will tell `concat()` to stack columns. The `join` parameter can either be set to 'outer' (default) or 'inner', to perform an outer or inner join respectively. \n",
    "\n",
    "For instance, let us see how we would perform the row based concatenation illustrated in the image above. First we would build our `DataFrames`, `df1` and `df2`,  and then we would call the `pandas` `concat()` function passing it the argument `[df1, df2]` which indicates that we want to merge `df1` and `df2`. Although the default settings are correct for this task, we can set `axis=0` and `join='outer'` for clarity.\n",
    "\n",
    "```python\n",
    ">>> df1 = pd.DataFrame({'X':[1,2,3], 'Y':['A','E','C']}, index=[1,2,3])\n",
    ">>> df2 = pd.DataFrame({'X':[4,5,6], 'Y':['F','B','A']}, index=[2,3,4])\n",
    ">>> pd.concat([df1, df2], axis=0, join='outer')\n",
    "   X  Y\n",
    "1  1  A\n",
    "2  2  E\n",
    "3  3  C\n",
    "2  4  F\n",
    "3  5  B\n",
    "4  6  A\n",
    "```\n",
    "\n",
    "The result is the same `DataFrame` seen in the image in this cell for row based concatenation. \n"
   ]
  },
  {
   "cell_type": "markdown",
   "metadata": {
    "colab_type": "text",
    "id": "LHYkKzc5xyzh"
   },
   "source": [
    "# Summary\n",
    "\n",
    "**Merging**\n",
    "\n",
    "* The `DataFrame` method  [`merge()`](https://pandas.pydata.org/pandas-docs/stable/generated/pandas.DataFrame.merge.html) implements merging `DataFrames`. \n",
    "\n",
    "* `merge()` operates by default on `columns` with the same name across the `DataFrames`, which is the intersection of the columns.\n",
    "\n",
    "  * This default behavior can be modified by explicitly passing a column name (label) to the parameter `on`.\n",
    "\n",
    "* When merging `DataFrames` there are 4 principal strategies, and those are:\n",
    "\n",
    "| Merge strategy | Description |\n",
    "|:--------|:-------------|\n",
    "| `inner` | Keep keys that are present in both tables (intersection) |\n",
    "| `left` | Keep keys found in the left table and set the values in the right table to `NaN`  |\n",
    "| `right` | Keep keys found in the right table and set values in the left table to `NaN` |\n",
    "| `outer` | Keep the union of keys found in both right and left tables |\n",
    "\n",
    "* `merge()` can perform a different merging strategy by setting the `how` parameter.\n",
    "\n",
    "**Concatenation**\n",
    "\n",
    "* Concatenation in Python is done using the `concat()` `pandas` function.\n",
    "\n",
    "* Concatenation is an outer or inner join with keys restricted to either the indices or columns.\n",
    "\n",
    "* By setting `axis=0`(default), `concat()` will stack rows,  while `axis=1` will tell `concat()` to stack columns. The `join` parameter can either be set to 'outer' (default) or 'inner', to perform an outer or inner join respectively. \n"
   ]
  }
 ],
 "metadata": {
  "colab": {
   "collapsed_sections": [],
   "name": "5_Combining_DataFrames.ipynb",
   "provenance": [],
   "version": "0.3.2"
  },
  "kernelspec": {
   "display_name": "Python 3",
   "language": "python",
   "name": "python3"
  },
  "language_info": {
   "codemirror_mode": {
    "name": "ipython",
    "version": 3
   },
   "file_extension": ".py",
   "mimetype": "text/x-python",
   "name": "python",
   "nbconvert_exporter": "python",
   "pygments_lexer": "ipython3",
   "version": "3.6.6"
  }
 },
 "nbformat": 4,
 "nbformat_minor": 1
}
